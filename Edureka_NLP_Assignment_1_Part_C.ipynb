{
  "nbformat": 4,
  "nbformat_minor": 0,
  "metadata": {
    "colab": {
      "name": "Edureka NLP Assignment 1 - Part C.ipynb",
      "provenance": [],
      "authorship_tag": "ABX9TyPEJd5Gx6mP/qOe+JdJTJkK",
      "include_colab_link": true
    },
    "kernelspec": {
      "name": "python3",
      "display_name": "Python 3"
    },
    "language_info": {
      "name": "python"
    }
  },
  "cells": [
    {
      "cell_type": "markdown",
      "metadata": {
        "id": "view-in-github",
        "colab_type": "text"
      },
      "source": [
        "<a href=\"https://colab.research.google.com/github/nandinib1999/edureka-assignments/blob/main/Edureka_NLP_Assignment_1_Part_C.ipynb\" target=\"_parent\"><img src=\"https://colab.research.google.com/assets/colab-badge.svg\" alt=\"Open In Colab\"/></a>"
      ]
    },
    {
      "cell_type": "code",
      "metadata": {
        "id": "78XZBW7Wuuci"
      },
      "source": [
        "import nltk"
      ],
      "execution_count": 1,
      "outputs": []
    },
    {
      "cell_type": "code",
      "metadata": {
        "colab": {
          "base_uri": "https://localhost:8080/"
        },
        "id": "hWw4d-CLvIns",
        "outputId": "f8cdc968-a786-4f3d-ddc6-22ac1aff4e20"
      },
      "source": [
        "dir(nltk.corpus)"
      ],
      "execution_count": 4,
      "outputs": [
        {
          "output_type": "execute_result",
          "data": {
            "text/plain": [
              "['AlignedCorpusReader',\n",
              " 'AlpinoCorpusReader',\n",
              " 'BNCCorpusReader',\n",
              " 'BracketParseCorpusReader',\n",
              " 'CHILDESCorpusReader',\n",
              " 'CMUDictCorpusReader',\n",
              " 'CategorizedBracketParseCorpusReader',\n",
              " 'CategorizedCorpusReader',\n",
              " 'CategorizedPlaintextCorpusReader',\n",
              " 'CategorizedSentencesCorpusReader',\n",
              " 'CategorizedTaggedCorpusReader',\n",
              " 'ChasenCorpusReader',\n",
              " 'ChunkedCorpusReader',\n",
              " 'ComparativeSentencesCorpusReader',\n",
              " 'ConllChunkCorpusReader',\n",
              " 'ConllCorpusReader',\n",
              " 'CorpusReader',\n",
              " 'CrubadanCorpusReader',\n",
              " 'DependencyCorpusReader',\n",
              " 'EuroparlCorpusReader',\n",
              " 'FramenetCorpusReader',\n",
              " 'IEERCorpusReader',\n",
              " 'IPIPANCorpusReader',\n",
              " 'IndianCorpusReader',\n",
              " 'KNBCorpusReader',\n",
              " 'LazyCorpusLoader',\n",
              " 'LinThesaurusCorpusReader',\n",
              " 'MTECorpusReader',\n",
              " 'MWAPPDBCorpusReader',\n",
              " 'MacMorphoCorpusReader',\n",
              " 'NKJPCorpusReader',\n",
              " 'NPSChatCorpusReader',\n",
              " 'NombankCorpusReader',\n",
              " 'NonbreakingPrefixesCorpusReader',\n",
              " 'OpinionLexiconCorpusReader',\n",
              " 'PPAttachmentCorpusReader',\n",
              " 'PanLexLiteCorpusReader',\n",
              " 'Pl196xCorpusReader',\n",
              " 'PlaintextCorpusReader',\n",
              " 'PortugueseCategorizedPlaintextCorpusReader',\n",
              " 'PropbankCorpusReader',\n",
              " 'ProsConsCorpusReader',\n",
              " 'RTECorpusReader',\n",
              " 'RegexpTokenizer',\n",
              " 'ReviewsCorpusReader',\n",
              " 'SemcorCorpusReader',\n",
              " 'SensevalCorpusReader',\n",
              " 'SentiSynset',\n",
              " 'SentiWordNetCorpusReader',\n",
              " 'SinicaTreebankCorpusReader',\n",
              " 'StringCategoryCorpusReader',\n",
              " 'SwadeshCorpusReader',\n",
              " 'SwitchboardCorpusReader',\n",
              " 'SyntaxCorpusReader',\n",
              " 'TEICorpusView',\n",
              " 'TaggedCorpusReader',\n",
              " 'TimitCorpusReader',\n",
              " 'TimitTaggedCorpusReader',\n",
              " 'ToolboxCorpusReader',\n",
              " 'TwitterCorpusReader',\n",
              " 'UdhrCorpusReader',\n",
              " 'UnicharsCorpusReader',\n",
              " 'VerbnetCorpusReader',\n",
              " 'WordListCorpusReader',\n",
              " 'WordNetCorpusReader',\n",
              " 'WordNetICCorpusReader',\n",
              " 'XMLCorpusReader',\n",
              " 'YCOECorpusReader',\n",
              " '_LazyModule__lazymodule_globals',\n",
              " '_LazyModule__lazymodule_import',\n",
              " '_LazyModule__lazymodule_init',\n",
              " '_LazyModule__lazymodule_loaded',\n",
              " '_LazyModule__lazymodule_locals',\n",
              " '_LazyModule__lazymodule_name',\n",
              " '__builtins__',\n",
              " '__cached__',\n",
              " '__class__',\n",
              " '__delattr__',\n",
              " '__dict__',\n",
              " '__dir__',\n",
              " '__doc__',\n",
              " '__eq__',\n",
              " '__file__',\n",
              " '__format__',\n",
              " '__ge__',\n",
              " '__getattr__',\n",
              " '__getattribute__',\n",
              " '__gt__',\n",
              " '__hash__',\n",
              " '__init__',\n",
              " '__init_subclass__',\n",
              " '__lazymodule_loaded',\n",
              " '__le__',\n",
              " '__loader__',\n",
              " '__lt__',\n",
              " '__module__',\n",
              " '__name__',\n",
              " '__ne__',\n",
              " '__new__',\n",
              " '__package__',\n",
              " '__path__',\n",
              " '__reduce__',\n",
              " '__reduce_ex__',\n",
              " '__repr__',\n",
              " '__setattr__',\n",
              " '__sizeof__',\n",
              " '__spec__',\n",
              " '__str__',\n",
              " '__subclasshook__',\n",
              " '__weakref__',\n",
              " 'abc',\n",
              " 'alpino',\n",
              " 'brown',\n",
              " 'cess_cat',\n",
              " 'cess_esp',\n",
              " 'cmudict',\n",
              " 'comparative_sentences',\n",
              " 'comtrans',\n",
              " 'conll2000',\n",
              " 'conll2002',\n",
              " 'conll2007',\n",
              " 'crubadan',\n",
              " 'demo',\n",
              " 'dependency_treebank',\n",
              " 'find_corpus_fileids',\n",
              " 'floresta',\n",
              " 'framenet',\n",
              " 'framenet15',\n",
              " 'gazetteers',\n",
              " 'genesis',\n",
              " 'gutenberg',\n",
              " 'ieer',\n",
              " 'inaugural',\n",
              " 'indian',\n",
              " 'jeita',\n",
              " 'knbc',\n",
              " 'lin_thesaurus',\n",
              " 'mac_morpho',\n",
              " 'machado',\n",
              " 'masc_tagged',\n",
              " 'movie_reviews',\n",
              " 'multext_east',\n",
              " 'names',\n",
              " 'nombank',\n",
              " 'nombank_ptb',\n",
              " 'nonbreaking_prefixes',\n",
              " 'nps_chat',\n",
              " 'opinion_lexicon',\n",
              " 'perluniprops',\n",
              " 'ppattach',\n",
              " 'product_reviews_1',\n",
              " 'product_reviews_2',\n",
              " 'propbank',\n",
              " 'propbank_ptb',\n",
              " 'pros_cons',\n",
              " 'ptb',\n",
              " 'qc',\n",
              " 're',\n",
              " 'reader',\n",
              " 'reuters',\n",
              " 'rte',\n",
              " 'semcor',\n",
              " 'senseval',\n",
              " 'sentence_polarity',\n",
              " 'sentiwordnet',\n",
              " 'shakespeare',\n",
              " 'sinica_treebank',\n",
              " 'state_union',\n",
              " 'stopwords',\n",
              " 'subjectivity',\n",
              " 'swadesh',\n",
              " 'swadesh110',\n",
              " 'swadesh207',\n",
              " 'switchboard',\n",
              " 'tagged_treebank_para_block_reader',\n",
              " 'teardown_module',\n",
              " 'timit',\n",
              " 'timit_tagged',\n",
              " 'toolbox',\n",
              " 'treebank',\n",
              " 'treebank_chunk',\n",
              " 'treebank_raw',\n",
              " 'twitter_samples',\n",
              " 'udhr',\n",
              " 'udhr2',\n",
              " 'universal_treebanks',\n",
              " 'util',\n",
              " 'verbnet',\n",
              " 'webtext',\n",
              " 'wordnet',\n",
              " 'wordnet_ic',\n",
              " 'words']"
            ]
          },
          "metadata": {
            "tags": []
          },
          "execution_count": 4
        }
      ]
    },
    {
      "cell_type": "code",
      "metadata": {
        "colab": {
          "base_uri": "https://localhost:8080/"
        },
        "id": "ELPXPCeFvZx-",
        "outputId": "25d4c948-d0d5-46ac-b326-a0114e4abb16"
      },
      "source": [
        "nltk.download('twitter_samples')"
      ],
      "execution_count": 12,
      "outputs": [
        {
          "output_type": "stream",
          "text": [
            "[nltk_data] Downloading package twitter_samples to /root/nltk_data...\n",
            "[nltk_data]   Package twitter_samples is already up-to-date!\n"
          ],
          "name": "stdout"
        },
        {
          "output_type": "execute_result",
          "data": {
            "text/plain": [
              "True"
            ]
          },
          "metadata": {
            "tags": []
          },
          "execution_count": 12
        }
      ]
    },
    {
      "cell_type": "code",
      "metadata": {
        "colab": {
          "base_uri": "https://localhost:8080/"
        },
        "id": "Zq4k5fa2wFA0",
        "outputId": "f80c90f5-e37e-4135-d8a1-bd0493a0fffd"
      },
      "source": [
        "nltk.corpus.twitter_samples.fileids()"
      ],
      "execution_count": 13,
      "outputs": [
        {
          "output_type": "execute_result",
          "data": {
            "text/plain": [
              "['negative_tweets.json', 'positive_tweets.json', 'tweets.20150430-223406.json']"
            ]
          },
          "metadata": {
            "tags": []
          },
          "execution_count": 13
        }
      ]
    },
    {
      "cell_type": "code",
      "metadata": {
        "colab": {
          "base_uri": "https://localhost:8080/"
        },
        "id": "BUSIIpTDv5WP",
        "outputId": "fe45f132-abdc-4e87-9cef-7a8518d20996"
      },
      "source": [
        "nltk.download('swadesh')\n",
        "nltk.download('gutenberg')"
      ],
      "execution_count": 11,
      "outputs": [
        {
          "output_type": "stream",
          "text": [
            "[nltk_data] Downloading package swadesh to /root/nltk_data...\n",
            "[nltk_data]   Package swadesh is already up-to-date!\n",
            "[nltk_data] Downloading package gutenberg to /root/nltk_data...\n",
            "[nltk_data]   Unzipping corpora/gutenberg.zip.\n"
          ],
          "name": "stdout"
        },
        {
          "output_type": "execute_result",
          "data": {
            "text/plain": [
              "True"
            ]
          },
          "metadata": {
            "tags": []
          },
          "execution_count": 11
        }
      ]
    },
    {
      "cell_type": "code",
      "metadata": {
        "colab": {
          "base_uri": "https://localhost:8080/"
        },
        "id": "9qH-Y2scv_tm",
        "outputId": "0d0d5bb5-c97c-4853-8a31-9186a6a9c768"
      },
      "source": [
        "nltk.corpus.gutenberg.fileids()"
      ],
      "execution_count": 14,
      "outputs": [
        {
          "output_type": "execute_result",
          "data": {
            "text/plain": [
              "['austen-emma.txt',\n",
              " 'austen-persuasion.txt',\n",
              " 'austen-sense.txt',\n",
              " 'bible-kjv.txt',\n",
              " 'blake-poems.txt',\n",
              " 'bryant-stories.txt',\n",
              " 'burgess-busterbrown.txt',\n",
              " 'carroll-alice.txt',\n",
              " 'chesterton-ball.txt',\n",
              " 'chesterton-brown.txt',\n",
              " 'chesterton-thursday.txt',\n",
              " 'edgeworth-parents.txt',\n",
              " 'melville-moby_dick.txt',\n",
              " 'milton-paradise.txt',\n",
              " 'shakespeare-caesar.txt',\n",
              " 'shakespeare-hamlet.txt',\n",
              " 'shakespeare-macbeth.txt',\n",
              " 'whitman-leaves.txt']"
            ]
          },
          "metadata": {
            "tags": []
          },
          "execution_count": 14
        }
      ]
    },
    {
      "cell_type": "code",
      "metadata": {
        "id": "FyzufPhRwi2_"
      },
      "source": [
        "with open(\"Macbeth.txt\", \"w\") as f:\n",
        "    f.write(nltk.corpus.gutenberg.raw('shakespeare-macbeth.txt'))"
      ],
      "execution_count": 15,
      "outputs": []
    },
    {
      "cell_type": "code",
      "metadata": {
        "id": "EfNqBTTlxZZN"
      },
      "source": [
        "with open(\"Macbeth.txt\") as f:\n",
        "  text = f.readlines()"
      ],
      "execution_count": 21,
      "outputs": []
    },
    {
      "cell_type": "code",
      "metadata": {
        "id": "AG_7hLkZxg5-"
      },
      "source": [
        "from string import punctuation\n",
        "\n",
        "article_count = 0\n",
        "for line in text:\n",
        "  for word in line.split(\" \"):\n",
        "    if word == \"\\n\":\n",
        "      pass\n",
        "    elif word.lower() in ['a', 'an', 'the']:\n",
        "      word = word.strip(punctuation)\n",
        "      article_count += 1"
      ],
      "execution_count": 28,
      "outputs": []
    },
    {
      "cell_type": "code",
      "metadata": {
        "colab": {
          "base_uri": "https://localhost:8080/"
        },
        "id": "VRfU7vcVyH1g",
        "outputId": "7448ad07-7330-4dc2-cc4e-67358cf910ce"
      },
      "source": [
        "article_count"
      ],
      "execution_count": 27,
      "outputs": [
        {
          "output_type": "execute_result",
          "data": {
            "text/plain": [
              "909"
            ]
          },
          "metadata": {
            "tags": []
          },
          "execution_count": 27
        }
      ]
    },
    {
      "cell_type": "code",
      "metadata": {
        "id": "4p6BYnejyXFh"
      },
      "source": [
        "with open(\"Macbeth-ArticlesRemoved.txt\", \"w\") as f:\n",
        "  for line in text:\n",
        "    f.write(line)"
      ],
      "execution_count": 29,
      "outputs": []
    },
    {
      "cell_type": "code",
      "metadata": {
        "id": "84bvzly-yl_N"
      },
      "source": [
        "import re\n",
        "\n",
        "updated_text = []\n",
        "for line in text:\n",
        "  # Replace punctuations with whitespace\n",
        "  line_pr = re.sub(\"[^A-Za-z0-9\\s]\", \" \", line)\n",
        "  # Replace multiple continous whitespaces with a single whitespace\n",
        "  line_pr = re.sub(\"\\s+\", \" \", line_pr)\n",
        "  updated_text.append(line_pr)"
      ],
      "execution_count": 34,
      "outputs": []
    },
    {
      "cell_type": "code",
      "metadata": {
        "id": "oOTidUFUz22q"
      },
      "source": [
        "with open(\"Macbeth-punctuationsRemoved.txt\", \"w\") as f:\n",
        "  for line in updated_text:\n",
        "    f.write(line)"
      ],
      "execution_count": 35,
      "outputs": []
    },
    {
      "cell_type": "code",
      "metadata": {
        "colab": {
          "base_uri": "https://localhost:8080/"
        },
        "id": "wu7jSnAh0Iig",
        "outputId": "a3258746-1dba-4895-b7b2-84d32acdcfea"
      },
      "source": [
        "nltk.download('names')"
      ],
      "execution_count": 36,
      "outputs": [
        {
          "output_type": "stream",
          "text": [
            "[nltk_data] Downloading package names to /root/nltk_data...\n",
            "[nltk_data]   Unzipping corpora/names.zip.\n"
          ],
          "name": "stdout"
        },
        {
          "output_type": "execute_result",
          "data": {
            "text/plain": [
              "True"
            ]
          },
          "metadata": {
            "tags": []
          },
          "execution_count": 36
        }
      ]
    },
    {
      "cell_type": "code",
      "metadata": {
        "id": "SchBzSGH0NPN"
      },
      "source": [
        "names_text = nltk.corpus.names.raw()\n",
        "names_list = names_text.split(\"\\n\")"
      ],
      "execution_count": 39,
      "outputs": []
    },
    {
      "cell_type": "code",
      "metadata": {
        "colab": {
          "base_uri": "https://localhost:8080/"
        },
        "id": "Q0HbOyXL0dTm",
        "outputId": "64a97337-67e8-40f6-8796-eee8a5e848f9"
      },
      "source": [
        "names_list[:10]"
      ],
      "execution_count": 40,
      "outputs": [
        {
          "output_type": "execute_result",
          "data": {
            "text/plain": [
              "['Abagael',\n",
              " 'Abagail',\n",
              " 'Abbe',\n",
              " 'Abbey',\n",
              " 'Abbi',\n",
              " 'Abbie',\n",
              " 'Abby',\n",
              " 'Abigael',\n",
              " 'Abigail',\n",
              " 'Abigale']"
            ]
          },
          "metadata": {
            "tags": []
          },
          "execution_count": 40
        }
      ]
    },
    {
      "cell_type": "code",
      "metadata": {
        "colab": {
          "base_uri": "https://localhost:8080/"
        },
        "id": "KODGMJrc0fhX",
        "outputId": "e8ffe210-d834-476d-8f8b-06f9c3c9aa21"
      },
      "source": [
        "len(names_list)"
      ],
      "execution_count": 41,
      "outputs": [
        {
          "output_type": "execute_result",
          "data": {
            "text/plain": [
              "7945"
            ]
          },
          "metadata": {
            "tags": []
          },
          "execution_count": 41
        }
      ]
    },
    {
      "cell_type": "code",
      "metadata": {
        "colab": {
          "base_uri": "https://localhost:8080/"
        },
        "id": "B3w-gg_i0mZC",
        "outputId": "bfd26dcd-8224-4500-d80e-9d3281b7277f"
      },
      "source": [
        "start_with_counter = {}\n",
        "for name in names_list:\n",
        "  if len(name) > 0:\n",
        "    start = name.lower()[0]\n",
        "    if start not in start_with_counter.keys():\n",
        "      start_with_counter[start] = 1\n",
        "    else:\n",
        "      start_with_counter[start] += 1\n",
        "\n",
        "start_with_counter"
      ],
      "execution_count": 44,
      "outputs": [
        {
          "output_type": "execute_result",
          "data": {
            "text/plain": [
              "{'a': 656,\n",
              " 'b': 419,\n",
              " 'c': 635,\n",
              " 'd': 454,\n",
              " 'e': 370,\n",
              " 'f': 231,\n",
              " 'g': 369,\n",
              " 'h': 287,\n",
              " 'i': 128,\n",
              " 'j': 437,\n",
              " 'k': 346,\n",
              " 'l': 445,\n",
              " 'm': 684,\n",
              " 'n': 235,\n",
              " 'o': 118,\n",
              " 'p': 222,\n",
              " 'q': 24,\n",
              " 'r': 447,\n",
              " 's': 547,\n",
              " 't': 386,\n",
              " 'u': 36,\n",
              " 'v': 155,\n",
              " 'w': 205,\n",
              " 'x': 12,\n",
              " 'y': 34,\n",
              " 'z': 62}"
            ]
          },
          "metadata": {
            "tags": []
          },
          "execution_count": 44
        }
      ]
    },
    {
      "cell_type": "code",
      "metadata": {
        "colab": {
          "base_uri": "https://localhost:8080/",
          "height": 350
        },
        "id": "Bmka0Weq1ESw",
        "outputId": "24085dab-777b-4d62-e9b1-75c792a0a1d7"
      },
      "source": [
        "import matplotlib.pyplot as plt\n",
        "\n",
        "plt.figure(figsize=(15, 5))\n",
        "plt.bar(start_with_counter.keys(), start_with_counter.values())\n",
        "plt.xlabel('Starting Alphabet')\n",
        "plt.ylabel('Frequency of Names')\n",
        "plt.title('Frequency of Names of Each Alphabet')\n",
        "plt.savefig('FrequencyOfNamesOfEachAlphabet.png')\n",
        "plt.show()"
      ],
      "execution_count": 56,
      "outputs": [
        {
          "output_type": "display_data",
          "data": {
            "image/png": "[encoded data removed]",
            "text/plain": [
              "<Figure size 1080x360 with 1 Axes>"
            ]
          },
          "metadata": {
            "tags": [],
            "needs_background": "light"
          }
        }
      ]
    }
  ]
}