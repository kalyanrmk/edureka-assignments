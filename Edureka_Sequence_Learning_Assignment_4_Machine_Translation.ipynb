{
  "nbformat": 4,
  "nbformat_minor": 0,
  "metadata": {
    "kernelspec": {
      "display_name": "Python 3",
      "language": "python",
      "name": "python3"
    },
    "language_info": {
      "codemirror_mode": {
        "name": "ipython",
        "version": 3
      },
      "file_extension": ".py",
      "mimetype": "text/x-python",
      "name": "python",
      "nbconvert_exporter": "python",
      "pygments_lexer": "ipython3",
      "version": "3.6.4"
    },
    "colab": {
      "name": "Edureka Sequence Learning Assignment 4 - Machine Translation.ipynb",
      "provenance": [],
      "collapsed_sections": [],
      "include_colab_link": true
    },
    "accelerator": "GPU"
  },
  "cells": [
    {
      "cell_type": "markdown",
      "metadata": {
        "id": "view-in-github",
        "colab_type": "text"
      },
      "source": [
        "<a href=\"https://colab.research.google.com/github/nandinib1999/edureka-assignments/blob/main/Edureka_Sequence_Learning_Assignment_4_Machine_Translation.ipynb\" target=\"_parent\"><img src=\"https://colab.research.google.com/assets/colab-badge.svg\" alt=\"Open In Colab\"/></a>"
      ]
    },
    {
      "cell_type": "code",
      "metadata": {
        "colab": {
          "base_uri": "https://localhost:8080/"
        },
        "id": "miHk-78pJ0q9",
        "outputId": "f1f71f07-2389-47ee-aa67-5571be931f25"
      },
      "source": [
        "from google.colab import drive\n",
        "drive.mount('/content/drive')"
      ],
      "execution_count": 1,
      "outputs": [
        {
          "output_type": "stream",
          "text": [
            "Mounted at /content/drive\n"
          ],
          "name": "stdout"
        }
      ]
    },
    {
      "cell_type": "code",
      "metadata": {
        "_cell_guid": "b1076dfc-b9ad-4769-8c92-a6c4dae69d19",
        "_uuid": "8f2839f25d086af736a60e9eeb907d3b93b6e0e5",
        "id": "LDrrjKGwJoeS"
      },
      "source": [
        "import numpy as np \n",
        "import pandas as pd\n",
        "\n",
        "import os\n",
        "import string\n",
        "from string import digits\n",
        "import matplotlib.pyplot as plt\n",
        "%matplotlib inline\n",
        "import re\n",
        "\n",
        "import seaborn as sns\n",
        "from sklearn.utils import shuffle\n",
        "from sklearn.model_selection import train_test_split\n",
        "from keras.layers import Input, LSTM, Embedding, Dense\n",
        "from keras.models import Model"
      ],
      "execution_count": 2,
      "outputs": []
    },
    {
      "cell_type": "code",
      "metadata": {
        "_cell_guid": "79c7e3d0-c299-4dcb-8224-4455121ee9b0",
        "_uuid": "d629ff2d2480ee46fbb7e2d37f6b5fab8052498a",
        "id": "ap5Id4x3Joeh"
      },
      "source": [
        "df=pd.read_csv(\"/content/drive/MyDrive/Hindi_English_Truncated_Corpus.csv\",encoding='utf-8')"
      ],
      "execution_count": 3,
      "outputs": []
    },
    {
      "cell_type": "code",
      "metadata": {
        "colab": {
          "base_uri": "https://localhost:8080/"
        },
        "id": "8uSOM1bOJoei",
        "outputId": "31d74344-5172-4100-c80d-ecefe958c8ba"
      },
      "source": [
        "df['source'].value_counts()"
      ],
      "execution_count": 4,
      "outputs": [
        {
          "output_type": "execute_result",
          "data": {
            "text/plain": [
              "tides        50000\n",
              "ted          39881\n",
              "indic2012    37726\n",
              "Name: source, dtype: int64"
            ]
          },
          "metadata": {
            "tags": []
          },
          "execution_count": 4
        }
      ]
    },
    {
      "cell_type": "code",
      "metadata": {
        "id": "73L_X3_NJoej"
      },
      "source": [
        "df=df[df['source']=='ted']"
      ],
      "execution_count": 5,
      "outputs": []
    },
    {
      "cell_type": "code",
      "metadata": {
        "colab": {
          "base_uri": "https://localhost:8080/",
          "height": 669
        },
        "id": "LfODyHwpJoej",
        "outputId": "53ff7354-1e4a-4a53-ce10-6b7fc3694a55"
      },
      "source": [
        "df.head(20)"
      ],
      "execution_count": 6,
      "outputs": [
        {
          "output_type": "execute_result",
          "data": {
            "text/html": [
              "<div>\n",
              "<style scoped>\n",
              "    .dataframe tbody tr th:only-of-type {\n",
              "        vertical-align: middle;\n",
              "    }\n",
              "\n",
              "    .dataframe tbody tr th {\n",
              "        vertical-align: top;\n",
              "    }\n",
              "\n",
              "    .dataframe thead th {\n",
              "        text-align: right;\n",
              "    }\n",
              "</style>\n",
              "<table border=\"1\" class=\"dataframe\">\n",
              "  <thead>\n",
              "    <tr style=\"text-align: right;\">\n",
              "      <th></th>\n",
              "      <th>source</th>\n",
              "      <th>english_sentence</th>\n",
              "      <th>hindi_sentence</th>\n",
              "    </tr>\n",
              "  </thead>\n",
              "  <tbody>\n",
              "    <tr>\n",
              "      <th>0</th>\n",
              "      <td>ted</td>\n",
              "      <td>politicians do not have permission to do what ...</td>\n",
              "      <td>राजनीतिज्ञों के पास जो कार्य करना चाहिए, वह कर...</td>\n",
              "    </tr>\n",
              "    <tr>\n",
              "      <th>1</th>\n",
              "      <td>ted</td>\n",
              "      <td>I'd like to tell you about one such child,</td>\n",
              "      <td>मई आपको ऐसे ही एक बच्चे के बारे में बताना चाहू...</td>\n",
              "    </tr>\n",
              "    <tr>\n",
              "      <th>3</th>\n",
              "      <td>ted</td>\n",
              "      <td>what we really mean is that they're bad at not...</td>\n",
              "      <td>हम ये नहीं कहना चाहते कि वो ध्यान नहीं दे पाते</td>\n",
              "    </tr>\n",
              "    <tr>\n",
              "      <th>7</th>\n",
              "      <td>ted</td>\n",
              "      <td>And who are we to say, even, that they are wrong</td>\n",
              "      <td>और हम होते कौन हैं यह कहने भी वाले कि वे गलत हैं</td>\n",
              "    </tr>\n",
              "    <tr>\n",
              "      <th>13</th>\n",
              "      <td>ted</td>\n",
              "      <td>So there is some sort of justice</td>\n",
              "      <td>तो वहाँ न्याय है</td>\n",
              "    </tr>\n",
              "    <tr>\n",
              "      <th>23</th>\n",
              "      <td>ted</td>\n",
              "      <td>This changed slowly</td>\n",
              "      <td>धीरे धीरे ये सब बदला</td>\n",
              "    </tr>\n",
              "    <tr>\n",
              "      <th>26</th>\n",
              "      <td>ted</td>\n",
              "      <td>were being produced.</td>\n",
              "      <td>उत्पन्न नहीं कि जाती थी.</td>\n",
              "    </tr>\n",
              "    <tr>\n",
              "      <th>30</th>\n",
              "      <td>ted</td>\n",
              "      <td>And you can see, this LED is going to glow.</td>\n",
              "      <td>और जैसा आप देख रहे है, ये एल.ई.डी. जल उठेगी।</td>\n",
              "    </tr>\n",
              "    <tr>\n",
              "      <th>32</th>\n",
              "      <td>ted</td>\n",
              "      <td>to turn on the lights or to bring him a glass ...</td>\n",
              "      <td>लाईट जलाने के लिए या उनके लिए पानी लाने के लिए,</td>\n",
              "    </tr>\n",
              "    <tr>\n",
              "      <th>35</th>\n",
              "      <td>ted</td>\n",
              "      <td>Can you imagine saying that?</td>\n",
              "      <td>क्या आप ये कल्पना कर सकते है</td>\n",
              "    </tr>\n",
              "    <tr>\n",
              "      <th>37</th>\n",
              "      <td>ted</td>\n",
              "      <td>Three: this is a good road in - right near whe...</td>\n",
              "      <td>तीसरी: ये हमारी फ़ैक्ट्री के पास की एक अपेक्षा...</td>\n",
              "    </tr>\n",
              "    <tr>\n",
              "      <th>39</th>\n",
              "      <td>ted</td>\n",
              "      <td>What's going on?”</td>\n",
              "      <td>क्या हो रहा है ये?”</td>\n",
              "    </tr>\n",
              "    <tr>\n",
              "      <th>42</th>\n",
              "      <td>ted</td>\n",
              "      <td>There are also financial reforms in rural China.</td>\n",
              "      <td>ग्रामीण चीन में आर्थिक नवीनीकरण हुये हैं।</td>\n",
              "    </tr>\n",
              "    <tr>\n",
              "      <th>49</th>\n",
              "      <td>ted</td>\n",
              "      <td>the family planning started in Vietnam and the...</td>\n",
              "      <td>वियतनाम में परिवार योजना शुरू हो गई और उनके पर...</td>\n",
              "    </tr>\n",
              "    <tr>\n",
              "      <th>51</th>\n",
              "      <td>ted</td>\n",
              "      <td>I mean, at that time, trust me,</td>\n",
              "      <td>मेरा मतलब, उस समय, सही मानिए,</td>\n",
              "    </tr>\n",
              "    <tr>\n",
              "      <th>53</th>\n",
              "      <td>ted</td>\n",
              "      <td>Not only that,</td>\n",
              "      <td>बस वही नहीं,</td>\n",
              "    </tr>\n",
              "    <tr>\n",
              "      <th>55</th>\n",
              "      <td>ted</td>\n",
              "      <td>humans destroyed the commons that they depende...</td>\n",
              "      <td>मानवों ने उन ही साझे संसाधनों को नष्ट किया जिन...</td>\n",
              "    </tr>\n",
              "    <tr>\n",
              "      <th>56</th>\n",
              "      <td>ted</td>\n",
              "      <td>Almost goes to E, but otherwise the play would...</td>\n",
              "      <td>रचना करीब करीब ई तक जाती है, मगर तब तो नाटक ख़...</td>\n",
              "    </tr>\n",
              "    <tr>\n",
              "      <th>63</th>\n",
              "      <td>ted</td>\n",
              "      <td>So I want to share with you a couple key insights</td>\n",
              "      <td>मैं आपके साथ कुछ मुख्य सूत्र बाँटना चाहता हूँ</td>\n",
              "    </tr>\n",
              "    <tr>\n",
              "      <th>66</th>\n",
              "      <td>ted</td>\n",
              "      <td>Many countries in the [unclear], they need leg...</td>\n",
              "      <td>[अस्पष्ट] के बहुत सारे राष्ट्रों को मान्यता चा...</td>\n",
              "    </tr>\n",
              "  </tbody>\n",
              "</table>\n",
              "</div>"
            ],
            "text/plain": [
              "   source  ...                                     hindi_sentence\n",
              "0     ted  ...  राजनीतिज्ञों के पास जो कार्य करना चाहिए, वह कर...\n",
              "1     ted  ...  मई आपको ऐसे ही एक बच्चे के बारे में बताना चाहू...\n",
              "3     ted  ...     हम ये नहीं कहना चाहते कि वो ध्यान नहीं दे पाते\n",
              "7     ted  ...   और हम होते कौन हैं यह कहने भी वाले कि वे गलत हैं\n",
              "13    ted  ...                                   तो वहाँ न्याय है\n",
              "23    ted  ...                               धीरे धीरे ये सब बदला\n",
              "26    ted  ...                           उत्पन्न नहीं कि जाती थी.\n",
              "30    ted  ...       और जैसा आप देख रहे है, ये एल.ई.डी. जल उठेगी।\n",
              "32    ted  ...    लाईट जलाने के लिए या उनके लिए पानी लाने के लिए,\n",
              "35    ted  ...                       क्या आप ये कल्पना कर सकते है\n",
              "37    ted  ...  तीसरी: ये हमारी फ़ैक्ट्री के पास की एक अपेक्षा...\n",
              "39    ted  ...                                क्या हो रहा है ये?”\n",
              "42    ted  ...          ग्रामीण चीन में आर्थिक नवीनीकरण हुये हैं।\n",
              "49    ted  ...  वियतनाम में परिवार योजना शुरू हो गई और उनके पर...\n",
              "51    ted  ...                      मेरा मतलब, उस समय, सही मानिए,\n",
              "53    ted  ...                                       बस वही नहीं,\n",
              "55    ted  ...  मानवों ने उन ही साझे संसाधनों को नष्ट किया जिन...\n",
              "56    ted  ...  रचना करीब करीब ई तक जाती है, मगर तब तो नाटक ख़...\n",
              "63    ted  ...      मैं आपके साथ कुछ मुख्य सूत्र बाँटना चाहता हूँ\n",
              "66    ted  ...  [अस्पष्ट] के बहुत सारे राष्ट्रों को मान्यता चा...\n",
              "\n",
              "[20 rows x 3 columns]"
            ]
          },
          "metadata": {
            "tags": []
          },
          "execution_count": 6
        }
      ]
    },
    {
      "cell_type": "code",
      "metadata": {
        "colab": {
          "base_uri": "https://localhost:8080/"
        },
        "id": "Q6kh3R2qJoel",
        "outputId": "bbce24ef-e6df-4b9c-e009-4d6dae0a6564"
      },
      "source": [
        "df.isna().sum()"
      ],
      "execution_count": 7,
      "outputs": [
        {
          "output_type": "execute_result",
          "data": {
            "text/plain": [
              "source              0\n",
              "english_sentence    0\n",
              "hindi_sentence      0\n",
              "dtype: int64"
            ]
          },
          "metadata": {
            "tags": []
          },
          "execution_count": 7
        }
      ]
    },
    {
      "cell_type": "code",
      "metadata": {
        "id": "R--nA-LlJoem",
        "colab": {
          "base_uri": "https://localhost:8080/"
        },
        "outputId": "63420af6-8d80-4285-c7a5-0b79c940d38e"
      },
      "source": [
        "df = df[~df.isna().any(axis=1)]\n",
        "df.info()"
      ],
      "execution_count": 8,
      "outputs": [
        {
          "output_type": "stream",
          "text": [
            "<class 'pandas.core.frame.DataFrame'>\n",
            "Int64Index: 39881 entries, 0 to 127606\n",
            "Data columns (total 3 columns):\n",
            " #   Column            Non-Null Count  Dtype \n",
            "---  ------            --------------  ----- \n",
            " 0   source            39881 non-null  object\n",
            " 1   english_sentence  39881 non-null  object\n",
            " 2   hindi_sentence    39881 non-null  object\n",
            "dtypes: object(3)\n",
            "memory usage: 1.2+ MB\n"
          ],
          "name": "stdout"
        }
      ]
    },
    {
      "cell_type": "code",
      "metadata": {
        "id": "ln_vlL4tJoen",
        "colab": {
          "base_uri": "https://localhost:8080/"
        },
        "outputId": "449b0a29-db32-469f-8a58-007089e97102"
      },
      "source": [
        "df.drop_duplicates(inplace=True)\n",
        "df.shape"
      ],
      "execution_count": 9,
      "outputs": [
        {
          "output_type": "execute_result",
          "data": {
            "text/plain": [
              "(38803, 3)"
            ]
          },
          "metadata": {
            "tags": []
          },
          "execution_count": 9
        }
      ]
    },
    {
      "cell_type": "code",
      "metadata": {
        "colab": {
          "base_uri": "https://localhost:8080/"
        },
        "id": "9xZLme10Joeo",
        "outputId": "3a2a8ba6-a686-4d77-c2c7-1cb1531539a0"
      },
      "source": [
        "df=df.sample(n=25000,random_state=42)\n",
        "df.shape"
      ],
      "execution_count": 10,
      "outputs": [
        {
          "output_type": "execute_result",
          "data": {
            "text/plain": [
              "(25000, 3)"
            ]
          },
          "metadata": {
            "tags": []
          },
          "execution_count": 10
        }
      ]
    },
    {
      "cell_type": "code",
      "metadata": {
        "id": "Cs4yV8G_Joep"
      },
      "source": [
        "# Lowercase all characters\n",
        "df['english_sentence']=df['english_sentence'].apply(lambda x: x.lower())\n",
        "df['hindi_sentence']=df['hindi_sentence'].apply(lambda x: x.lower())\n",
        "\n",
        "# Remove quotes\n",
        "df['english_sentence']=df['english_sentence'].apply(lambda x: re.sub(\"'\", '', x))\n",
        "df['hindi_sentence']=df['hindi_sentence'].apply(lambda x: re.sub(\"'\", '', x))\n",
        "\n",
        "exclude = set(string.punctuation) # Set of all special characters\n",
        "# Remove all the special characters\n",
        "df['english_sentence']=df['english_sentence'].apply(lambda x: ''.join(ch for ch in x if ch not in exclude))\n",
        "df['hindi_sentence']=df['hindi_sentence'].apply(lambda x: ''.join(ch for ch in x if ch not in exclude))\n",
        "\n",
        "# Remove all numbers from text\n",
        "remove_digits = str.maketrans('', '', digits)\n",
        "df['english_sentence']=df['english_sentence'].apply(lambda x: x.translate(remove_digits))\n",
        "df['hindi_sentence']=df['hindi_sentence'].apply(lambda x: x.translate(remove_digits))\n",
        "\n",
        "df['hindi_sentence'] = df['hindi_sentence'].apply(lambda x: re.sub(\"[२३०८१५७९४६]\", \"\", x))\n",
        "\n",
        "# Remove extra spaces\n",
        "df['english_sentence']=df['english_sentence'].apply(lambda x: x.strip())\n",
        "df['hindi_sentence']=df['hindi_sentence'].apply(lambda x: x.strip())\n",
        "df['english_sentence']=df['english_sentence'].apply(lambda x: re.sub(\" +\", \" \", x))\n",
        "df['hindi_sentence']=df['hindi_sentence'].apply(lambda x: re.sub(\" +\", \" \", x))"
      ],
      "execution_count": 11,
      "outputs": []
    },
    {
      "cell_type": "code",
      "metadata": {
        "id": "bk8PRH_SJoer"
      },
      "source": [
        "# Add start and end tokens to target sequences\n",
        "df['hindi_sentence'] = df['hindi_sentence'].apply(lambda x : 'START_ '+ x + ' _END')"
      ],
      "execution_count": 12,
      "outputs": []
    },
    {
      "cell_type": "code",
      "metadata": {
        "colab": {
          "base_uri": "https://localhost:8080/"
        },
        "id": "dxh2UUHlVcOH",
        "outputId": "d1f40ec8-bd3c-4891-ae2d-0e2ece7b1a29"
      },
      "source": [
        "df.isna().sum()"
      ],
      "execution_count": 13,
      "outputs": [
        {
          "output_type": "execute_result",
          "data": {
            "text/plain": [
              "source              0\n",
              "english_sentence    0\n",
              "hindi_sentence      0\n",
              "dtype: int64"
            ]
          },
          "metadata": {
            "tags": []
          },
          "execution_count": 13
        }
      ]
    },
    {
      "cell_type": "code",
      "metadata": {
        "colab": {
          "base_uri": "https://localhost:8080/"
        },
        "id": "x0dWYAsDVe_b",
        "outputId": "b773e8bb-dceb-4e24-ae4c-bfb7eab4370b"
      },
      "source": [
        "df = df[~df.isna().any(axis=1)]\n",
        "df.info()"
      ],
      "execution_count": 14,
      "outputs": [
        {
          "output_type": "stream",
          "text": [
            "<class 'pandas.core.frame.DataFrame'>\n",
            "Int64Index: 25000 entries, 82040 to 91889\n",
            "Data columns (total 3 columns):\n",
            " #   Column            Non-Null Count  Dtype \n",
            "---  ------            --------------  ----- \n",
            " 0   source            25000 non-null  object\n",
            " 1   english_sentence  25000 non-null  object\n",
            " 2   hindi_sentence    25000 non-null  object\n",
            "dtypes: object(3)\n",
            "memory usage: 781.2+ KB\n"
          ],
          "name": "stdout"
        }
      ]
    },
    {
      "cell_type": "code",
      "metadata": {
        "colab": {
          "base_uri": "https://localhost:8080/",
          "height": 204
        },
        "id": "AOkUw1uxJoer",
        "outputId": "ab06fd02-a673-4210-e71b-35329ab75fb7"
      },
      "source": [
        "df.head()"
      ],
      "execution_count": 15,
      "outputs": [
        {
          "output_type": "execute_result",
          "data": {
            "text/html": [
              "<div>\n",
              "<style scoped>\n",
              "    .dataframe tbody tr th:only-of-type {\n",
              "        vertical-align: middle;\n",
              "    }\n",
              "\n",
              "    .dataframe tbody tr th {\n",
              "        vertical-align: top;\n",
              "    }\n",
              "\n",
              "    .dataframe thead th {\n",
              "        text-align: right;\n",
              "    }\n",
              "</style>\n",
              "<table border=\"1\" class=\"dataframe\">\n",
              "  <thead>\n",
              "    <tr style=\"text-align: right;\">\n",
              "      <th></th>\n",
              "      <th>source</th>\n",
              "      <th>english_sentence</th>\n",
              "      <th>hindi_sentence</th>\n",
              "    </tr>\n",
              "  </thead>\n",
              "  <tbody>\n",
              "    <tr>\n",
              "      <th>82040</th>\n",
              "      <td>ted</td>\n",
              "      <td>we still dont know who her parents are who she is</td>\n",
              "      <td>START_ हम अभी तक नहीं जानते हैं कि उसके मातापि...</td>\n",
              "    </tr>\n",
              "    <tr>\n",
              "      <th>85038</th>\n",
              "      <td>ted</td>\n",
              "      <td>no keyboard</td>\n",
              "      <td>START_ कोई कुंजीपटल नहीं _END</td>\n",
              "    </tr>\n",
              "    <tr>\n",
              "      <th>58018</th>\n",
              "      <td>ted</td>\n",
              "      <td>but as far as being a performer</td>\n",
              "      <td>START_ लेकिन एक कलाकार होने के साथ _END</td>\n",
              "    </tr>\n",
              "    <tr>\n",
              "      <th>74470</th>\n",
              "      <td>ted</td>\n",
              "      <td>and this particular balloon</td>\n",
              "      <td>START_ और यह खास गुब्बारा _END</td>\n",
              "    </tr>\n",
              "    <tr>\n",
              "      <th>122330</th>\n",
              "      <td>ted</td>\n",
              "      <td>and its not as hard as you think integrate cli...</td>\n",
              "      <td>START_ और जितना आपको लगता है यह उतना कठिन नहीं...</td>\n",
              "    </tr>\n",
              "  </tbody>\n",
              "</table>\n",
              "</div>"
            ],
            "text/plain": [
              "       source  ...                                     hindi_sentence\n",
              "82040     ted  ...  START_ हम अभी तक नहीं जानते हैं कि उसके मातापि...\n",
              "85038     ted  ...                      START_ कोई कुंजीपटल नहीं _END\n",
              "58018     ted  ...            START_ लेकिन एक कलाकार होने के साथ _END\n",
              "74470     ted  ...                     START_ और यह खास गुब्बारा _END\n",
              "122330    ted  ...  START_ और जितना आपको लगता है यह उतना कठिन नहीं...\n",
              "\n",
              "[5 rows x 3 columns]"
            ]
          },
          "metadata": {
            "tags": []
          },
          "execution_count": 15
        }
      ]
    },
    {
      "cell_type": "code",
      "metadata": {
        "colab": {
          "base_uri": "https://localhost:8080/"
        },
        "id": "ZtRDkKSFGAb4",
        "outputId": "f05ddbac-88b6-4224-bd2c-bd58ae7e898f"
      },
      "source": [
        "eng_vocab = []\n",
        "eng_sentences = df['english_sentence'].tolist()\n",
        "eng_maxlen = 0\n",
        "for sent in eng_sentences:\n",
        "  words = sent.split(\" \")\n",
        "  words = [x.strip() for x in words if len(x.strip()) > 0]\n",
        "  if eng_maxlen < len(words):\n",
        "    eng_maxlen = len(words)\n",
        "  eng_vocab.extend(words)\n",
        "\n",
        "\n",
        "hindi_vocab = []\n",
        "hindi_sentences = df['hindi_sentence'].tolist()\n",
        "hindi_maxlen = 0\n",
        "for sent in hindi_sentences:\n",
        "  words = sent.split(\" \")\n",
        "  words = [x.strip() for x in words if len(x.strip()) > 0]\n",
        "  if hindi_maxlen < len(words):\n",
        "    hindi_maxlen = len(words)\n",
        "  hindi_vocab.extend(words)\n",
        "\n",
        "\n",
        "all_eng_words = list(set(eng_vocab))\n",
        "all_hindi_words = list(set(hindi_vocab))\n",
        "\n",
        "print(\"English Vocab:\", len(all_eng_words))\n",
        "print(\"Hindi Vocab:\", len(all_hindi_words))"
      ],
      "execution_count": 16,
      "outputs": [
        {
          "output_type": "stream",
          "text": [
            "English Vocab: 14030\n",
            "Hindi Vocab: 17540\n"
          ],
          "name": "stdout"
        }
      ]
    },
    {
      "cell_type": "code",
      "metadata": {
        "colab": {
          "base_uri": "https://localhost:8080/"
        },
        "id": "Ar3kiGu5Joes",
        "outputId": "28841dfd-dcf6-4d18-e63a-9b3c40d2e12b"
      },
      "source": [
        "len(all_eng_words)"
      ],
      "execution_count": 17,
      "outputs": [
        {
          "output_type": "execute_result",
          "data": {
            "text/plain": [
              "14030"
            ]
          },
          "metadata": {
            "tags": []
          },
          "execution_count": 17
        }
      ]
    },
    {
      "cell_type": "code",
      "metadata": {
        "colab": {
          "base_uri": "https://localhost:8080/"
        },
        "id": "DJ0k0XndJoet",
        "outputId": "5d44fe49-191a-4715-e75c-61f9a1594695"
      },
      "source": [
        "len(all_hindi_words)"
      ],
      "execution_count": 18,
      "outputs": [
        {
          "output_type": "execute_result",
          "data": {
            "text/plain": [
              "17540"
            ]
          },
          "metadata": {
            "tags": []
          },
          "execution_count": 18
        }
      ]
    },
    {
      "cell_type": "code",
      "metadata": {
        "id": "pqJeK_YPGTIQ"
      },
      "source": [
        "from collections import Counter\n",
        "\n",
        "def word_count(vocabulary):\n",
        "    ct = Counter(vocabulary)\n",
        "    words = []\n",
        "    cnt = []\n",
        "    for i, j in ct.items():\n",
        "      if i != \"START_\" and i != \"_END\":\n",
        "        words.append(i)\n",
        "        cnt.append(j)\n",
        "    data = {\"word\":words , \"count\":cnt}\n",
        "    df = pd.DataFrame(data)\n",
        "    df = df.sort_values(by='count', ascending=False)\n",
        "    df = df.reset_index()[[\"word\",\"count\"]]\n",
        "    return df"
      ],
      "execution_count": 19,
      "outputs": []
    },
    {
      "cell_type": "code",
      "metadata": {
        "colab": {
          "base_uri": "https://localhost:8080/",
          "height": 669
        },
        "id": "Sda_Vta5GVOy",
        "outputId": "aff9a9a3-6e13-46e7-da92-cb9cf98bb54d"
      },
      "source": [
        "word_cnt = word_count(eng_vocab)\n",
        "word_cnt.head(20)"
      ],
      "execution_count": 20,
      "outputs": [
        {
          "output_type": "execute_result",
          "data": {
            "text/html": [
              "<div>\n",
              "<style scoped>\n",
              "    .dataframe tbody tr th:only-of-type {\n",
              "        vertical-align: middle;\n",
              "    }\n",
              "\n",
              "    .dataframe tbody tr th {\n",
              "        vertical-align: top;\n",
              "    }\n",
              "\n",
              "    .dataframe thead th {\n",
              "        text-align: right;\n",
              "    }\n",
              "</style>\n",
              "<table border=\"1\" class=\"dataframe\">\n",
              "  <thead>\n",
              "    <tr style=\"text-align: right;\">\n",
              "      <th></th>\n",
              "      <th>word</th>\n",
              "      <th>count</th>\n",
              "    </tr>\n",
              "  </thead>\n",
              "  <tbody>\n",
              "    <tr>\n",
              "      <th>0</th>\n",
              "      <td>the</td>\n",
              "      <td>9103</td>\n",
              "    </tr>\n",
              "    <tr>\n",
              "      <th>1</th>\n",
              "      <td>and</td>\n",
              "      <td>6268</td>\n",
              "    </tr>\n",
              "    <tr>\n",
              "      <th>2</th>\n",
              "      <td>to</td>\n",
              "      <td>5447</td>\n",
              "    </tr>\n",
              "    <tr>\n",
              "      <th>3</th>\n",
              "      <td>of</td>\n",
              "      <td>4968</td>\n",
              "    </tr>\n",
              "    <tr>\n",
              "      <th>4</th>\n",
              "      <td>a</td>\n",
              "      <td>4609</td>\n",
              "    </tr>\n",
              "    <tr>\n",
              "      <th>5</th>\n",
              "      <td>that</td>\n",
              "      <td>3560</td>\n",
              "    </tr>\n",
              "    <tr>\n",
              "      <th>6</th>\n",
              "      <td>in</td>\n",
              "      <td>3442</td>\n",
              "    </tr>\n",
              "    <tr>\n",
              "      <th>7</th>\n",
              "      <td>i</td>\n",
              "      <td>3059</td>\n",
              "    </tr>\n",
              "    <tr>\n",
              "      <th>8</th>\n",
              "      <td>is</td>\n",
              "      <td>2847</td>\n",
              "    </tr>\n",
              "    <tr>\n",
              "      <th>9</th>\n",
              "      <td>you</td>\n",
              "      <td>2813</td>\n",
              "    </tr>\n",
              "    <tr>\n",
              "      <th>10</th>\n",
              "      <td>we</td>\n",
              "      <td>2343</td>\n",
              "    </tr>\n",
              "    <tr>\n",
              "      <th>11</th>\n",
              "      <td>it</td>\n",
              "      <td>2258</td>\n",
              "    </tr>\n",
              "    <tr>\n",
              "      <th>12</th>\n",
              "      <td>this</td>\n",
              "      <td>2067</td>\n",
              "    </tr>\n",
              "    <tr>\n",
              "      <th>13</th>\n",
              "      <td>so</td>\n",
              "      <td>1601</td>\n",
              "    </tr>\n",
              "    <tr>\n",
              "      <th>14</th>\n",
              "      <td>was</td>\n",
              "      <td>1324</td>\n",
              "    </tr>\n",
              "    <tr>\n",
              "      <th>15</th>\n",
              "      <td>for</td>\n",
              "      <td>1278</td>\n",
              "    </tr>\n",
              "    <tr>\n",
              "      <th>16</th>\n",
              "      <td>they</td>\n",
              "      <td>1266</td>\n",
              "    </tr>\n",
              "    <tr>\n",
              "      <th>17</th>\n",
              "      <td>have</td>\n",
              "      <td>1259</td>\n",
              "    </tr>\n",
              "    <tr>\n",
              "      <th>18</th>\n",
              "      <td>are</td>\n",
              "      <td>1258</td>\n",
              "    </tr>\n",
              "    <tr>\n",
              "      <th>19</th>\n",
              "      <td>but</td>\n",
              "      <td>1110</td>\n",
              "    </tr>\n",
              "  </tbody>\n",
              "</table>\n",
              "</div>"
            ],
            "text/plain": [
              "    word  count\n",
              "0    the   9103\n",
              "1    and   6268\n",
              "2     to   5447\n",
              "3     of   4968\n",
              "4      a   4609\n",
              "5   that   3560\n",
              "6     in   3442\n",
              "7      i   3059\n",
              "8     is   2847\n",
              "9    you   2813\n",
              "10    we   2343\n",
              "11    it   2258\n",
              "12  this   2067\n",
              "13    so   1601\n",
              "14   was   1324\n",
              "15   for   1278\n",
              "16  they   1266\n",
              "17  have   1259\n",
              "18   are   1258\n",
              "19   but   1110"
            ]
          },
          "metadata": {
            "tags": []
          },
          "execution_count": 20
        }
      ]
    },
    {
      "cell_type": "code",
      "metadata": {
        "colab": {
          "base_uri": "https://localhost:8080/",
          "height": 380
        },
        "id": "JEWX6yVXGeTt",
        "outputId": "9dc1d633-3a73-4200-db82-9791641e4c29"
      },
      "source": [
        "import matplotlib.pyplot as plt\n",
        "\n",
        "topn = 50\n",
        "\n",
        "def plot_word_count(df, title):\n",
        "    plt.figure(figsize=(30,3))\n",
        "    plt.bar(df.index, df[\"count\"])\n",
        "    plt.yticks(fontsize=20)\n",
        "    plt.xticks(df.index,df[\"word\"], rotation=90, fontsize=20)\n",
        "    plt.title(title, fontsize=20)\n",
        "    plt.show()\n",
        "\n",
        "plot_word_count(word_cnt[:topn], title=\"The top 20 most frequently appearing words\")\n",
        "print()\n",
        "plot_word_count(word_cnt[-topn:], title=\"The least 20 most frequently appearing words\")"
      ],
      "execution_count": 21,
      "outputs": [
        {
          "output_type": "display_data",
          "data": {
            "image/png": "[encoded data removed]",
            "text/plain": [
              "<Figure size 2160x216 with 1 Axes>"
            ]
          },
          "metadata": {
            "tags": [],
            "needs_background": "light"
          }
        },
        {
          "output_type": "stream",
          "text": [
            "\n"
          ],
          "name": "stdout"
        },
        {
          "output_type": "display_data",
          "data": {
            "image/png": "[encoded data removed]",
            "text/plain": [
              "<Figure size 2160x216 with 1 Axes>"
            ]
          },
          "metadata": {
            "tags": [],
            "needs_background": "light"
          }
        }
      ]
    },
    {
      "cell_type": "code",
      "metadata": {
        "id": "t184w1UOJoet",
        "colab": {
          "base_uri": "https://localhost:8080/",
          "height": 890
        },
        "outputId": "c0f3788a-b0cb-4da1-d34a-0b7774013532"
      },
      "source": [
        "df['eng_sent_len'] = df['english_sentence'].apply(lambda x:len(x.split(\" \")))\n",
        "df['hindi_sent_len'] = df['hindi_sentence'].apply(lambda x:len(x.split(\" \")))\n",
        "df.head(20)"
      ],
      "execution_count": 22,
      "outputs": [
        {
          "output_type": "execute_result",
          "data": {
            "text/html": [
              "<div>\n",
              "<style scoped>\n",
              "    .dataframe tbody tr th:only-of-type {\n",
              "        vertical-align: middle;\n",
              "    }\n",
              "\n",
              "    .dataframe tbody tr th {\n",
              "        vertical-align: top;\n",
              "    }\n",
              "\n",
              "    .dataframe thead th {\n",
              "        text-align: right;\n",
              "    }\n",
              "</style>\n",
              "<table border=\"1\" class=\"dataframe\">\n",
              "  <thead>\n",
              "    <tr style=\"text-align: right;\">\n",
              "      <th></th>\n",
              "      <th>source</th>\n",
              "      <th>english_sentence</th>\n",
              "      <th>hindi_sentence</th>\n",
              "      <th>eng_sent_len</th>\n",
              "      <th>hindi_sent_len</th>\n",
              "    </tr>\n",
              "  </thead>\n",
              "  <tbody>\n",
              "    <tr>\n",
              "      <th>82040</th>\n",
              "      <td>ted</td>\n",
              "      <td>we still dont know who her parents are who she is</td>\n",
              "      <td>START_ हम अभी तक नहीं जानते हैं कि उसके मातापि...</td>\n",
              "      <td>11</td>\n",
              "      <td>16</td>\n",
              "    </tr>\n",
              "    <tr>\n",
              "      <th>85038</th>\n",
              "      <td>ted</td>\n",
              "      <td>no keyboard</td>\n",
              "      <td>START_ कोई कुंजीपटल नहीं _END</td>\n",
              "      <td>2</td>\n",
              "      <td>5</td>\n",
              "    </tr>\n",
              "    <tr>\n",
              "      <th>58018</th>\n",
              "      <td>ted</td>\n",
              "      <td>but as far as being a performer</td>\n",
              "      <td>START_ लेकिन एक कलाकार होने के साथ _END</td>\n",
              "      <td>7</td>\n",
              "      <td>8</td>\n",
              "    </tr>\n",
              "    <tr>\n",
              "      <th>74470</th>\n",
              "      <td>ted</td>\n",
              "      <td>and this particular balloon</td>\n",
              "      <td>START_ और यह खास गुब्बारा _END</td>\n",
              "      <td>4</td>\n",
              "      <td>6</td>\n",
              "    </tr>\n",
              "    <tr>\n",
              "      <th>122330</th>\n",
              "      <td>ted</td>\n",
              "      <td>and its not as hard as you think integrate cli...</td>\n",
              "      <td>START_ और जितना आपको लगता है यह उतना कठिन नहीं...</td>\n",
              "      <td>16</td>\n",
              "      <td>20</td>\n",
              "    </tr>\n",
              "    <tr>\n",
              "      <th>79517</th>\n",
              "      <td>ted</td>\n",
              "      <td>and saw the demo by jeff han</td>\n",
              "      <td>START_ और जेफ़ हान द्वारा प्रदर्शन देखा होगा _END</td>\n",
              "      <td>7</td>\n",
              "      <td>9</td>\n",
              "    </tr>\n",
              "    <tr>\n",
              "      <th>23089</th>\n",
              "      <td>ted</td>\n",
              "      <td>this baby is fully electric</td>\n",
              "      <td>START_ यह बच्चा पूरी तरह से बिजली से चलता है _END</td>\n",
              "      <td>5</td>\n",
              "      <td>11</td>\n",
              "    </tr>\n",
              "    <tr>\n",
              "      <th>116699</th>\n",
              "      <td>ted</td>\n",
              "      <td>kids have no or very little say in making the ...</td>\n",
              "      <td>START_ फिर भी बच्चों को नियम बनाने का बिलकुल न...</td>\n",
              "      <td>11</td>\n",
              "      <td>17</td>\n",
              "    </tr>\n",
              "    <tr>\n",
              "      <th>64132</th>\n",
              "      <td>ted</td>\n",
              "      <td>im going to add a little bit to my description...</td>\n",
              "      <td>START_ मै अपने द्वारा दिए गए उम्र के बढ़्ने के...</td>\n",
              "      <td>12</td>\n",
              "      <td>16</td>\n",
              "    </tr>\n",
              "    <tr>\n",
              "      <th>74513</th>\n",
              "      <td>ted</td>\n",
              "      <td>expands and cools until it gets to the point w...</td>\n",
              "      <td>START_ फैलने लगता है फिर ये ठंडा होकर उस अवस्थ...</td>\n",
              "      <td>13</td>\n",
              "      <td>21</td>\n",
              "    </tr>\n",
              "    <tr>\n",
              "      <th>6311</th>\n",
              "      <td>ted</td>\n",
              "      <td>by making it seamless</td>\n",
              "      <td>START_ इसे निरंतर बना कर _END</td>\n",
              "      <td>4</td>\n",
              "      <td>6</td>\n",
              "    </tr>\n",
              "    <tr>\n",
              "      <th>41215</th>\n",
              "      <td>ted</td>\n",
              "      <td>its perceptions thoughts feelings dreams</td>\n",
              "      <td>START_ इसके अपने दृष्टिकोण विचार हैं अपननी भाव...</td>\n",
              "      <td>5</td>\n",
              "      <td>14</td>\n",
              "    </tr>\n",
              "    <tr>\n",
              "      <th>25876</th>\n",
              "      <td>ted</td>\n",
              "      <td>so imagine you have carbon nanotubes growing</td>\n",
              "      <td>START_ तो आप कल्पना करे की कार्बन नैनोट्यूब बड...</td>\n",
              "      <td>7</td>\n",
              "      <td>12</td>\n",
              "    </tr>\n",
              "    <tr>\n",
              "      <th>27454</th>\n",
              "      <td>ted</td>\n",
              "      <td>falling down and disintegrating</td>\n",
              "      <td>START_ ऊपर से गिरकर बिखर गया _END</td>\n",
              "      <td>4</td>\n",
              "      <td>7</td>\n",
              "    </tr>\n",
              "    <tr>\n",
              "      <th>98063</th>\n",
              "      <td>ted</td>\n",
              "      <td>so when this came up in my local shop naturall...</td>\n",
              "      <td>START_ तो स्वाभाविक रूप से जब यह अपने स्थानीय ...</td>\n",
              "      <td>12</td>\n",
              "      <td>14</td>\n",
              "    </tr>\n",
              "    <tr>\n",
              "      <th>91972</th>\n",
              "      <td>ted</td>\n",
              "      <td>but then how to act compassionately if you don...</td>\n",
              "      <td>START_ पर आप सहानुभूति पूर्वक कार्य कैसे करोगे...</td>\n",
              "      <td>11</td>\n",
              "      <td>15</td>\n",
              "    </tr>\n",
              "    <tr>\n",
              "      <th>8657</th>\n",
              "      <td>ted</td>\n",
              "      <td>its limited by our cognitive biases</td>\n",
              "      <td>START_ ये बंधा हुआ है हमारे दिमागी पक्षपात से ...</td>\n",
              "      <td>6</td>\n",
              "      <td>10</td>\n",
              "    </tr>\n",
              "    <tr>\n",
              "      <th>82742</th>\n",
              "      <td>ted</td>\n",
              "      <td>were going to have about eight billion perhaps...</td>\n",
              "      <td>START_ संसार में अरब या उस से भी ज्यादा लोग हो...</td>\n",
              "      <td>10</td>\n",
              "      <td>12</td>\n",
              "    </tr>\n",
              "    <tr>\n",
              "      <th>74821</th>\n",
              "      <td>ted</td>\n",
              "      <td>and everyone knew the truth</td>\n",
              "      <td>START_ और सब को सच्चाई का पता चल गया _END</td>\n",
              "      <td>5</td>\n",
              "      <td>10</td>\n",
              "    </tr>\n",
              "    <tr>\n",
              "      <th>60006</th>\n",
              "      <td>ted</td>\n",
              "      <td>if i give you the letter q</td>\n",
              "      <td>START_ यदि मैं आपको एक वर्ण q दूँ _END</td>\n",
              "      <td>7</td>\n",
              "      <td>9</td>\n",
              "    </tr>\n",
              "  </tbody>\n",
              "</table>\n",
              "</div>"
            ],
            "text/plain": [
              "       source  ... hindi_sent_len\n",
              "82040     ted  ...             16\n",
              "85038     ted  ...              5\n",
              "58018     ted  ...              8\n",
              "74470     ted  ...              6\n",
              "122330    ted  ...             20\n",
              "79517     ted  ...              9\n",
              "23089     ted  ...             11\n",
              "116699    ted  ...             17\n",
              "64132     ted  ...             16\n",
              "74513     ted  ...             21\n",
              "6311      ted  ...              6\n",
              "41215     ted  ...             14\n",
              "25876     ted  ...             12\n",
              "27454     ted  ...              7\n",
              "98063     ted  ...             14\n",
              "91972     ted  ...             15\n",
              "8657      ted  ...             10\n",
              "82742     ted  ...             12\n",
              "74821     ted  ...             10\n",
              "60006     ted  ...              9\n",
              "\n",
              "[20 rows x 5 columns]"
            ]
          },
          "metadata": {
            "tags": []
          },
          "execution_count": 22
        }
      ]
    },
    {
      "cell_type": "code",
      "metadata": {
        "colab": {
          "base_uri": "https://localhost:8080/",
          "height": 265
        },
        "id": "cQHOIJgwULdb",
        "outputId": "09a342a5-4f4a-4af1-e7db-d9c9dbe5e993"
      },
      "source": [
        "plt.boxplot(df['eng_sent_len'])\n",
        "plt.show()"
      ],
      "execution_count": 23,
      "outputs": [
        {
          "output_type": "display_data",
          "data": {
            "image/png": "[encoded data removed]",
            "text/plain": [
              "<Figure size 432x288 with 1 Axes>"
            ]
          },
          "metadata": {
            "tags": [],
            "needs_background": "light"
          }
        }
      ]
    },
    {
      "cell_type": "code",
      "metadata": {
        "colab": {
          "base_uri": "https://localhost:8080/",
          "height": 265
        },
        "id": "4IYLm13fUdR6",
        "outputId": "ade151de-ac81-4350-b4aa-70f24be198fe"
      },
      "source": [
        "plt.boxplot(df['hindi_sent_len'])\n",
        "plt.show()"
      ],
      "execution_count": 24,
      "outputs": [
        {
          "output_type": "display_data",
          "data": {
            "image/png": "[encoded data removed]",
            "text/plain": [
              "<Figure size 432x288 with 1 Axes>"
            ]
          },
          "metadata": {
            "tags": [],
            "needs_background": "light"
          }
        }
      ]
    },
    {
      "cell_type": "code",
      "metadata": {
        "id": "U557IXS7Joeu"
      },
      "source": [
        "df=df[df['eng_sent_len']<=20]\n",
        "df=df[df['hindi_sent_len']<=20]"
      ],
      "execution_count": 25,
      "outputs": []
    },
    {
      "cell_type": "code",
      "metadata": {
        "colab": {
          "base_uri": "https://localhost:8080/"
        },
        "id": "IxLYaJabJoeu",
        "outputId": "848c29b3-edc2-4359-fcf3-34f2e8c2827b"
      },
      "source": [
        "df.shape"
      ],
      "execution_count": 26,
      "outputs": [
        {
          "output_type": "execute_result",
          "data": {
            "text/plain": [
              "(24774, 5)"
            ]
          },
          "metadata": {
            "tags": []
          },
          "execution_count": 26
        }
      ]
    },
    {
      "cell_type": "code",
      "metadata": {
        "colab": {
          "base_uri": "https://localhost:8080/",
          "height": 265
        },
        "id": "CySIKcLfUrOg",
        "outputId": "d4867959-6db5-4bf7-e468-bc6b0dcea628"
      },
      "source": [
        "plt.boxplot(df['eng_sent_len'])\n",
        "plt.show()"
      ],
      "execution_count": 27,
      "outputs": [
        {
          "output_type": "display_data",
          "data": {
            "image/png": "[encoded data removed]",
            "text/plain": [
              "<Figure size 432x288 with 1 Axes>"
            ]
          },
          "metadata": {
            "tags": [],
            "needs_background": "light"
          }
        }
      ]
    },
    {
      "cell_type": "code",
      "metadata": {
        "colab": {
          "base_uri": "https://localhost:8080/",
          "height": 265
        },
        "id": "N_2z2ht3Un62",
        "outputId": "727fd592-0e43-4eca-c31a-01548bb19fe7"
      },
      "source": [
        "plt.boxplot(df['hindi_sent_len'])\n",
        "plt.show()"
      ],
      "execution_count": 28,
      "outputs": [
        {
          "output_type": "display_data",
          "data": {
            "image/png": "[encoded data removed]",
            "text/plain": [
              "<Figure size 432x288 with 1 Axes>"
            ]
          },
          "metadata": {
            "tags": [],
            "needs_background": "light"
          }
        }
      ]
    },
    {
      "cell_type": "code",
      "metadata": {
        "colab": {
          "base_uri": "https://localhost:8080/",
          "height": 265
        },
        "id": "plCt-NLtUzVv",
        "outputId": "1a315991-e73c-4dd2-ece7-d586ba878edd"
      },
      "source": [
        "plt.hist(df['eng_sent_len'])\n",
        "plt.show()"
      ],
      "execution_count": 29,
      "outputs": [
        {
          "output_type": "display_data",
          "data": {
            "image/png": "[encoded data removed]",
            "text/plain": [
              "<Figure size 432x288 with 1 Axes>"
            ]
          },
          "metadata": {
            "tags": [],
            "needs_background": "light"
          }
        }
      ]
    },
    {
      "cell_type": "code",
      "metadata": {
        "colab": {
          "base_uri": "https://localhost:8080/",
          "height": 265
        },
        "id": "OntMrXR3Uumi",
        "outputId": "80c9dfea-6508-443f-fd7e-f48b25913c32"
      },
      "source": [
        "plt.hist(df['hindi_sent_len'])\n",
        "plt.show()"
      ],
      "execution_count": 30,
      "outputs": [
        {
          "output_type": "display_data",
          "data": {
            "image/png": "[encoded data removed]",
            "text/plain": [
              "<Figure size 432x288 with 1 Axes>"
            ]
          },
          "metadata": {
            "tags": [],
            "needs_background": "light"
          }
        }
      ]
    },
    {
      "cell_type": "code",
      "metadata": {
        "colab": {
          "base_uri": "https://localhost:8080/"
        },
        "id": "gLB-FgP4VDbR",
        "outputId": "99f5e052-82c6-479d-9895-7dc4ff9dd4b9"
      },
      "source": [
        "max_length_src = max(df['hindi_sent_len'])\n",
        "max_length_tar = max(df['eng_sent_len'])\n",
        "\n",
        "print(\"Maximum length of Hindi Sentence:\", max_length_src)\n",
        "print(\"Maximum length of English Sentence:\", max_length_tar)"
      ],
      "execution_count": 31,
      "outputs": [
        {
          "output_type": "stream",
          "text": [
            "Maximum length of Hindi Sentence: 20\n",
            "Maximum length of English Sentence: 20\n"
          ],
          "name": "stdout"
        }
      ]
    },
    {
      "cell_type": "code",
      "metadata": {
        "colab": {
          "base_uri": "https://localhost:8080/"
        },
        "id": "zCgDpMWZJoev",
        "outputId": "e568eb81-9fd2-45ad-8c1f-ee41b6e1e811"
      },
      "source": [
        "input_words = sorted(list(all_eng_words))\n",
        "target_words = sorted(list(all_hindi_words))\n",
        "num_encoder_tokens = len(all_eng_words)\n",
        "num_decoder_tokens = len(all_hindi_words)\n",
        "num_encoder_tokens, num_decoder_tokens"
      ],
      "execution_count": 32,
      "outputs": [
        {
          "output_type": "execute_result",
          "data": {
            "text/plain": [
              "(14030, 17540)"
            ]
          },
          "metadata": {
            "tags": []
          },
          "execution_count": 32
        }
      ]
    },
    {
      "cell_type": "code",
      "metadata": {
        "id": "TcOktsIJJoew"
      },
      "source": [
        "num_decoder_tokens += 1\n",
        "num_encoder_tokens += 1"
      ],
      "execution_count": 33,
      "outputs": []
    },
    {
      "cell_type": "code",
      "metadata": {
        "id": "uPdZLmfWJoew"
      },
      "source": [
        "input_token_index = dict([(word, i+1) for i, word in enumerate(input_words)])\n",
        "target_token_index = dict([(word, i+1) for i, word in enumerate(target_words)])"
      ],
      "execution_count": 34,
      "outputs": []
    },
    {
      "cell_type": "code",
      "metadata": {
        "id": "h7W-L3MPJoex"
      },
      "source": [
        "reverse_input_char_index = dict((i, word) for word, i in input_token_index.items())\n",
        "reverse_target_char_index = dict((i, word) for word, i in target_token_index.items())"
      ],
      "execution_count": 35,
      "outputs": []
    },
    {
      "cell_type": "code",
      "metadata": {
        "colab": {
          "base_uri": "https://localhost:8080/",
          "height": 427
        },
        "id": "R4slRrg0Joex",
        "outputId": "0927c0c7-e445-4a23-f314-c0a2904145f9"
      },
      "source": [
        "df = shuffle(df)\n",
        "df.head(10)"
      ],
      "execution_count": 36,
      "outputs": [
        {
          "output_type": "execute_result",
          "data": {
            "text/html": [
              "<div>\n",
              "<style scoped>\n",
              "    .dataframe tbody tr th:only-of-type {\n",
              "        vertical-align: middle;\n",
              "    }\n",
              "\n",
              "    .dataframe tbody tr th {\n",
              "        vertical-align: top;\n",
              "    }\n",
              "\n",
              "    .dataframe thead th {\n",
              "        text-align: right;\n",
              "    }\n",
              "</style>\n",
              "<table border=\"1\" class=\"dataframe\">\n",
              "  <thead>\n",
              "    <tr style=\"text-align: right;\">\n",
              "      <th></th>\n",
              "      <th>source</th>\n",
              "      <th>english_sentence</th>\n",
              "      <th>hindi_sentence</th>\n",
              "      <th>eng_sent_len</th>\n",
              "      <th>hindi_sent_len</th>\n",
              "    </tr>\n",
              "  </thead>\n",
              "  <tbody>\n",
              "    <tr>\n",
              "      <th>71318</th>\n",
              "      <td>ted</td>\n",
              "      <td>thats been viewed four million times</td>\n",
              "      <td>START_ और उसको भी चालीस लाख बार देखा गया है। _END</td>\n",
              "      <td>6</td>\n",
              "      <td>11</td>\n",
              "    </tr>\n",
              "    <tr>\n",
              "      <th>46829</th>\n",
              "      <td>ted</td>\n",
              "      <td>this herbavate cream for eczema possible</td>\n",
              "      <td>START_ हरबावेट क्रीम का निर्माण सँभव हुआ । _END</td>\n",
              "      <td>6</td>\n",
              "      <td>9</td>\n",
              "    </tr>\n",
              "    <tr>\n",
              "      <th>96392</th>\n",
              "      <td>ted</td>\n",
              "      <td>and thats a good thing because in order</td>\n",
              "      <td>START_ और यह अच्छी बात है क्योंकि _END</td>\n",
              "      <td>8</td>\n",
              "      <td>8</td>\n",
              "    </tr>\n",
              "    <tr>\n",
              "      <th>89048</th>\n",
              "      <td>ted</td>\n",
              "      <td>somalia had disintegrated into anarchy</td>\n",
              "      <td>START_ समालीया में आराजकता छा गयी थी _END</td>\n",
              "      <td>5</td>\n",
              "      <td>8</td>\n",
              "    </tr>\n",
              "    <tr>\n",
              "      <th>38443</th>\n",
              "      <td>ted</td>\n",
              "      <td>and asked me to define happiness</td>\n",
              "      <td>START_ और मुझसे ख़ुशी की परिभाषा पूछते _END</td>\n",
              "      <td>6</td>\n",
              "      <td>8</td>\n",
              "    </tr>\n",
              "    <tr>\n",
              "      <th>126860</th>\n",
              "      <td>ted</td>\n",
              "      <td>the insurgency thats been unleashed on your pe...</td>\n",
              "      <td>START_ ये आपके खिलाफ किया हुआ विद्रोह _END</td>\n",
              "      <td>8</td>\n",
              "      <td>8</td>\n",
              "    </tr>\n",
              "    <tr>\n",
              "      <th>69870</th>\n",
              "      <td>ted</td>\n",
              "      <td>making microdecisions dozens and dozens</td>\n",
              "      <td>START_ छोटे छोटे दर्ज़नों फ़ैसले लेने होते हैं...</td>\n",
              "      <td>5</td>\n",
              "      <td>9</td>\n",
              "    </tr>\n",
              "    <tr>\n",
              "      <th>110879</th>\n",
              "      <td>ted</td>\n",
              "      <td>on the banks of the rivers</td>\n",
              "      <td>START_ वैश्यावृत्ति में बदलकर रह गया है। _END</td>\n",
              "      <td>6</td>\n",
              "      <td>8</td>\n",
              "    </tr>\n",
              "    <tr>\n",
              "      <th>20352</th>\n",
              "      <td>ted</td>\n",
              "      <td>our heros are human heros</td>\n",
              "      <td>START_ मानव हीरो हमारा हीरो है _END</td>\n",
              "      <td>5</td>\n",
              "      <td>7</td>\n",
              "    </tr>\n",
              "    <tr>\n",
              "      <th>88219</th>\n",
              "      <td>ted</td>\n",
              "      <td>he had a side parting and a neat mustache</td>\n",
              "      <td>START_ उनके पास एक साइड पार्टिंग और एक साफ मूं...</td>\n",
              "      <td>9</td>\n",
              "      <td>12</td>\n",
              "    </tr>\n",
              "  </tbody>\n",
              "</table>\n",
              "</div>"
            ],
            "text/plain": [
              "       source  ... hindi_sent_len\n",
              "71318     ted  ...             11\n",
              "46829     ted  ...              9\n",
              "96392     ted  ...              8\n",
              "89048     ted  ...              8\n",
              "38443     ted  ...              8\n",
              "126860    ted  ...              8\n",
              "69870     ted  ...              9\n",
              "110879    ted  ...              8\n",
              "20352     ted  ...              7\n",
              "88219     ted  ...             12\n",
              "\n",
              "[10 rows x 5 columns]"
            ]
          },
          "metadata": {
            "tags": []
          },
          "execution_count": 36
        }
      ]
    },
    {
      "cell_type": "code",
      "metadata": {
        "colab": {
          "base_uri": "https://localhost:8080/"
        },
        "id": "iOyHRFvvJoey",
        "outputId": "5a072107-a20e-423e-e66b-b1de76f54e6a"
      },
      "source": [
        "X, y = df['english_sentence'], df['hindi_sentence']\n",
        "X_train, X_test, y_train, y_test = train_test_split(X, y, test_size = 0.2,random_state=42)\n",
        "X_train.shape, X_test.shape"
      ],
      "execution_count": 37,
      "outputs": [
        {
          "output_type": "execute_result",
          "data": {
            "text/plain": [
              "((19819,), (4955,))"
            ]
          },
          "metadata": {
            "tags": []
          },
          "execution_count": 37
        }
      ]
    },
    {
      "cell_type": "code",
      "metadata": {
        "id": "BJp03orMJoez"
      },
      "source": [
        "def generate_batch(X = X_train, y = y_train, batch_size = 128):\n",
        "    ''' Generate a batch of data '''\n",
        "    while True:\n",
        "        for j in range(0, len(X), batch_size):\n",
        "            encoder_input_data = np.zeros((batch_size, max_length_src),dtype='float32')\n",
        "            decoder_input_data = np.zeros((batch_size, max_length_tar),dtype='float32')\n",
        "            decoder_target_data = np.zeros((batch_size, max_length_tar, num_decoder_tokens),dtype='float32')\n",
        "            for i, (input_text, target_text) in enumerate(zip(X[j:j+batch_size], y[j:j+batch_size])):\n",
        "                for t, word in enumerate(input_text.split()):\n",
        "                    encoder_input_data[i, t] = input_token_index[word] # encoder input seq\n",
        "                for t, word in enumerate(target_text.split()):\n",
        "                    if t<len(target_text.split())-1:\n",
        "                        decoder_input_data[i, t] = target_token_index[word] # decoder input seq\n",
        "                    if t>0:\n",
        "                        # decoder target sequence (one hot encoded)\n",
        "                        # does not include the START_ token\n",
        "                        # Offset by one timestep\n",
        "                        decoder_target_data[i, t - 1, target_token_index[word]] = 1.\n",
        "            yield([encoder_input_data, decoder_input_data], decoder_target_data)"
      ],
      "execution_count": 38,
      "outputs": []
    },
    {
      "cell_type": "markdown",
      "metadata": {
        "id": "yyl5NF52Joez"
      },
      "source": [
        "### Encoder-Decoder Architecture"
      ]
    },
    {
      "cell_type": "code",
      "metadata": {
        "id": "F_DalbqVJoe1"
      },
      "source": [
        "latent_dim=300"
      ],
      "execution_count": 39,
      "outputs": []
    },
    {
      "cell_type": "code",
      "metadata": {
        "id": "iEWdsNSAJoe1"
      },
      "source": [
        "# Encoder\n",
        "encoder_inputs = Input(shape=(None,))\n",
        "enc_emb =  Embedding(num_encoder_tokens, latent_dim, mask_zero = True)(encoder_inputs)\n",
        "encoder_lstm = LSTM(latent_dim, return_state=True)\n",
        "encoder_outputs, state_h, state_c = encoder_lstm(enc_emb)\n",
        "# We discard `encoder_outputs` and only keep the states.\n",
        "encoder_states = [state_h, state_c]"
      ],
      "execution_count": 40,
      "outputs": []
    },
    {
      "cell_type": "code",
      "metadata": {
        "id": "EGlE81F5Joe2"
      },
      "source": [
        "# Set up the decoder, using `encoder_states` as initial state.\n",
        "decoder_inputs = Input(shape=(None,))\n",
        "dec_emb_layer = Embedding(num_decoder_tokens, latent_dim, mask_zero = True)\n",
        "dec_emb = dec_emb_layer(decoder_inputs)\n",
        "# We set up our decoder to return full output sequences,\n",
        "# and to return internal states as well. We don't use the\n",
        "# return states in the training model, but we will use them in inference.\n",
        "decoder_lstm = LSTM(latent_dim, return_sequences=True, return_state=True)\n",
        "decoder_outputs, _, _ = decoder_lstm(dec_emb, initial_state=encoder_states)\n",
        "decoder_dense = Dense(num_decoder_tokens, activation='softmax')\n",
        "decoder_outputs = decoder_dense(decoder_outputs)\n",
        "\n",
        "# Define the model that will turn\n",
        "# `encoder_input_data` & `decoder_input_data` into `decoder_target_data`\n",
        "model = Model([encoder_inputs, decoder_inputs], decoder_outputs)"
      ],
      "execution_count": 41,
      "outputs": []
    },
    {
      "cell_type": "code",
      "metadata": {
        "id": "CtYP27OaJoe2"
      },
      "source": [
        "model.compile(optimizer='rmsprop', loss='categorical_crossentropy')"
      ],
      "execution_count": 42,
      "outputs": []
    },
    {
      "cell_type": "code",
      "metadata": {
        "colab": {
          "base_uri": "https://localhost:8080/"
        },
        "id": "H6LTpJF8Joe2",
        "outputId": "bebf17cd-7f69-4503-ab5b-ed45736e95b7"
      },
      "source": [
        "model.summary()"
      ],
      "execution_count": 43,
      "outputs": [
        {
          "output_type": "stream",
          "text": [
            "Model: \"model\"\n",
            "__________________________________________________________________________________________________\n",
            "Layer (type)                    Output Shape         Param #     Connected to                     \n",
            "==================================================================================================\n",
            "input_1 (InputLayer)            [(None, None)]       0                                            \n",
            "__________________________________________________________________________________________________\n",
            "input_2 (InputLayer)            [(None, None)]       0                                            \n",
            "__________________________________________________________________________________________________\n",
            "embedding (Embedding)           (None, None, 300)    4209300     input_1[0][0]                    \n",
            "__________________________________________________________________________________________________\n",
            "embedding_1 (Embedding)         (None, None, 300)    5262300     input_2[0][0]                    \n",
            "__________________________________________________________________________________________________\n",
            "lstm (LSTM)                     [(None, 300), (None, 721200      embedding[0][0]                  \n",
            "__________________________________________________________________________________________________\n",
            "lstm_1 (LSTM)                   [(None, None, 300),  721200      embedding_1[0][0]                \n",
            "                                                                 lstm[0][1]                       \n",
            "                                                                 lstm[0][2]                       \n",
            "__________________________________________________________________________________________________\n",
            "dense (Dense)                   (None, None, 17541)  5279841     lstm_1[0][0]                     \n",
            "==================================================================================================\n",
            "Total params: 16,193,841\n",
            "Trainable params: 16,193,841\n",
            "Non-trainable params: 0\n",
            "__________________________________________________________________________________________________\n"
          ],
          "name": "stdout"
        }
      ]
    },
    {
      "cell_type": "code",
      "metadata": {
        "id": "J-y0E236Joe3"
      },
      "source": [
        "train_samples = len(X_train)\n",
        "val_samples = len(X_test)\n",
        "batch_size = 128\n",
        "epochs = 50"
      ],
      "execution_count": 44,
      "outputs": []
    },
    {
      "cell_type": "code",
      "metadata": {
        "colab": {
          "base_uri": "https://localhost:8080/"
        },
        "id": "uosatohrJoe3",
        "outputId": "e87c5b5d-1a58-4c97-faa3-6520e54a24f8"
      },
      "source": [
        "history = model.fit_generator(generator = generate_batch(X_train, y_train, batch_size = batch_size),\n",
        "                    steps_per_epoch = train_samples//batch_size,\n",
        "                    epochs=epochs,\n",
        "                    validation_data = generate_batch(X_test, y_test, batch_size = batch_size),\n",
        "                    validation_steps = val_samples//batch_size)"
      ],
      "execution_count": 45,
      "outputs": [
        {
          "output_type": "stream",
          "text": [
            "/usr/local/lib/python3.7/dist-packages/keras/engine/training.py:1915: UserWarning: `Model.fit_generator` is deprecated and will be removed in a future version. Please use `Model.fit`, which supports generators.\n",
            "  warnings.warn('`Model.fit_generator` is deprecated and '\n"
          ],
          "name": "stderr"
        },
        {
          "output_type": "stream",
          "text": [
            "Epoch 1/50\n",
            "154/154 [==============================] - 57s 209ms/step - loss: 3.2088 - val_loss: 2.8643\n",
            "Epoch 2/50\n",
            "154/154 [==============================] - 30s 192ms/step - loss: 2.7583 - val_loss: 2.6874\n",
            "Epoch 3/50\n",
            "154/154 [==============================] - 29s 189ms/step - loss: 2.5803 - val_loss: 2.6119\n",
            "Epoch 4/50\n",
            "154/154 [==============================] - 30s 194ms/step - loss: 2.4631 - val_loss: 2.5657\n",
            "Epoch 5/50\n",
            "154/154 [==============================] - 30s 195ms/step - loss: 2.3769 - val_loss: 2.5434\n",
            "Epoch 6/50\n",
            "154/154 [==============================] - 30s 193ms/step - loss: 2.2923 - val_loss: 2.4941\n",
            "Epoch 7/50\n",
            "154/154 [==============================] - 30s 194ms/step - loss: 2.2164 - val_loss: 2.4787\n",
            "Epoch 8/50\n",
            "154/154 [==============================] - 30s 193ms/step - loss: 2.1484 - val_loss: 2.4698\n",
            "Epoch 9/50\n",
            "154/154 [==============================] - 30s 193ms/step - loss: 2.0791 - val_loss: 2.4502\n",
            "Epoch 10/50\n",
            "154/154 [==============================] - 29s 191ms/step - loss: 2.0120 - val_loss: 2.4431\n",
            "Epoch 11/50\n",
            "154/154 [==============================] - 29s 191ms/step - loss: 1.9419 - val_loss: 2.4409\n",
            "Epoch 12/50\n",
            "154/154 [==============================] - 30s 193ms/step - loss: 1.8751 - val_loss: 2.4380\n",
            "Epoch 13/50\n",
            "154/154 [==============================] - 29s 190ms/step - loss: 1.8138 - val_loss: 2.4449\n",
            "Epoch 14/50\n",
            "154/154 [==============================] - 29s 189ms/step - loss: 1.7512 - val_loss: 2.4539\n",
            "Epoch 15/50\n",
            "154/154 [==============================] - 29s 191ms/step - loss: 1.6924 - val_loss: 2.4574\n",
            "Epoch 16/50\n",
            "154/154 [==============================] - 30s 194ms/step - loss: 1.6319 - val_loss: 2.4772\n",
            "Epoch 17/50\n",
            "154/154 [==============================] - 29s 190ms/step - loss: 1.5776 - val_loss: 2.4808\n",
            "Epoch 18/50\n",
            "154/154 [==============================] - 29s 191ms/step - loss: 1.5236 - val_loss: 2.4918\n",
            "Epoch 19/50\n",
            "154/154 [==============================] - 29s 191ms/step - loss: 1.4690 - val_loss: 2.5128\n",
            "Epoch 20/50\n",
            "154/154 [==============================] - 29s 191ms/step - loss: 1.4151 - val_loss: 2.5352\n",
            "Epoch 21/50\n",
            "154/154 [==============================] - 29s 191ms/step - loss: 1.3589 - val_loss: 2.5437\n",
            "Epoch 22/50\n",
            "154/154 [==============================] - 30s 192ms/step - loss: 1.3061 - val_loss: 2.5632\n",
            "Epoch 23/50\n",
            "154/154 [==============================] - 30s 192ms/step - loss: 1.2545 - val_loss: 2.5908\n",
            "Epoch 24/50\n",
            "154/154 [==============================] - 29s 191ms/step - loss: 1.2058 - val_loss: 2.6118\n",
            "Epoch 25/50\n",
            "154/154 [==============================] - 30s 193ms/step - loss: 1.1594 - val_loss: 2.6292\n",
            "Epoch 26/50\n",
            "154/154 [==============================] - 29s 191ms/step - loss: 1.1113 - val_loss: 2.6581\n",
            "Epoch 27/50\n",
            "154/154 [==============================] - 29s 191ms/step - loss: 1.0626 - val_loss: 2.6871\n",
            "Epoch 28/50\n",
            "154/154 [==============================] - 30s 193ms/step - loss: 1.0186 - val_loss: 2.6999\n",
            "Epoch 29/50\n",
            "154/154 [==============================] - 29s 190ms/step - loss: 0.9761 - val_loss: 2.7171\n",
            "Epoch 30/50\n",
            "154/154 [==============================] - 29s 189ms/step - loss: 0.9351 - val_loss: 2.7438\n",
            "Epoch 31/50\n",
            "154/154 [==============================] - 29s 189ms/step - loss: 0.8926 - val_loss: 2.7664\n",
            "Epoch 32/50\n",
            "154/154 [==============================] - 30s 195ms/step - loss: 0.8501 - val_loss: 2.7842\n",
            "Epoch 33/50\n",
            "154/154 [==============================] - 29s 187ms/step - loss: 0.8091 - val_loss: 2.8143\n",
            "Epoch 34/50\n",
            "154/154 [==============================] - 29s 188ms/step - loss: 0.7693 - val_loss: 2.8298\n",
            "Epoch 35/50\n",
            "154/154 [==============================] - 29s 187ms/step - loss: 0.7341 - val_loss: 2.8635\n",
            "Epoch 36/50\n",
            "154/154 [==============================] - 29s 189ms/step - loss: 0.6983 - val_loss: 2.8829\n",
            "Epoch 37/50\n",
            "154/154 [==============================] - 29s 190ms/step - loss: 0.6650 - val_loss: 2.9004\n",
            "Epoch 38/50\n",
            "154/154 [==============================] - 29s 190ms/step - loss: 0.6351 - val_loss: 2.9267\n",
            "Epoch 39/50\n",
            "154/154 [==============================] - 29s 188ms/step - loss: 0.6051 - val_loss: 2.9490\n",
            "Epoch 40/50\n",
            "154/154 [==============================] - 29s 190ms/step - loss: 0.5795 - val_loss: 2.9758\n",
            "Epoch 41/50\n",
            "154/154 [==============================] - 29s 190ms/step - loss: 0.5530 - val_loss: 2.9967\n",
            "Epoch 42/50\n",
            "154/154 [==============================] - 29s 187ms/step - loss: 0.5256 - val_loss: 3.0234\n",
            "Epoch 43/50\n",
            "154/154 [==============================] - 29s 189ms/step - loss: 0.5020 - val_loss: 3.0369\n",
            "Epoch 44/50\n",
            "154/154 [==============================] - 29s 188ms/step - loss: 0.4796 - val_loss: 3.0554\n",
            "Epoch 45/50\n",
            "154/154 [==============================] - 29s 190ms/step - loss: 0.4565 - val_loss: 3.0805\n",
            "Epoch 46/50\n",
            "154/154 [==============================] - 29s 191ms/step - loss: 0.4366 - val_loss: 3.0999\n",
            "Epoch 47/50\n",
            "154/154 [==============================] - 30s 192ms/step - loss: 0.4154 - val_loss: 3.1174\n",
            "Epoch 48/50\n",
            "154/154 [==============================] - 29s 187ms/step - loss: 0.3972 - val_loss: 3.1423\n",
            "Epoch 49/50\n",
            "154/154 [==============================] - 29s 189ms/step - loss: 0.3778 - val_loss: 3.1599\n",
            "Epoch 50/50\n",
            "154/154 [==============================] - 29s 189ms/step - loss: 0.3602 - val_loss: 3.1785\n"
          ],
          "name": "stdout"
        }
      ]
    },
    {
      "cell_type": "code",
      "metadata": {
        "id": "edeEArQ-Joe3"
      },
      "source": [
        "model.save_weights('nmt_weights.h5')"
      ],
      "execution_count": 46,
      "outputs": []
    },
    {
      "cell_type": "code",
      "metadata": {
        "id": "yXp0EzZoJoe4"
      },
      "source": [
        "# Encode the input sequence to get the \"thought vectors\"\n",
        "encoder_model = Model(encoder_inputs, encoder_states)\n",
        "\n",
        "# Decoder setup\n",
        "# Below tensors will hold the states of the previous time step\n",
        "decoder_state_input_h = Input(shape=(latent_dim,))\n",
        "decoder_state_input_c = Input(shape=(latent_dim,))\n",
        "decoder_states_inputs = [decoder_state_input_h, decoder_state_input_c]\n",
        "\n",
        "dec_emb2= dec_emb_layer(decoder_inputs) # Get the embeddings of the decoder sequence\n",
        "\n",
        "# To predict the next word in the sequence, set the initial states to the states from the previous time step\n",
        "decoder_outputs2, state_h2, state_c2 = decoder_lstm(dec_emb2, initial_state=decoder_states_inputs)\n",
        "decoder_states2 = [state_h2, state_c2]\n",
        "decoder_outputs2 = decoder_dense(decoder_outputs2) # A dense softmax layer to generate prob dist. over the target vocabulary\n",
        "\n",
        "# Final decoder model\n",
        "decoder_model = Model(\n",
        "    [decoder_inputs] + decoder_states_inputs,\n",
        "    [decoder_outputs2] + decoder_states2)\n"
      ],
      "execution_count": 47,
      "outputs": []
    },
    {
      "cell_type": "code",
      "metadata": {
        "id": "WI5Ctxv7Joe4"
      },
      "source": [
        "def decode_sequence(input_seq):\n",
        "    # Encode the input as state vectors.\n",
        "    states_value = encoder_model.predict(input_seq)\n",
        "    # Generate empty target sequence of length 1.\n",
        "    target_seq = np.zeros((1,1))\n",
        "    # Populate the first character of target sequence with the start character.\n",
        "    target_seq[0, 0] = target_token_index['START_']\n",
        "\n",
        "    # Sampling loop for a batch of sequences\n",
        "    # (to simplify, here we assume a batch of size 1).\n",
        "    stop_condition = False\n",
        "    decoded_sentence = ''\n",
        "    while not stop_condition:\n",
        "        output_tokens, h, c = decoder_model.predict([target_seq] + states_value)\n",
        "\n",
        "        # Sample a token\n",
        "        sampled_token_index = np.argmax(output_tokens[0, -1, :])\n",
        "        sampled_char = reverse_target_char_index[sampled_token_index]\n",
        "        decoded_sentence += ' '+sampled_char\n",
        "\n",
        "        # Exit condition: either hit max length\n",
        "        # or find stop character.\n",
        "        if (sampled_char == '_END' or\n",
        "           len(decoded_sentence) > 50):\n",
        "            stop_condition = True\n",
        "\n",
        "        # Update the target sequence (of length 1).\n",
        "        target_seq = np.zeros((1,1))\n",
        "        target_seq[0, 0] = sampled_token_index\n",
        "\n",
        "        # Update states\n",
        "        states_value = [h, c]\n",
        "\n",
        "    return decoded_sentence"
      ],
      "execution_count": 48,
      "outputs": []
    },
    {
      "cell_type": "code",
      "metadata": {
        "id": "BEIiNi4mJoe5"
      },
      "source": [
        "train_gen = generate_batch(X_train, y_train, batch_size = 1)\n",
        "k=-1"
      ],
      "execution_count": 49,
      "outputs": []
    },
    {
      "cell_type": "code",
      "metadata": {
        "colab": {
          "base_uri": "https://localhost:8080/"
        },
        "id": "QVk2DJ7CJoe5",
        "outputId": "28da8439-f962-401a-fdfd-8ca032c4c6e0"
      },
      "source": [
        "k+=1\n",
        "(input_seq, actual_output), _ = next(train_gen)\n",
        "decoded_sentence = decode_sequence(input_seq)\n",
        "print('Input English sentence:', X_train[k:k+1].values[0])\n",
        "print('Actual Hindi Translation:', y_train[k:k+1].values[0][6:-4])\n",
        "print('Predicted Hindi Translation:', decoded_sentence[:-4])"
      ],
      "execution_count": 50,
      "outputs": [
        {
          "output_type": "stream",
          "text": [
            "Input English sentence: and of intelligence\n",
            "Actual Hindi Translation:  और बुद्धिमत्ता को \n",
            "Predicted Hindi Translation:  और बुद्धिमत्ता को \n"
          ],
          "name": "stdout"
        }
      ]
    },
    {
      "cell_type": "code",
      "metadata": {
        "colab": {
          "base_uri": "https://localhost:8080/"
        },
        "id": "SyPGde6rJoe6",
        "outputId": "c7fc8dad-38bf-4a81-a2ec-be2789dd21a4"
      },
      "source": [
        "k+=1\n",
        "(input_seq, actual_output), _ = next(train_gen)\n",
        "decoded_sentence = decode_sequence(input_seq)\n",
        "print('Input English sentence:', X_train[k:k+1].values[0])\n",
        "print('Actual Hindi Translation:', y_train[k:k+1].values[0][6:-4])\n",
        "print('Predicted Hindi Translation:', decoded_sentence[:-4])"
      ],
      "execution_count": 51,
      "outputs": [
        {
          "output_type": "stream",
          "text": [
            "Input English sentence: i would have died in a day\n",
            "Actual Hindi Translation:  तो मैं वहां एक दिन में मर गया होता \n",
            "Predicted Hindi Translation:  तो मैं एक दिन में काम करना चाहता था \n"
          ],
          "name": "stdout"
        }
      ]
    },
    {
      "cell_type": "code",
      "metadata": {
        "colab": {
          "base_uri": "https://localhost:8080/"
        },
        "id": "DueLyKiEJoe6",
        "outputId": "ef6622ca-dafe-4a7f-91d6-b7b71bda040f"
      },
      "source": [
        "k+=1\n",
        "(input_seq, actual_output), _ = next(train_gen)\n",
        "decoded_sentence = decode_sequence(input_seq)\n",
        "print('Input English sentence:', X_train[k:k+1].values[0])\n",
        "print('Actual Hindi Translation:', y_train[k:k+1].values[0][6:-4])\n",
        "print('Predicted Hindi Translation:', decoded_sentence[:-4])"
      ],
      "execution_count": 52,
      "outputs": [
        {
          "output_type": "stream",
          "text": [
            "Input English sentence: and people started renovating their own structures\n",
            "Actual Hindi Translation:  और लोगों ने अपने ही ढ़ाँचे को पुनः बनाना शुरु किया। \n",
            "Predicted Hindi Translation:  और लोग अपने घर का जन्म क्षेत्र में था \n"
          ],
          "name": "stdout"
        }
      ]
    },
    {
      "cell_type": "code",
      "metadata": {
        "colab": {
          "base_uri": "https://localhost:8080/"
        },
        "id": "k2h7LQSMJoe7",
        "outputId": "0af17f8c-c8cb-42a1-cd25-20a24eb3235d"
      },
      "source": [
        "k+=1\n",
        "(input_seq, actual_output), _ = next(train_gen)\n",
        "decoded_sentence = decode_sequence(input_seq)\n",
        "print('Input English sentence:', X_train[k:k+1].values[0])\n",
        "print('Actual Hindi Translation:', y_train[k:k+1].values[0][6:-4])\n",
        "print('Predicted Hindi Translation:', decoded_sentence[:-4])"
      ],
      "execution_count": 53,
      "outputs": [
        {
          "output_type": "stream",
          "text": [
            "Input English sentence: bullets from bursting\n",
            "Actual Hindi Translation:  गोलियां फोड़ना बंद नहीं करता है \n",
            "Predicted Hindi Translation:  नहीं जाएगा \n"
          ],
          "name": "stdout"
        }
      ]
    },
    {
      "cell_type": "code",
      "metadata": {
        "colab": {
          "base_uri": "https://localhost:8080/"
        },
        "id": "p1rL7rE5Joe7",
        "outputId": "bce84594-e236-4574-abc0-1262ce6a8131"
      },
      "source": [
        "k+=1\n",
        "(input_seq, actual_output), _ = next(train_gen)\n",
        "decoded_sentence = decode_sequence(input_seq)\n",
        "print('Input English sentence:', X_train[k:k+1].values[0])\n",
        "print('Actual Hindi Translation:', y_train[k:k+1].values[0][6:-4])\n",
        "print('Predicted Hindi Translation:', decoded_sentence[:-4])"
      ],
      "execution_count": 54,
      "outputs": [
        {
          "output_type": "stream",
          "text": [
            "Input English sentence: and so its not just an offshore problem\n",
            "Actual Hindi Translation:  तो यह केवल देश के बाहर की समस्या नहीं है \n",
            "Predicted Hindi Translation:  और यह तो किसी के लिए ये मुमकिन नहीं है । \n"
          ],
          "name": "stdout"
        }
      ]
    }
  ]
}