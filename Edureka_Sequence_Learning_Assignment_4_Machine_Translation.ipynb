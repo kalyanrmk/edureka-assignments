{
  "nbformat": 4,
  "nbformat_minor": 0,
  "metadata": {
    "colab": {
      "name": "Edureka Sequence Learning Assignment 4 - Machine Translation.ipynb",
      "provenance": [],
      "mount_file_id": "1aH0G16jrv5Nxht4cfAdtAO9mBuKH2YpG",
      "authorship_tag": "ABX9TyMUGheuzzTf1tyGrMeDF9CB",
      "include_colab_link": true
    },
    "kernelspec": {
      "name": "python3",
      "display_name": "Python 3"
    },
    "language_info": {
      "name": "python"
    },
    "accelerator": "GPU"
  },
  "cells": [
    {
      "cell_type": "markdown",
      "metadata": {
        "id": "view-in-github",
        "colab_type": "text"
      },
      "source": [
        "<a href=\"https://colab.research.google.com/github/nandinib1999/edureka-assignments/blob/main/Edureka_Sequence_Learning_Assignment_4_Machine_Translation.ipynb\" target=\"_parent\"><img src=\"https://colab.research.google.com/assets/colab-badge.svg\" alt=\"Open In Colab\"/></a>"
      ]
    },
    {
      "cell_type": "code",
      "metadata": {
        "colab": {
          "base_uri": "https://localhost:8080/"
        },
        "id": "L_EbnDxcYGX6",
        "outputId": "a258eda1-55ae-4420-9f3d-51006f400345"
      },
      "source": [
        "import pandas as pd\n",
        "\n",
        "data = pd.read_csv(\"/content/drive/MyDrive/Hindi_English_Truncated_Corpus.csv\")\n",
        "data.shape"
      ],
      "execution_count": 1,
      "outputs": [
        {
          "output_type": "execute_result",
          "data": {
            "text/plain": [
              "(127607, 3)"
            ]
          },
          "metadata": {
            "tags": []
          },
          "execution_count": 1
        }
      ]
    },
    {
      "cell_type": "code",
      "metadata": {
        "colab": {
          "base_uri": "https://localhost:8080/",
          "height": 204
        },
        "id": "w2YLIh2Bakor",
        "outputId": "901251e2-97f4-41c7-b9a2-16fb7f7806ad"
      },
      "source": [
        "data.head()"
      ],
      "execution_count": 2,
      "outputs": [
        {
          "output_type": "execute_result",
          "data": {
            "text/html": [
              "<div>\n",
              "<style scoped>\n",
              "    .dataframe tbody tr th:only-of-type {\n",
              "        vertical-align: middle;\n",
              "    }\n",
              "\n",
              "    .dataframe tbody tr th {\n",
              "        vertical-align: top;\n",
              "    }\n",
              "\n",
              "    .dataframe thead th {\n",
              "        text-align: right;\n",
              "    }\n",
              "</style>\n",
              "<table border=\"1\" class=\"dataframe\">\n",
              "  <thead>\n",
              "    <tr style=\"text-align: right;\">\n",
              "      <th></th>\n",
              "      <th>source</th>\n",
              "      <th>english_sentence</th>\n",
              "      <th>hindi_sentence</th>\n",
              "    </tr>\n",
              "  </thead>\n",
              "  <tbody>\n",
              "    <tr>\n",
              "      <th>0</th>\n",
              "      <td>ted</td>\n",
              "      <td>politicians do not have permission to do what ...</td>\n",
              "      <td>राजनीतिज्ञों के पास जो कार्य करना चाहिए, वह कर...</td>\n",
              "    </tr>\n",
              "    <tr>\n",
              "      <th>1</th>\n",
              "      <td>ted</td>\n",
              "      <td>I'd like to tell you about one such child,</td>\n",
              "      <td>मई आपको ऐसे ही एक बच्चे के बारे में बताना चाहू...</td>\n",
              "    </tr>\n",
              "    <tr>\n",
              "      <th>2</th>\n",
              "      <td>indic2012</td>\n",
              "      <td>This percentage is even greater than the perce...</td>\n",
              "      <td>यह प्रतिशत भारत में हिन्दुओं प्रतिशत से अधिक है।</td>\n",
              "    </tr>\n",
              "    <tr>\n",
              "      <th>3</th>\n",
              "      <td>ted</td>\n",
              "      <td>what we really mean is that they're bad at not...</td>\n",
              "      <td>हम ये नहीं कहना चाहते कि वो ध्यान नहीं दे पाते</td>\n",
              "    </tr>\n",
              "    <tr>\n",
              "      <th>4</th>\n",
              "      <td>indic2012</td>\n",
              "      <td>.The ending portion of these Vedas is called U...</td>\n",
              "      <td>इन्हीं वेदों का अंतिम भाग उपनिषद कहलाता है।</td>\n",
              "    </tr>\n",
              "  </tbody>\n",
              "</table>\n",
              "</div>"
            ],
            "text/plain": [
              "      source  ...                                     hindi_sentence\n",
              "0        ted  ...  राजनीतिज्ञों के पास जो कार्य करना चाहिए, वह कर...\n",
              "1        ted  ...  मई आपको ऐसे ही एक बच्चे के बारे में बताना चाहू...\n",
              "2  indic2012  ...   यह प्रतिशत भारत में हिन्दुओं प्रतिशत से अधिक है।\n",
              "3        ted  ...     हम ये नहीं कहना चाहते कि वो ध्यान नहीं दे पाते\n",
              "4  indic2012  ...        इन्हीं वेदों का अंतिम भाग उपनिषद कहलाता है।\n",
              "\n",
              "[5 rows x 3 columns]"
            ]
          },
          "metadata": {
            "tags": []
          },
          "execution_count": 2
        }
      ]
    },
    {
      "cell_type": "code",
      "metadata": {
        "colab": {
          "base_uri": "https://localhost:8080/"
        },
        "id": "UkMTx1M2az3i",
        "outputId": "ae3ee76c-5117-4b68-809f-e83215e04279"
      },
      "source": [
        "data.info()"
      ],
      "execution_count": 3,
      "outputs": [
        {
          "output_type": "stream",
          "text": [
            "<class 'pandas.core.frame.DataFrame'>\n",
            "RangeIndex: 127607 entries, 0 to 127606\n",
            "Data columns (total 3 columns):\n",
            " #   Column            Non-Null Count   Dtype \n",
            "---  ------            --------------   ----- \n",
            " 0   source            127607 non-null  object\n",
            " 1   english_sentence  127605 non-null  object\n",
            " 2   hindi_sentence    127607 non-null  object\n",
            "dtypes: object(3)\n",
            "memory usage: 2.9+ MB\n"
          ],
          "name": "stdout"
        }
      ]
    },
    {
      "cell_type": "code",
      "metadata": {
        "colab": {
          "base_uri": "https://localhost:8080/"
        },
        "id": "byhMAdEXa2q9",
        "outputId": "afb0f874-e862-46eb-fc16-e37aef8c7ce6"
      },
      "source": [
        "data.isna().sum()"
      ],
      "execution_count": 4,
      "outputs": [
        {
          "output_type": "execute_result",
          "data": {
            "text/plain": [
              "source              0\n",
              "english_sentence    2\n",
              "hindi_sentence      0\n",
              "dtype: int64"
            ]
          },
          "metadata": {
            "tags": []
          },
          "execution_count": 4
        }
      ]
    },
    {
      "cell_type": "code",
      "metadata": {
        "colab": {
          "base_uri": "https://localhost:8080/"
        },
        "id": "y2zCsipQa5vu",
        "outputId": "ff0199da-e9bc-4cc6-bcdd-3db8ddf99efc"
      },
      "source": [
        "data = data[~data.isna().any(axis=1)]\n",
        "data.info()"
      ],
      "execution_count": 5,
      "outputs": [
        {
          "output_type": "stream",
          "text": [
            "<class 'pandas.core.frame.DataFrame'>\n",
            "Int64Index: 127605 entries, 0 to 127606\n",
            "Data columns (total 3 columns):\n",
            " #   Column            Non-Null Count   Dtype \n",
            "---  ------            --------------   ----- \n",
            " 0   source            127605 non-null  object\n",
            " 1   english_sentence  127605 non-null  object\n",
            " 2   hindi_sentence    127605 non-null  object\n",
            "dtypes: object(3)\n",
            "memory usage: 3.9+ MB\n"
          ],
          "name": "stdout"
        }
      ]
    },
    {
      "cell_type": "code",
      "metadata": {
        "colab": {
          "base_uri": "https://localhost:8080/"
        },
        "id": "lkq2NMvSa9pD",
        "outputId": "24f05a9e-43e6-4da8-b5dc-64ea1818830e"
      },
      "source": [
        "data.isna().sum()"
      ],
      "execution_count": 6,
      "outputs": [
        {
          "output_type": "execute_result",
          "data": {
            "text/plain": [
              "source              0\n",
              "english_sentence    0\n",
              "hindi_sentence      0\n",
              "dtype: int64"
            ]
          },
          "metadata": {
            "tags": []
          },
          "execution_count": 6
        }
      ]
    },
    {
      "cell_type": "code",
      "metadata": {
        "colab": {
          "base_uri": "https://localhost:8080/"
        },
        "id": "2NU90qKMbkSo",
        "outputId": "87c90afb-9ba4-49b9-e1c7-a93e30ee3d3e"
      },
      "source": [
        "data.drop_duplicates(inplace=True)\n",
        "data.shape"
      ],
      "execution_count": 7,
      "outputs": [
        {
          "output_type": "execute_result",
          "data": {
            "text/plain": [
              "(124827, 3)"
            ]
          },
          "metadata": {
            "tags": []
          },
          "execution_count": 7
        }
      ]
    },
    {
      "cell_type": "code",
      "metadata": {
        "colab": {
          "base_uri": "https://localhost:8080/",
          "height": 35
        },
        "id": "Wuazyn9Dd3l4",
        "outputId": "0902b869-4df0-41e1-eb83-af6f492da8b3"
      },
      "source": [
        "import string\n",
        "\n",
        "string.punctuation"
      ],
      "execution_count": 8,
      "outputs": [
        {
          "output_type": "execute_result",
          "data": {
            "application/vnd.google.colaboratory.intrinsic+json": {
              "type": "string"
            },
            "text/plain": [
              "'!\"#$%&\\'()*+,-./:;<=>?@[\\\\]^_`{|}~'"
            ]
          },
          "metadata": {
            "tags": []
          },
          "execution_count": 8
        }
      ]
    },
    {
      "cell_type": "code",
      "metadata": {
        "id": "7gxFtA00bxoA"
      },
      "source": [
        "import re\n",
        "\n",
        "def preprocessing(string):\n",
        "  string = string.lower()\n",
        "  string = re.sub(\"[!\\\"#$%&'\\(\\)*+,-./:;<=>?@\\[\\\\\\\\\\]^\\_`\\{\\|\\}~“”]\", \" \", string)\n",
        "  string = re.sub(\"[0-9]\", \" \", string)\n",
        "  string = re.sub(\"[२३०८१५७९४६।]\", \" \", string)\n",
        "  string = re.sub(\"\\s+\", \" \", string)\n",
        "  return string"
      ],
      "execution_count": 9,
      "outputs": []
    },
    {
      "cell_type": "code",
      "metadata": {
        "colab": {
          "base_uri": "https://localhost:8080/",
          "height": 359
        },
        "id": "vxkWC5JZcVAC",
        "outputId": "6c6dfb25-6ccc-48c3-fd9b-36a8075e9fe2"
      },
      "source": [
        "data['english_sentence'] = data['english_sentence'].apply(lambda x: preprocessing(x))\n",
        "data.head(10)"
      ],
      "execution_count": 10,
      "outputs": [
        {
          "output_type": "execute_result",
          "data": {
            "text/html": [
              "<div>\n",
              "<style scoped>\n",
              "    .dataframe tbody tr th:only-of-type {\n",
              "        vertical-align: middle;\n",
              "    }\n",
              "\n",
              "    .dataframe tbody tr th {\n",
              "        vertical-align: top;\n",
              "    }\n",
              "\n",
              "    .dataframe thead th {\n",
              "        text-align: right;\n",
              "    }\n",
              "</style>\n",
              "<table border=\"1\" class=\"dataframe\">\n",
              "  <thead>\n",
              "    <tr style=\"text-align: right;\">\n",
              "      <th></th>\n",
              "      <th>source</th>\n",
              "      <th>english_sentence</th>\n",
              "      <th>hindi_sentence</th>\n",
              "    </tr>\n",
              "  </thead>\n",
              "  <tbody>\n",
              "    <tr>\n",
              "      <th>0</th>\n",
              "      <td>ted</td>\n",
              "      <td>politicians do not have permission to do what ...</td>\n",
              "      <td>राजनीतिज्ञों के पास जो कार्य करना चाहिए, वह कर...</td>\n",
              "    </tr>\n",
              "    <tr>\n",
              "      <th>1</th>\n",
              "      <td>ted</td>\n",
              "      <td>i d like to tell you about one such child</td>\n",
              "      <td>मई आपको ऐसे ही एक बच्चे के बारे में बताना चाहू...</td>\n",
              "    </tr>\n",
              "    <tr>\n",
              "      <th>2</th>\n",
              "      <td>indic2012</td>\n",
              "      <td>this percentage is even greater than the perce...</td>\n",
              "      <td>यह प्रतिशत भारत में हिन्दुओं प्रतिशत से अधिक है।</td>\n",
              "    </tr>\n",
              "    <tr>\n",
              "      <th>3</th>\n",
              "      <td>ted</td>\n",
              "      <td>what we really mean is that they re bad at not...</td>\n",
              "      <td>हम ये नहीं कहना चाहते कि वो ध्यान नहीं दे पाते</td>\n",
              "    </tr>\n",
              "    <tr>\n",
              "      <th>4</th>\n",
              "      <td>indic2012</td>\n",
              "      <td>the ending portion of these vedas is called u...</td>\n",
              "      <td>इन्हीं वेदों का अंतिम भाग उपनिषद कहलाता है।</td>\n",
              "    </tr>\n",
              "    <tr>\n",
              "      <th>5</th>\n",
              "      <td>tides</td>\n",
              "      <td>the then governor of kashmir resisted transfer...</td>\n",
              "      <td>कश्मीर के तत्कालीन गवर्नर ने इस हस्तांतरण का व...</td>\n",
              "    </tr>\n",
              "    <tr>\n",
              "      <th>6</th>\n",
              "      <td>indic2012</td>\n",
              "      <td>in this lies the circumstances of people befor...</td>\n",
              "      <td>इसमें तुमसे पूर्व गुज़रे हुए लोगों के हालात हैं।</td>\n",
              "    </tr>\n",
              "    <tr>\n",
              "      <th>7</th>\n",
              "      <td>ted</td>\n",
              "      <td>and who are we to say even that they are wrong</td>\n",
              "      <td>और हम होते कौन हैं यह कहने भी वाले कि वे गलत हैं</td>\n",
              "    </tr>\n",
              "    <tr>\n",
              "      <th>8</th>\n",
              "      <td>indic2012</td>\n",
              "      <td>global warming refer to warming caused in rec...</td>\n",
              "      <td>ग्लोबल वॉर्मिंग से आशय हाल ही के दशकों में हुई...</td>\n",
              "    </tr>\n",
              "    <tr>\n",
              "      <th>9</th>\n",
              "      <td>tides</td>\n",
              "      <td>you may want your child to go to a school that...</td>\n",
              "      <td>हो सकता है कि आप चाहते हों कि आप का नऋर्नमेनटे...</td>\n",
              "    </tr>\n",
              "  </tbody>\n",
              "</table>\n",
              "</div>"
            ],
            "text/plain": [
              "      source  ...                                     hindi_sentence\n",
              "0        ted  ...  राजनीतिज्ञों के पास जो कार्य करना चाहिए, वह कर...\n",
              "1        ted  ...  मई आपको ऐसे ही एक बच्चे के बारे में बताना चाहू...\n",
              "2  indic2012  ...   यह प्रतिशत भारत में हिन्दुओं प्रतिशत से अधिक है।\n",
              "3        ted  ...     हम ये नहीं कहना चाहते कि वो ध्यान नहीं दे पाते\n",
              "4  indic2012  ...        इन्हीं वेदों का अंतिम भाग उपनिषद कहलाता है।\n",
              "5      tides  ...  कश्मीर के तत्कालीन गवर्नर ने इस हस्तांतरण का व...\n",
              "6  indic2012  ...   इसमें तुमसे पूर्व गुज़रे हुए लोगों के हालात हैं।\n",
              "7        ted  ...   और हम होते कौन हैं यह कहने भी वाले कि वे गलत हैं\n",
              "8  indic2012  ...  ग्लोबल वॉर्मिंग से आशय हाल ही के दशकों में हुई...\n",
              "9      tides  ...  हो सकता है कि आप चाहते हों कि आप का नऋर्नमेनटे...\n",
              "\n",
              "[10 rows x 3 columns]"
            ]
          },
          "metadata": {
            "tags": []
          },
          "execution_count": 10
        }
      ]
    },
    {
      "cell_type": "code",
      "metadata": {
        "colab": {
          "base_uri": "https://localhost:8080/",
          "height": 359
        },
        "id": "YbyzabqCcxro",
        "outputId": "2c56baa1-a152-4c26-b059-9f01eb18d147"
      },
      "source": [
        "data['hindi_sentence'] = data['hindi_sentence'].apply(lambda x: preprocessing(x))\n",
        "data.head(10)"
      ],
      "execution_count": 11,
      "outputs": [
        {
          "output_type": "execute_result",
          "data": {
            "text/html": [
              "<div>\n",
              "<style scoped>\n",
              "    .dataframe tbody tr th:only-of-type {\n",
              "        vertical-align: middle;\n",
              "    }\n",
              "\n",
              "    .dataframe tbody tr th {\n",
              "        vertical-align: top;\n",
              "    }\n",
              "\n",
              "    .dataframe thead th {\n",
              "        text-align: right;\n",
              "    }\n",
              "</style>\n",
              "<table border=\"1\" class=\"dataframe\">\n",
              "  <thead>\n",
              "    <tr style=\"text-align: right;\">\n",
              "      <th></th>\n",
              "      <th>source</th>\n",
              "      <th>english_sentence</th>\n",
              "      <th>hindi_sentence</th>\n",
              "    </tr>\n",
              "  </thead>\n",
              "  <tbody>\n",
              "    <tr>\n",
              "      <th>0</th>\n",
              "      <td>ted</td>\n",
              "      <td>politicians do not have permission to do what ...</td>\n",
              "      <td>राजनीतिज्ञों के पास जो कार्य करना चाहिए वह करन...</td>\n",
              "    </tr>\n",
              "    <tr>\n",
              "      <th>1</th>\n",
              "      <td>ted</td>\n",
              "      <td>i d like to tell you about one such child</td>\n",
              "      <td>मई आपको ऐसे ही एक बच्चे के बारे में बताना चाहू...</td>\n",
              "    </tr>\n",
              "    <tr>\n",
              "      <th>2</th>\n",
              "      <td>indic2012</td>\n",
              "      <td>this percentage is even greater than the perce...</td>\n",
              "      <td>यह प्रतिशत भारत में हिन्दुओं प्रतिशत से अधिक है</td>\n",
              "    </tr>\n",
              "    <tr>\n",
              "      <th>3</th>\n",
              "      <td>ted</td>\n",
              "      <td>what we really mean is that they re bad at not...</td>\n",
              "      <td>हम ये नहीं कहना चाहते कि वो ध्यान नहीं दे पाते</td>\n",
              "    </tr>\n",
              "    <tr>\n",
              "      <th>4</th>\n",
              "      <td>indic2012</td>\n",
              "      <td>the ending portion of these vedas is called u...</td>\n",
              "      <td>इन्हीं वेदों का अंतिम भाग उपनिषद कहलाता है</td>\n",
              "    </tr>\n",
              "    <tr>\n",
              "      <th>5</th>\n",
              "      <td>tides</td>\n",
              "      <td>the then governor of kashmir resisted transfer...</td>\n",
              "      <td>कश्मीर के तत्कालीन गवर्नर ने इस हस्तांतरण का व...</td>\n",
              "    </tr>\n",
              "    <tr>\n",
              "      <th>6</th>\n",
              "      <td>indic2012</td>\n",
              "      <td>in this lies the circumstances of people befor...</td>\n",
              "      <td>इसमें तुमसे पूर्व गुज़रे हुए लोगों के हालात हैं</td>\n",
              "    </tr>\n",
              "    <tr>\n",
              "      <th>7</th>\n",
              "      <td>ted</td>\n",
              "      <td>and who are we to say even that they are wrong</td>\n",
              "      <td>और हम होते कौन हैं यह कहने भी वाले कि वे गलत हैं</td>\n",
              "    </tr>\n",
              "    <tr>\n",
              "      <th>8</th>\n",
              "      <td>indic2012</td>\n",
              "      <td>global warming refer to warming caused in rec...</td>\n",
              "      <td>ग्लोबल वॉर्मिंग से आशय हाल ही के दशकों में हुई...</td>\n",
              "    </tr>\n",
              "    <tr>\n",
              "      <th>9</th>\n",
              "      <td>tides</td>\n",
              "      <td>you may want your child to go to a school that...</td>\n",
              "      <td>हो सकता है कि आप चाहते हों कि आप का नऋर्नमेनटे...</td>\n",
              "    </tr>\n",
              "  </tbody>\n",
              "</table>\n",
              "</div>"
            ],
            "text/plain": [
              "      source  ...                                     hindi_sentence\n",
              "0        ted  ...  राजनीतिज्ञों के पास जो कार्य करना चाहिए वह करन...\n",
              "1        ted  ...  मई आपको ऐसे ही एक बच्चे के बारे में बताना चाहू...\n",
              "2  indic2012  ...   यह प्रतिशत भारत में हिन्दुओं प्रतिशत से अधिक है \n",
              "3        ted  ...     हम ये नहीं कहना चाहते कि वो ध्यान नहीं दे पाते\n",
              "4  indic2012  ...        इन्हीं वेदों का अंतिम भाग उपनिषद कहलाता है \n",
              "5      tides  ...  कश्मीर के तत्कालीन गवर्नर ने इस हस्तांतरण का व...\n",
              "6  indic2012  ...   इसमें तुमसे पूर्व गुज़रे हुए लोगों के हालात हैं \n",
              "7        ted  ...   और हम होते कौन हैं यह कहने भी वाले कि वे गलत हैं\n",
              "8  indic2012  ...  ग्लोबल वॉर्मिंग से आशय हाल ही के दशकों में हुई...\n",
              "9      tides  ...  हो सकता है कि आप चाहते हों कि आप का नऋर्नमेनटे...\n",
              "\n",
              "[10 rows x 3 columns]"
            ]
          },
          "metadata": {
            "tags": []
          },
          "execution_count": 11
        }
      ]
    },
    {
      "cell_type": "code",
      "metadata": {
        "colab": {
          "base_uri": "https://localhost:8080/"
        },
        "id": "twxqrSGLuK4q",
        "outputId": "1312b0ff-d301-4dc6-cd00-8dcd9cc5534b"
      },
      "source": [
        "data=data.sample(n=25000,random_state=42)\n",
        "data.shape"
      ],
      "execution_count": 12,
      "outputs": [
        {
          "output_type": "execute_result",
          "data": {
            "text/plain": [
              "(25000, 3)"
            ]
          },
          "metadata": {
            "tags": []
          },
          "execution_count": 12
        }
      ]
    },
    {
      "cell_type": "code",
      "metadata": {
        "colab": {
          "base_uri": "https://localhost:8080/"
        },
        "id": "1O8QWCuWeVAH",
        "outputId": "c29b6016-f22c-43be-e221-961d944c393a"
      },
      "source": [
        "eng_vocab = []\n",
        "eng_sentences = data['english_sentence'].tolist()\n",
        "eng_maxlen = 0\n",
        "for sent in eng_sentences:\n",
        "  words = sent.split(\" \")\n",
        "  words = [x.strip() for x in words if len(x.strip()) > 0]\n",
        "  if eng_maxlen < len(words):\n",
        "    eng_maxlen = len(words)\n",
        "  eng_vocab.extend(words)\n",
        "\n",
        "\n",
        "hindi_vocab = []\n",
        "hindi_sentences = data['hindi_sentence'].tolist()\n",
        "hindi_maxlen = 0\n",
        "for sent in hindi_sentences:\n",
        "  words = sent.split(\" \")\n",
        "  words = [x.strip() for x in words if len(x.strip()) > 0]\n",
        "  if hindi_maxlen < len(words):\n",
        "    hindi_maxlen = len(words)\n",
        "  hindi_vocab.extend(words)\n",
        "\n",
        "\n",
        "unq_eng_vocab = list(set(eng_vocab))\n",
        "unq_hindi_vocab = list(set(hindi_vocab))\n",
        "\n",
        "print(\"English Vocab:\", len(unq_eng_vocab))\n",
        "print(\"Hindi Vocab:\", len(unq_hindi_vocab))"
      ],
      "execution_count": 13,
      "outputs": [
        {
          "output_type": "stream",
          "text": [
            "English Vocab: 28076\n",
            "Hindi Vocab: 34225\n"
          ],
          "name": "stdout"
        }
      ]
    },
    {
      "cell_type": "code",
      "metadata": {
        "id": "U-YzeYuafxtD"
      },
      "source": [
        "from collections import Counter\n",
        "\n",
        "def word_count(vocabulary):\n",
        "    ct = Counter(vocabulary)\n",
        "    words = []\n",
        "    cnt = []\n",
        "    for i, j in ct.items():\n",
        "      if i != \"<start>\" and i != \"<end>\":\n",
        "        words.append(i)\n",
        "        cnt.append(j)\n",
        "    data = {\"word\":words , \"count\":cnt}\n",
        "    df = pd.DataFrame(data)\n",
        "    df = df.sort_values(by='count', ascending=False)\n",
        "    df = df.reset_index()[[\"word\",\"count\"]]\n",
        "    return df"
      ],
      "execution_count": 14,
      "outputs": []
    },
    {
      "cell_type": "code",
      "metadata": {
        "colab": {
          "base_uri": "https://localhost:8080/",
          "height": 669
        },
        "id": "1ZJZN04ngdml",
        "outputId": "b2dde786-a1c6-48ba-9504-eee1aa9c3ee4"
      },
      "source": [
        "word_cnt = word_count(eng_vocab)\n",
        "word_cnt.head(20)"
      ],
      "execution_count": 15,
      "outputs": [
        {
          "output_type": "execute_result",
          "data": {
            "text/html": [
              "<div>\n",
              "<style scoped>\n",
              "    .dataframe tbody tr th:only-of-type {\n",
              "        vertical-align: middle;\n",
              "    }\n",
              "\n",
              "    .dataframe tbody tr th {\n",
              "        vertical-align: top;\n",
              "    }\n",
              "\n",
              "    .dataframe thead th {\n",
              "        text-align: right;\n",
              "    }\n",
              "</style>\n",
              "<table border=\"1\" class=\"dataframe\">\n",
              "  <thead>\n",
              "    <tr style=\"text-align: right;\">\n",
              "      <th></th>\n",
              "      <th>word</th>\n",
              "      <th>count</th>\n",
              "    </tr>\n",
              "  </thead>\n",
              "  <tbody>\n",
              "    <tr>\n",
              "      <th>0</th>\n",
              "      <td>the</td>\n",
              "      <td>26140</td>\n",
              "    </tr>\n",
              "    <tr>\n",
              "      <th>1</th>\n",
              "      <td>of</td>\n",
              "      <td>15128</td>\n",
              "    </tr>\n",
              "    <tr>\n",
              "      <th>2</th>\n",
              "      <td>and</td>\n",
              "      <td>11725</td>\n",
              "    </tr>\n",
              "    <tr>\n",
              "      <th>3</th>\n",
              "      <td>to</td>\n",
              "      <td>9715</td>\n",
              "    </tr>\n",
              "    <tr>\n",
              "      <th>4</th>\n",
              "      <td>in</td>\n",
              "      <td>9512</td>\n",
              "    </tr>\n",
              "    <tr>\n",
              "      <th>5</th>\n",
              "      <td>a</td>\n",
              "      <td>7486</td>\n",
              "    </tr>\n",
              "    <tr>\n",
              "      <th>6</th>\n",
              "      <td>is</td>\n",
              "      <td>6043</td>\n",
              "    </tr>\n",
              "    <tr>\n",
              "      <th>7</th>\n",
              "      <td>that</td>\n",
              "      <td>3961</td>\n",
              "    </tr>\n",
              "    <tr>\n",
              "      <th>8</th>\n",
              "      <td>it</td>\n",
              "      <td>3616</td>\n",
              "    </tr>\n",
              "    <tr>\n",
              "      <th>9</th>\n",
              "      <td>for</td>\n",
              "      <td>3236</td>\n",
              "    </tr>\n",
              "    <tr>\n",
              "      <th>10</th>\n",
              "      <td>was</td>\n",
              "      <td>3216</td>\n",
              "    </tr>\n",
              "    <tr>\n",
              "      <th>11</th>\n",
              "      <td>this</td>\n",
              "      <td>2895</td>\n",
              "    </tr>\n",
              "    <tr>\n",
              "      <th>12</th>\n",
              "      <td>on</td>\n",
              "      <td>2636</td>\n",
              "    </tr>\n",
              "    <tr>\n",
              "      <th>13</th>\n",
              "      <td>are</td>\n",
              "      <td>2489</td>\n",
              "    </tr>\n",
              "    <tr>\n",
              "      <th>14</th>\n",
              "      <td>as</td>\n",
              "      <td>2470</td>\n",
              "    </tr>\n",
              "    <tr>\n",
              "      <th>15</th>\n",
              "      <td>with</td>\n",
              "      <td>2352</td>\n",
              "    </tr>\n",
              "    <tr>\n",
              "      <th>16</th>\n",
              "      <td>s</td>\n",
              "      <td>2313</td>\n",
              "    </tr>\n",
              "    <tr>\n",
              "      <th>17</th>\n",
              "      <td>by</td>\n",
              "      <td>2262</td>\n",
              "    </tr>\n",
              "    <tr>\n",
              "      <th>18</th>\n",
              "      <td>be</td>\n",
              "      <td>2171</td>\n",
              "    </tr>\n",
              "    <tr>\n",
              "      <th>19</th>\n",
              "      <td>he</td>\n",
              "      <td>1975</td>\n",
              "    </tr>\n",
              "  </tbody>\n",
              "</table>\n",
              "</div>"
            ],
            "text/plain": [
              "    word  count\n",
              "0    the  26140\n",
              "1     of  15128\n",
              "2    and  11725\n",
              "3     to   9715\n",
              "4     in   9512\n",
              "5      a   7486\n",
              "6     is   6043\n",
              "7   that   3961\n",
              "8     it   3616\n",
              "9    for   3236\n",
              "10   was   3216\n",
              "11  this   2895\n",
              "12    on   2636\n",
              "13   are   2489\n",
              "14    as   2470\n",
              "15  with   2352\n",
              "16     s   2313\n",
              "17    by   2262\n",
              "18    be   2171\n",
              "19    he   1975"
            ]
          },
          "metadata": {
            "tags": []
          },
          "execution_count": 15
        }
      ]
    },
    {
      "cell_type": "code",
      "metadata": {
        "colab": {
          "base_uri": "https://localhost:8080/",
          "height": 382
        },
        "id": "8ho_Rrkmgh9L",
        "outputId": "07290118-32d5-4ef3-87dc-192b912216e5"
      },
      "source": [
        "import matplotlib.pyplot as plt\n",
        "\n",
        "topn = 50\n",
        "\n",
        "def plot_word_count(df, title):\n",
        "    plt.figure(figsize=(30,3))\n",
        "    plt.bar(df.index, df[\"count\"])\n",
        "    plt.yticks(fontsize=20)\n",
        "    plt.xticks(df.index,df[\"word\"], rotation=90, fontsize=20)\n",
        "    plt.title(title, fontsize=20)\n",
        "    plt.show()\n",
        "\n",
        "plot_word_count(word_cnt[:topn], title=\"The top 20 most frequently appearing words\")\n",
        "print()\n",
        "plot_word_count(word_cnt[-topn:], title=\"The least 20 most frequently appearing words\")"
      ],
      "execution_count": 16,
      "outputs": [
        {
          "output_type": "display_data",
          "data": {
            "image/png": "[encoded data removed]",
            "text/plain": [
              "<Figure size 2160x216 with 1 Axes>"
            ]
          },
          "metadata": {
            "tags": [],
            "needs_background": "light"
          }
        },
        {
          "output_type": "stream",
          "text": [
            "\n"
          ],
          "name": "stdout"
        },
        {
          "output_type": "display_data",
          "data": {
            "image/png": "[encoded data removed]",
            "text/plain": [
              "<Figure size 2160x216 with 1 Axes>"
            ]
          },
          "metadata": {
            "tags": [],
            "needs_background": "light"
          }
        }
      ]
    },
    {
      "cell_type": "code",
      "metadata": {
        "id": "Gic8Av3VhzQO"
      },
      "source": [
        "data['hindi_sentence'] = data['hindi_sentence'].apply(lambda x: \"<start> \"+x+\" <end>\")"
      ],
      "execution_count": 17,
      "outputs": []
    },
    {
      "cell_type": "code",
      "metadata": {
        "colab": {
          "base_uri": "https://localhost:8080/",
          "height": 669
        },
        "id": "a-vx0In-iE3_",
        "outputId": "33f749a7-c8ea-4289-885f-6605dd3d7256"
      },
      "source": [
        "data.head(20)"
      ],
      "execution_count": 18,
      "outputs": [
        {
          "output_type": "execute_result",
          "data": {
            "text/html": [
              "<div>\n",
              "<style scoped>\n",
              "    .dataframe tbody tr th:only-of-type {\n",
              "        vertical-align: middle;\n",
              "    }\n",
              "\n",
              "    .dataframe tbody tr th {\n",
              "        vertical-align: top;\n",
              "    }\n",
              "\n",
              "    .dataframe thead th {\n",
              "        text-align: right;\n",
              "    }\n",
              "</style>\n",
              "<table border=\"1\" class=\"dataframe\">\n",
              "  <thead>\n",
              "    <tr style=\"text-align: right;\">\n",
              "      <th></th>\n",
              "      <th>source</th>\n",
              "      <th>english_sentence</th>\n",
              "      <th>hindi_sentence</th>\n",
              "    </tr>\n",
              "  </thead>\n",
              "  <tbody>\n",
              "    <tr>\n",
              "      <th>25520</th>\n",
              "      <td>indic2012</td>\n",
              "      <td>islam is word from arabic and it full word is ...</td>\n",
              "      <td>&lt;start&gt; इस्लाम शब्द अरबी भाषा का शब्द है जिसका...</td>\n",
              "    </tr>\n",
              "    <tr>\n",
              "      <th>118633</th>\n",
              "      <td>ted</td>\n",
              "      <td>everything is reliant on these computers working</td>\n",
              "      <td>&lt;start&gt; इन कंप्यूटरों पर सब कुछ निर्भर है  &lt;end&gt;</td>\n",
              "    </tr>\n",
              "    <tr>\n",
              "      <th>113495</th>\n",
              "      <td>tides</td>\n",
              "      <td>parliament does not control the government</td>\n",
              "      <td>&lt;start&gt; संसद का सरकार पपर नियंत्रण नपहीं रहता ...</td>\n",
              "    </tr>\n",
              "    <tr>\n",
              "      <th>29783</th>\n",
              "      <td>tides</td>\n",
              "      <td>race equality new laws</td>\n",
              "      <td>&lt;start&gt; नये कानून नस्ली समानता &lt;end&gt;</td>\n",
              "    </tr>\n",
              "    <tr>\n",
              "      <th>111804</th>\n",
              "      <td>tides</td>\n",
              "      <td>the provision would not affect the power of pa...</td>\n",
              "      <td>&lt;start&gt; व्यवसायों आदि से होने वाली आय के बारे ...</td>\n",
              "    </tr>\n",
              "    <tr>\n",
              "      <th>44718</th>\n",
              "      <td>tides</td>\n",
              "      <td>from the top of the adhishthana at about the m...</td>\n",
              "      <td>&lt;start&gt; उत्तरी दिशा के लगभग मध्य में अधिष्ठान ...</td>\n",
              "    </tr>\n",
              "    <tr>\n",
              "      <th>57202</th>\n",
              "      <td>ted</td>\n",
              "      <td>there was lasagna there was casseroles</td>\n",
              "      <td>&lt;start&gt; वहां लाजान्या था कैसेरोल थे  &lt;end&gt;</td>\n",
              "    </tr>\n",
              "    <tr>\n",
              "      <th>107821</th>\n",
              "      <td>indic2012</td>\n",
              "      <td>super power india source google writer vedprat...</td>\n",
              "      <td>&lt;start&gt; महाशक्ति भारत गूगल पुस्तक लेखक वेदप्रत...</td>\n",
              "    </tr>\n",
              "    <tr>\n",
              "      <th>85746</th>\n",
              "      <td>tides</td>\n",
              "      <td>each was a blow to conservatism</td>\n",
              "      <td>&lt;start&gt; इनमें से प्रत्येक यथास्थितिवादियों पर ...</td>\n",
              "    </tr>\n",
              "    <tr>\n",
              "      <th>81085</th>\n",
              "      <td>tides</td>\n",
              "      <td>if he is satisfied that the matter is urgent a...</td>\n",
              "      <td>&lt;start&gt; यदि उसका समाधान हो जाए कि मामला इतना अ...</td>\n",
              "    </tr>\n",
              "    <tr>\n",
              "      <th>55848</th>\n",
              "      <td>tides</td>\n",
              "      <td>the colour of the drake is black at the neck a...</td>\n",
              "      <td>&lt;start&gt; नर बतख का रंग गर्दन और पीठ पर काला होत...</td>\n",
              "    </tr>\n",
              "    <tr>\n",
              "      <th>103460</th>\n",
              "      <td>ted</td>\n",
              "      <td>in the mathare valley slums</td>\n",
              "      <td>&lt;start&gt; माथेरा घाटी की झुग्गियों में  &lt;end&gt;</td>\n",
              "    </tr>\n",
              "    <tr>\n",
              "      <th>91981</th>\n",
              "      <td>ted</td>\n",
              "      <td>the second time was a procedure that involved ...</td>\n",
              "      <td>&lt;start&gt; दूसरी बार के उपचार में बेहोश करने की आ...</td>\n",
              "    </tr>\n",
              "    <tr>\n",
              "      <th>101360</th>\n",
              "      <td>indic2012</td>\n",
              "      <td>uttarpradesh a mirror live hindustan</td>\n",
              "      <td>&lt;start&gt; उत्तर प्रदेश एक आईना लाइव हिन्दुस्तान ...</td>\n",
              "    </tr>\n",
              "    <tr>\n",
              "      <th>106561</th>\n",
              "      <td>indic2012</td>\n",
              "      <td>this can download any media and play it or can...</td>\n",
              "      <td>&lt;start&gt; ये मीडिया को डाउनलोड कर उसे चला सकते ह...</td>\n",
              "    </tr>\n",
              "    <tr>\n",
              "      <th>101884</th>\n",
              "      <td>ted</td>\n",
              "      <td>to make sure that just coming into the laboratory</td>\n",
              "      <td>&lt;start&gt; यह यकीन करने के लिए की मात्र प्रयोगशाल...</td>\n",
              "    </tr>\n",
              "    <tr>\n",
              "      <th>1948</th>\n",
              "      <td>ted</td>\n",
              "      <td>let me give you a couple of examples</td>\n",
              "      <td>&lt;start&gt; मै तुम्हे कुछ उदाहरण देता हूँ &lt;end&gt;</td>\n",
              "    </tr>\n",
              "    <tr>\n",
              "      <th>32014</th>\n",
              "      <td>tides</td>\n",
              "      <td>an expert in the plants of mesoamerica sandy k...</td>\n",
              "      <td>&lt;start&gt; सैन्डी नैप जो कि मेसोअमेरिका में पाए ज...</td>\n",
              "    </tr>\n",
              "    <tr>\n",
              "      <th>24378</th>\n",
              "      <td>ted</td>\n",
              "      <td>why don t you teach them not to waste money</td>\n",
              "      <td>&lt;start&gt; उन्हें आप पैसा नहीं बरबाद करना क्यों न...</td>\n",
              "    </tr>\n",
              "    <tr>\n",
              "      <th>27920</th>\n",
              "      <td>tides</td>\n",
              "      <td>the other two members will have knowledge and ...</td>\n",
              "      <td>&lt;start&gt; बाकी के दो सदस्यों के पास या तो विशेष ...</td>\n",
              "    </tr>\n",
              "  </tbody>\n",
              "</table>\n",
              "</div>"
            ],
            "text/plain": [
              "           source  ...                                     hindi_sentence\n",
              "25520   indic2012  ...  <start> इस्लाम शब्द अरबी भाषा का शब्द है जिसका...\n",
              "118633        ted  ...   <start> इन कंप्यूटरों पर सब कुछ निर्भर है  <end>\n",
              "113495      tides  ...  <start> संसद का सरकार पपर नियंत्रण नपहीं रहता ...\n",
              "29783       tides  ...               <start> नये कानून नस्ली समानता <end>\n",
              "111804      tides  ...  <start> व्यवसायों आदि से होने वाली आय के बारे ...\n",
              "44718       tides  ...  <start> उत्तरी दिशा के लगभग मध्य में अधिष्ठान ...\n",
              "57202         ted  ...         <start> वहां लाजान्या था कैसेरोल थे  <end>\n",
              "107821  indic2012  ...  <start> महाशक्ति भारत गूगल पुस्तक लेखक वेदप्रत...\n",
              "85746       tides  ...  <start> इनमें से प्रत्येक यथास्थितिवादियों पर ...\n",
              "81085       tides  ...  <start> यदि उसका समाधान हो जाए कि मामला इतना अ...\n",
              "55848       tides  ...  <start> नर बतख का रंग गर्दन और पीठ पर काला होत...\n",
              "103460        ted  ...        <start> माथेरा घाटी की झुग्गियों में  <end>\n",
              "91981         ted  ...  <start> दूसरी बार के उपचार में बेहोश करने की आ...\n",
              "101360  indic2012  ...  <start> उत्तर प्रदेश एक आईना लाइव हिन्दुस्तान ...\n",
              "106561  indic2012  ...  <start> ये मीडिया को डाउनलोड कर उसे चला सकते ह...\n",
              "101884        ted  ...  <start> यह यकीन करने के लिए की मात्र प्रयोगशाल...\n",
              "1948          ted  ...        <start> मै तुम्हे कुछ उदाहरण देता हूँ <end>\n",
              "32014       tides  ...  <start> सैन्डी नैप जो कि मेसोअमेरिका में पाए ज...\n",
              "24378         ted  ...  <start> उन्हें आप पैसा नहीं बरबाद करना क्यों न...\n",
              "27920       tides  ...  <start> बाकी के दो सदस्यों के पास या तो विशेष ...\n",
              "\n",
              "[20 rows x 3 columns]"
            ]
          },
          "metadata": {
            "tags": []
          },
          "execution_count": 18
        }
      ]
    },
    {
      "cell_type": "code",
      "metadata": {
        "id": "aKhLdIS1iLPj"
      },
      "source": [
        "unq_hindi_vocab.append('<start>')\n",
        "unq_hindi_vocab.append('<end>')"
      ],
      "execution_count": 19,
      "outputs": []
    },
    {
      "cell_type": "code",
      "metadata": {
        "colab": {
          "base_uri": "https://localhost:8080/",
          "height": 907
        },
        "id": "ymM2ySdpigKc",
        "outputId": "d68f5b83-24a1-4032-ea11-a7c2aec58ddf"
      },
      "source": [
        "data['eng_sent_len'] = data['english_sentence'].apply(lambda x:len(x.split(\" \")))\n",
        "data['hindi_sent_len'] = data['hindi_sentence'].apply(lambda x:len(x.split(\" \")))\n",
        "data.head(20)"
      ],
      "execution_count": 20,
      "outputs": [
        {
          "output_type": "execute_result",
          "data": {
            "text/html": [
              "<div>\n",
              "<style scoped>\n",
              "    .dataframe tbody tr th:only-of-type {\n",
              "        vertical-align: middle;\n",
              "    }\n",
              "\n",
              "    .dataframe tbody tr th {\n",
              "        vertical-align: top;\n",
              "    }\n",
              "\n",
              "    .dataframe thead th {\n",
              "        text-align: right;\n",
              "    }\n",
              "</style>\n",
              "<table border=\"1\" class=\"dataframe\">\n",
              "  <thead>\n",
              "    <tr style=\"text-align: right;\">\n",
              "      <th></th>\n",
              "      <th>source</th>\n",
              "      <th>english_sentence</th>\n",
              "      <th>hindi_sentence</th>\n",
              "      <th>eng_sent_len</th>\n",
              "      <th>hindi_sent_len</th>\n",
              "    </tr>\n",
              "  </thead>\n",
              "  <tbody>\n",
              "    <tr>\n",
              "      <th>25520</th>\n",
              "      <td>indic2012</td>\n",
              "      <td>islam is word from arabic and it full word is ...</td>\n",
              "      <td>&lt;start&gt; इस्लाम शब्द अरबी भाषा का शब्द है जिसका...</td>\n",
              "      <td>15</td>\n",
              "      <td>22</td>\n",
              "    </tr>\n",
              "    <tr>\n",
              "      <th>118633</th>\n",
              "      <td>ted</td>\n",
              "      <td>everything is reliant on these computers working</td>\n",
              "      <td>&lt;start&gt; इन कंप्यूटरों पर सब कुछ निर्भर है  &lt;end&gt;</td>\n",
              "      <td>8</td>\n",
              "      <td>10</td>\n",
              "    </tr>\n",
              "    <tr>\n",
              "      <th>113495</th>\n",
              "      <td>tides</td>\n",
              "      <td>parliament does not control the government</td>\n",
              "      <td>&lt;start&gt; संसद का सरकार पपर नियंत्रण नपहीं रहता ...</td>\n",
              "      <td>7</td>\n",
              "      <td>10</td>\n",
              "    </tr>\n",
              "    <tr>\n",
              "      <th>29783</th>\n",
              "      <td>tides</td>\n",
              "      <td>race equality new laws</td>\n",
              "      <td>&lt;start&gt; नये कानून नस्ली समानता &lt;end&gt;</td>\n",
              "      <td>4</td>\n",
              "      <td>6</td>\n",
              "    </tr>\n",
              "    <tr>\n",
              "      <th>111804</th>\n",
              "      <td>tides</td>\n",
              "      <td>the provision would not affect the power of pa...</td>\n",
              "      <td>&lt;start&gt; व्यवसायों आदि से होने वाली आय के बारे ...</td>\n",
              "      <td>23</td>\n",
              "      <td>25</td>\n",
              "    </tr>\n",
              "    <tr>\n",
              "      <th>44718</th>\n",
              "      <td>tides</td>\n",
              "      <td>from the top of the adhishthana at about the m...</td>\n",
              "      <td>&lt;start&gt; उत्तरी दिशा के लगभग मध्य में अधिष्ठान ...</td>\n",
              "      <td>34</td>\n",
              "      <td>34</td>\n",
              "    </tr>\n",
              "    <tr>\n",
              "      <th>57202</th>\n",
              "      <td>ted</td>\n",
              "      <td>there was lasagna there was casseroles</td>\n",
              "      <td>&lt;start&gt; वहां लाजान्या था कैसेरोल थे  &lt;end&gt;</td>\n",
              "      <td>7</td>\n",
              "      <td>8</td>\n",
              "    </tr>\n",
              "    <tr>\n",
              "      <th>107821</th>\n",
              "      <td>indic2012</td>\n",
              "      <td>super power india source google writer vedprat...</td>\n",
              "      <td>&lt;start&gt; महाशक्ति भारत गूगल पुस्तक लेखक वेदप्रत...</td>\n",
              "      <td>9</td>\n",
              "      <td>10</td>\n",
              "    </tr>\n",
              "    <tr>\n",
              "      <th>85746</th>\n",
              "      <td>tides</td>\n",
              "      <td>each was a blow to conservatism</td>\n",
              "      <td>&lt;start&gt; इनमें से प्रत्येक यथास्थितिवादियों पर ...</td>\n",
              "      <td>7</td>\n",
              "      <td>11</td>\n",
              "    </tr>\n",
              "    <tr>\n",
              "      <th>81085</th>\n",
              "      <td>tides</td>\n",
              "      <td>if he is satisfied that the matter is urgent a...</td>\n",
              "      <td>&lt;start&gt; यदि उसका समाधान हो जाए कि मामला इतना अ...</td>\n",
              "      <td>41</td>\n",
              "      <td>49</td>\n",
              "    </tr>\n",
              "    <tr>\n",
              "      <th>55848</th>\n",
              "      <td>tides</td>\n",
              "      <td>the colour of the drake is black at the neck a...</td>\n",
              "      <td>&lt;start&gt; नर बतख का रंग गर्दन और पीठ पर काला होत...</td>\n",
              "      <td>13</td>\n",
              "      <td>14</td>\n",
              "    </tr>\n",
              "    <tr>\n",
              "      <th>103460</th>\n",
              "      <td>ted</td>\n",
              "      <td>in the mathare valley slums</td>\n",
              "      <td>&lt;start&gt; माथेरा घाटी की झुग्गियों में  &lt;end&gt;</td>\n",
              "      <td>6</td>\n",
              "      <td>8</td>\n",
              "    </tr>\n",
              "    <tr>\n",
              "      <th>91981</th>\n",
              "      <td>ted</td>\n",
              "      <td>the second time was a procedure that involved ...</td>\n",
              "      <td>&lt;start&gt; दूसरी बार के उपचार में बेहोश करने की आ...</td>\n",
              "      <td>11</td>\n",
              "      <td>12</td>\n",
              "    </tr>\n",
              "    <tr>\n",
              "      <th>101360</th>\n",
              "      <td>indic2012</td>\n",
              "      <td>uttarpradesh a mirror live hindustan</td>\n",
              "      <td>&lt;start&gt; उत्तर प्रदेश एक आईना लाइव हिन्दुस्तान ...</td>\n",
              "      <td>6</td>\n",
              "      <td>9</td>\n",
              "    </tr>\n",
              "    <tr>\n",
              "      <th>106561</th>\n",
              "      <td>indic2012</td>\n",
              "      <td>this can download any media and play it or can...</td>\n",
              "      <td>&lt;start&gt; ये मीडिया को डाउनलोड कर उसे चला सकते ह...</td>\n",
              "      <td>19</td>\n",
              "      <td>26</td>\n",
              "    </tr>\n",
              "    <tr>\n",
              "      <th>101884</th>\n",
              "      <td>ted</td>\n",
              "      <td>to make sure that just coming into the laboratory</td>\n",
              "      <td>&lt;start&gt; यह यकीन करने के लिए की मात्र प्रयोगशाल...</td>\n",
              "      <td>9</td>\n",
              "      <td>13</td>\n",
              "    </tr>\n",
              "    <tr>\n",
              "      <th>1948</th>\n",
              "      <td>ted</td>\n",
              "      <td>let me give you a couple of examples</td>\n",
              "      <td>&lt;start&gt; मै तुम्हे कुछ उदाहरण देता हूँ &lt;end&gt;</td>\n",
              "      <td>9</td>\n",
              "      <td>8</td>\n",
              "    </tr>\n",
              "    <tr>\n",
              "      <th>32014</th>\n",
              "      <td>tides</td>\n",
              "      <td>an expert in the plants of mesoamerica sandy k...</td>\n",
              "      <td>&lt;start&gt; सैन्डी नैप जो कि मेसोअमेरिका में पाए ज...</td>\n",
              "      <td>32</td>\n",
              "      <td>39</td>\n",
              "    </tr>\n",
              "    <tr>\n",
              "      <th>24378</th>\n",
              "      <td>ted</td>\n",
              "      <td>why don t you teach them not to waste money</td>\n",
              "      <td>&lt;start&gt; उन्हें आप पैसा नहीं बरबाद करना क्यों न...</td>\n",
              "      <td>11</td>\n",
              "      <td>12</td>\n",
              "    </tr>\n",
              "    <tr>\n",
              "      <th>27920</th>\n",
              "      <td>tides</td>\n",
              "      <td>the other two members will have knowledge and ...</td>\n",
              "      <td>&lt;start&gt; बाकी के दो सदस्यों के पास या तो विशेष ...</td>\n",
              "      <td>14</td>\n",
              "      <td>27</td>\n",
              "    </tr>\n",
              "  </tbody>\n",
              "</table>\n",
              "</div>"
            ],
            "text/plain": [
              "           source  ... hindi_sent_len\n",
              "25520   indic2012  ...             22\n",
              "118633        ted  ...             10\n",
              "113495      tides  ...             10\n",
              "29783       tides  ...              6\n",
              "111804      tides  ...             25\n",
              "44718       tides  ...             34\n",
              "57202         ted  ...              8\n",
              "107821  indic2012  ...             10\n",
              "85746       tides  ...             11\n",
              "81085       tides  ...             49\n",
              "55848       tides  ...             14\n",
              "103460        ted  ...              8\n",
              "91981         ted  ...             12\n",
              "101360  indic2012  ...              9\n",
              "106561  indic2012  ...             26\n",
              "101884        ted  ...             13\n",
              "1948          ted  ...              8\n",
              "32014       tides  ...             39\n",
              "24378         ted  ...             12\n",
              "27920       tides  ...             27\n",
              "\n",
              "[20 rows x 5 columns]"
            ]
          },
          "metadata": {
            "tags": []
          },
          "execution_count": 20
        }
      ]
    },
    {
      "cell_type": "code",
      "metadata": {
        "colab": {
          "base_uri": "https://localhost:8080/",
          "height": 265
        },
        "id": "p6LNqo9HiwW-",
        "outputId": "ecc89fac-3b15-4365-c4f0-63d1a76781ba"
      },
      "source": [
        "plt.boxplot(data['eng_sent_len'])\n",
        "plt.show()"
      ],
      "execution_count": 21,
      "outputs": [
        {
          "output_type": "display_data",
          "data": {
            "image/png": "[encoded data removed]",
            "text/plain": [
              "<Figure size 432x288 with 1 Axes>"
            ]
          },
          "metadata": {
            "tags": [],
            "needs_background": "light"
          }
        }
      ]
    },
    {
      "cell_type": "code",
      "metadata": {
        "id": "E-a6EZ0ljs-5"
      },
      "source": [
        "df = data[data['eng_sent_len'] <= 50]"
      ],
      "execution_count": 22,
      "outputs": []
    },
    {
      "cell_type": "code",
      "metadata": {
        "colab": {
          "base_uri": "https://localhost:8080/",
          "height": 265
        },
        "id": "2onEJbL3jb2t",
        "outputId": "897432d8-3b48-48aa-ced7-62da332d0ee9"
      },
      "source": [
        "plt.boxplot(df['eng_sent_len'])\n",
        "plt.show()"
      ],
      "execution_count": 23,
      "outputs": [
        {
          "output_type": "display_data",
          "data": {
            "image/png": "[encoded data removed]",
            "text/plain": [
              "<Figure size 432x288 with 1 Axes>"
            ]
          },
          "metadata": {
            "tags": [],
            "needs_background": "light"
          }
        }
      ]
    },
    {
      "cell_type": "code",
      "metadata": {
        "colab": {
          "base_uri": "https://localhost:8080/",
          "height": 334
        },
        "id": "gexKKO7nkCDp",
        "outputId": "309e4a71-8155-4788-ab2c-9e981c426ed8"
      },
      "source": [
        "plt.hist(df['eng_sent_len'])"
      ],
      "execution_count": 24,
      "outputs": [
        {
          "output_type": "execute_result",
          "data": {
            "text/plain": [
              "(array([3049., 6775., 5192., 3254., 2381., 1573., 1015.,  616.,  405.,\n",
              "         226.]),\n",
              " array([ 1. ,  5.9, 10.8, 15.7, 20.6, 25.5, 30.4, 35.3, 40.2, 45.1, 50. ]),\n",
              " <a list of 10 Patch objects>)"
            ]
          },
          "metadata": {
            "tags": []
          },
          "execution_count": 24
        },
        {
          "output_type": "display_data",
          "data": {
            "image/png": "[encoded data removed]",
            "text/plain": [
              "<Figure size 432x288 with 1 Axes>"
            ]
          },
          "metadata": {
            "tags": [],
            "needs_background": "light"
          }
        }
      ]
    },
    {
      "cell_type": "code",
      "metadata": {
        "colab": {
          "base_uri": "https://localhost:8080/",
          "height": 350
        },
        "id": "jk8WizIxkPTo",
        "outputId": "3dccacff-040b-4fda-925f-3bbce6b05ddc"
      },
      "source": [
        "plt.hist(df['hindi_sent_len'])"
      ],
      "execution_count": 25,
      "outputs": [
        {
          "output_type": "execute_result",
          "data": {
            "text/plain": [
              "(array([2.1884e+04, 2.4970e+03, 8.1000e+01, 1.0000e+01, 5.0000e+00,\n",
              "        6.0000e+00, 1.0000e+00, 0.0000e+00, 1.0000e+00, 1.0000e+00]),\n",
              " array([  3. ,  34.2,  65.4,  96.6, 127.8, 159. , 190.2, 221.4, 252.6,\n",
              "        283.8, 315. ]),\n",
              " <a list of 10 Patch objects>)"
            ]
          },
          "metadata": {
            "tags": []
          },
          "execution_count": 25
        },
        {
          "output_type": "display_data",
          "data": {
            "image/png": "[encoded data removed]",
            "text/plain": [
              "<Figure size 432x288 with 1 Axes>"
            ]
          },
          "metadata": {
            "tags": [],
            "needs_background": "light"
          }
        }
      ]
    },
    {
      "cell_type": "code",
      "metadata": {
        "colab": {
          "base_uri": "https://localhost:8080/",
          "height": 265
        },
        "id": "VKP0fkPzkeDr",
        "outputId": "91d4cec0-7e51-4c2c-b255-520b44d36e6a"
      },
      "source": [
        "plt.boxplot(df['hindi_sent_len'])\n",
        "plt.show()"
      ],
      "execution_count": 26,
      "outputs": [
        {
          "output_type": "display_data",
          "data": {
            "image/png": "[encoded data removed]",
            "text/plain": [
              "<Figure size 432x288 with 1 Axes>"
            ]
          },
          "metadata": {
            "tags": [],
            "needs_background": "light"
          }
        }
      ]
    },
    {
      "cell_type": "code",
      "metadata": {
        "id": "aJ4UQr7Ukl4e"
      },
      "source": [
        "df = df[df['hindi_sent_len'] <= 50]"
      ],
      "execution_count": 27,
      "outputs": []
    },
    {
      "cell_type": "code",
      "metadata": {
        "colab": {
          "base_uri": "https://localhost:8080/",
          "height": 265
        },
        "id": "jPU0po97kq-x",
        "outputId": "6145a7b7-5652-4159-c372-524c00d5642c"
      },
      "source": [
        "plt.boxplot(df['hindi_sent_len'])\n",
        "plt.show()"
      ],
      "execution_count": 28,
      "outputs": [
        {
          "output_type": "display_data",
          "data": {
            "image/png": "[encoded data removed]",
            "text/plain": [
              "<Figure size 432x288 with 1 Axes>"
            ]
          },
          "metadata": {
            "tags": [],
            "needs_background": "light"
          }
        }
      ]
    },
    {
      "cell_type": "code",
      "metadata": {
        "colab": {
          "base_uri": "https://localhost:8080/",
          "height": 333
        },
        "id": "7Fr_azPNkuCy",
        "outputId": "f93c4fb5-8fc3-4a53-c297-531416628451"
      },
      "source": [
        "plt.hist(df['hindi_sent_len'])"
      ],
      "execution_count": 29,
      "outputs": [
        {
          "output_type": "execute_result",
          "data": {
            "text/plain": [
              "(array([2785., 5937., 5107., 2757., 2555., 1956., 1043.,  880.,  615.,\n",
              "         400.]),\n",
              " array([ 3. ,  7.7, 12.4, 17.1, 21.8, 26.5, 31.2, 35.9, 40.6, 45.3, 50. ]),\n",
              " <a list of 10 Patch objects>)"
            ]
          },
          "metadata": {
            "tags": []
          },
          "execution_count": 29
        },
        {
          "output_type": "display_data",
          "data": {
            "image/png": "[encoded data removed]",
            "text/plain": [
              "<Figure size 432x288 with 1 Axes>"
            ]
          },
          "metadata": {
            "tags": [],
            "needs_background": "light"
          }
        }
      ]
    },
    {
      "cell_type": "code",
      "metadata": {
        "colab": {
          "base_uri": "https://localhost:8080/"
        },
        "id": "M5qjyWjWkwhC",
        "outputId": "c4367ad6-b938-4700-9e71-04e8f81bd58f"
      },
      "source": [
        "print(\"Earlier:\", data.shape)\n",
        "print(\"Now:\", df.shape)"
      ],
      "execution_count": 30,
      "outputs": [
        {
          "output_type": "stream",
          "text": [
            "Earlier: (25000, 5)\n",
            "Now: (24035, 5)\n"
          ],
          "name": "stdout"
        }
      ]
    },
    {
      "cell_type": "code",
      "metadata": {
        "colab": {
          "base_uri": "https://localhost:8080/"
        },
        "id": "EmsqjgaElJoB",
        "outputId": "0d453ff7-d53c-40c6-e96d-0ae0173dcae7"
      },
      "source": [
        "target_max_length = max(df['hindi_sent_len'])\n",
        "source_max_length = max(df['eng_sent_len'])\n",
        "\n",
        "print(\"Maximum length of Hindi Sentence:\", target_max_length)\n",
        "print(\"Maximum length of English Sentence:\", source_max_length)"
      ],
      "execution_count": 31,
      "outputs": [
        {
          "output_type": "stream",
          "text": [
            "Maximum length of Hindi Sentence: 50\n",
            "Maximum length of English Sentence: 50\n"
          ],
          "name": "stdout"
        }
      ]
    },
    {
      "cell_type": "code",
      "metadata": {
        "id": "-rIYmqfxls2U"
      },
      "source": [
        "eng_id2word = {}\n",
        "eng_word2id = {}\n",
        "for indx, word in enumerate(unq_eng_vocab):\n",
        "    eng_word2id[word] = indx\n",
        "    eng_id2word[indx] = word"
      ],
      "execution_count": 32,
      "outputs": []
    },
    {
      "cell_type": "code",
      "metadata": {
        "id": "5iybGCu_mMQT"
      },
      "source": [
        "hindi_id2word = {}\n",
        "hindi_word2id = {}\n",
        "for indx, word in enumerate(unq_hindi_vocab):\n",
        "    hindi_word2id[word] = indx\n",
        "    hindi_id2word[indx] = word"
      ],
      "execution_count": 33,
      "outputs": []
    },
    {
      "cell_type": "code",
      "metadata": {
        "colab": {
          "base_uri": "https://localhost:8080/"
        },
        "id": "KwTDneOtmTIW",
        "outputId": "1f6623e4-b60a-495b-d6bf-338bd0e08aec"
      },
      "source": [
        "eng_word2id['is']"
      ],
      "execution_count": 34,
      "outputs": [
        {
          "output_type": "execute_result",
          "data": {
            "text/plain": [
              "18826"
            ]
          },
          "metadata": {
            "tags": []
          },
          "execution_count": 34
        }
      ]
    },
    {
      "cell_type": "code",
      "metadata": {
        "colab": {
          "base_uri": "https://localhost:8080/"
        },
        "id": "RQNq-_m8mZIX",
        "outputId": "efcda79d-4c0a-49d3-852a-e254284d6594"
      },
      "source": [
        "hindi_word2id[\"राजनीतिज्ञों\"]"
      ],
      "execution_count": 35,
      "outputs": [
        {
          "output_type": "execute_result",
          "data": {
            "text/plain": [
              "27641"
            ]
          },
          "metadata": {
            "tags": []
          },
          "execution_count": 35
        }
      ]
    },
    {
      "cell_type": "code",
      "metadata": {
        "id": "04ovUSbFmrjq"
      },
      "source": [
        "from sklearn.utils import shuffle\n",
        "from sklearn.model_selection import train_test_split\n",
        "from tensorflow.keras.layers import Input, LSTM, Embedding, Dense\n",
        "from tensorflow.keras.models import Model"
      ],
      "execution_count": 36,
      "outputs": []
    },
    {
      "cell_type": "code",
      "metadata": {
        "colab": {
          "base_uri": "https://localhost:8080/",
          "height": 478
        },
        "id": "wkoHnZ3hme4a",
        "outputId": "0c3cede9-7aaf-4ef2-866b-d35a7bd6f949"
      },
      "source": [
        "df = shuffle(df)\n",
        "df.head(10)"
      ],
      "execution_count": 37,
      "outputs": [
        {
          "output_type": "execute_result",
          "data": {
            "text/html": [
              "<div>\n",
              "<style scoped>\n",
              "    .dataframe tbody tr th:only-of-type {\n",
              "        vertical-align: middle;\n",
              "    }\n",
              "\n",
              "    .dataframe tbody tr th {\n",
              "        vertical-align: top;\n",
              "    }\n",
              "\n",
              "    .dataframe thead th {\n",
              "        text-align: right;\n",
              "    }\n",
              "</style>\n",
              "<table border=\"1\" class=\"dataframe\">\n",
              "  <thead>\n",
              "    <tr style=\"text-align: right;\">\n",
              "      <th></th>\n",
              "      <th>source</th>\n",
              "      <th>english_sentence</th>\n",
              "      <th>hindi_sentence</th>\n",
              "      <th>eng_sent_len</th>\n",
              "      <th>hindi_sent_len</th>\n",
              "    </tr>\n",
              "  </thead>\n",
              "  <tbody>\n",
              "    <tr>\n",
              "      <th>28334</th>\n",
              "      <td>ted</td>\n",
              "      <td>the doors open the kids descend on this table ...</td>\n",
              "      <td>&lt;start&gt; तो दरवाजा खुलता है बच्चे टांगों भरी मे...</td>\n",
              "      <td>12</td>\n",
              "      <td>13</td>\n",
              "    </tr>\n",
              "    <tr>\n",
              "      <th>56229</th>\n",
              "      <td>ted</td>\n",
              "      <td>or just like you really</td>\n",
              "      <td>&lt;start&gt; या एकदम आपकी तरह से वाकई  &lt;end&gt;</td>\n",
              "      <td>6</td>\n",
              "      <td>9</td>\n",
              "    </tr>\n",
              "    <tr>\n",
              "      <th>72189</th>\n",
              "      <td>ted</td>\n",
              "      <td>you ve all heard about things like stuxnet</td>\n",
              "      <td>&lt;start&gt; आप सब ने stuxnet तरह की चीजों के बारे ...</td>\n",
              "      <td>9</td>\n",
              "      <td>15</td>\n",
              "    </tr>\n",
              "    <tr>\n",
              "      <th>76749</th>\n",
              "      <td>indic2012</td>\n",
              "      <td>cuisines of dravidian region are called south ...</td>\n",
              "      <td>&lt;start&gt; दक्षिण भारतीय खाना भारत के द्रविड़ राज...</td>\n",
              "      <td>10</td>\n",
              "      <td>16</td>\n",
              "    </tr>\n",
              "    <tr>\n",
              "      <th>124666</th>\n",
              "      <td>indic2012</td>\n",
              "      <td>in mumbai the population of families from was ...</td>\n",
              "      <td>&lt;start&gt; मुंबई में प्रवारियों की संख्या में लाख...</td>\n",
              "      <td>17</td>\n",
              "      <td>20</td>\n",
              "    </tr>\n",
              "    <tr>\n",
              "      <th>108635</th>\n",
              "      <td>tides</td>\n",
              "      <td>they learn the sounds that letters make</td>\n",
              "      <td>&lt;start&gt; वे ध्वनियों को सीखते हैं जो अक्षर बनात...</td>\n",
              "      <td>8</td>\n",
              "      <td>12</td>\n",
              "    </tr>\n",
              "    <tr>\n",
              "      <th>113754</th>\n",
              "      <td>indic2012</td>\n",
              "      <td>evidences from the stone age and iron age have...</td>\n",
              "      <td>&lt;start&gt; पाषाण या प्रस्तर युग का जन्म और विकास ...</td>\n",
              "      <td>13</td>\n",
              "      <td>18</td>\n",
              "    </tr>\n",
              "    <tr>\n",
              "      <th>104190</th>\n",
              "      <td>ted</td>\n",
              "      <td>okay so the great majority of us</td>\n",
              "      <td>&lt;start&gt; ठीक तो हम में ज्यादातर लोगों ने  &lt;end&gt;</td>\n",
              "      <td>8</td>\n",
              "      <td>10</td>\n",
              "    </tr>\n",
              "    <tr>\n",
              "      <th>35525</th>\n",
              "      <td>ted</td>\n",
              "      <td>and economic development and security</td>\n",
              "      <td>&lt;start&gt; और आर्थिक विकास और सुरक्षा  &lt;end&gt;</td>\n",
              "      <td>6</td>\n",
              "      <td>8</td>\n",
              "    </tr>\n",
              "    <tr>\n",
              "      <th>84657</th>\n",
              "      <td>tides</td>\n",
              "      <td>but we have to put up with these disadvantages...</td>\n",
              "      <td>&lt;start&gt; चूंकि हमारे लिए कोई दूसरा रास्ता नहीं ...</td>\n",
              "      <td>19</td>\n",
              "      <td>19</td>\n",
              "    </tr>\n",
              "  </tbody>\n",
              "</table>\n",
              "</div>"
            ],
            "text/plain": [
              "           source  ... hindi_sent_len\n",
              "28334         ted  ...             13\n",
              "56229         ted  ...              9\n",
              "72189         ted  ...             15\n",
              "76749   indic2012  ...             16\n",
              "124666  indic2012  ...             20\n",
              "108635      tides  ...             12\n",
              "113754  indic2012  ...             18\n",
              "104190        ted  ...             10\n",
              "35525         ted  ...              8\n",
              "84657       tides  ...             19\n",
              "\n",
              "[10 rows x 5 columns]"
            ]
          },
          "metadata": {
            "tags": []
          },
          "execution_count": 37
        }
      ]
    },
    {
      "cell_type": "code",
      "metadata": {
        "colab": {
          "base_uri": "https://localhost:8080/"
        },
        "id": "BmajBvYEmzNU",
        "outputId": "ce10b7bb-b432-454a-a22b-a52c83cec84d"
      },
      "source": [
        "X, y = df['english_sentence'], df['hindi_sentence']\n",
        "X_train, X_test, y_train, y_test = train_test_split(X, y, test_size = 0.2,random_state=42)\n",
        "X_train.shape, X_test.shape"
      ],
      "execution_count": 38,
      "outputs": [
        {
          "output_type": "execute_result",
          "data": {
            "text/plain": [
              "((19228,), (4807,))"
            ]
          },
          "metadata": {
            "tags": []
          },
          "execution_count": 38
        }
      ]
    },
    {
      "cell_type": "code",
      "metadata": {
        "id": "hczW-PZwnXAj"
      },
      "source": [
        "num_encoder_tokens = len(unq_eng_vocab)\n",
        "num_decoder_tokens = len(unq_hindi_vocab)"
      ],
      "execution_count": 39,
      "outputs": []
    },
    {
      "cell_type": "code",
      "metadata": {
        "id": "Juy2XqY2m_j-"
      },
      "source": [
        "def generate_batch(X = X_train, y = y_train, batch_size = 128):\n",
        "  ''' Generate a batch of data '''\n",
        "  while True:\n",
        "      for j in range(0, len(X), batch_size):\n",
        "          encoder_input_data = np.zeros((batch_size, source_max_length), dtype='float32')\n",
        "          decoder_input_data = np.zeros((batch_size, target_max_length), dtype='float32')\n",
        "          decoder_target_data = np.zeros((batch_size, target_max_length, num_decoder_tokens), dtype='float32')\n",
        "          for i, (input_text, target_text) in enumerate(zip(X[j:j+batch_size], y[j:j+batch_size])):\n",
        "              for t, word in enumerate(input_text.split()):\n",
        "                  encoder_input_data[i, t] = eng_word2id[word] # encoder input seq\n",
        "              for t, word in enumerate(target_text.split()):\n",
        "                  if t<len(target_text.split())-1:\n",
        "                      decoder_input_data[i, t] = hindi_word2id[word] # decoder input seq\n",
        "                  if t>0:\n",
        "                      decoder_target_data[i, t - 1, hindi_word2id[word]] = 1.\n",
        "          yield([encoder_input_data, decoder_input_data], decoder_target_data)"
      ],
      "execution_count": 40,
      "outputs": []
    },
    {
      "cell_type": "code",
      "metadata": {
        "id": "tWnMF_wUnlug"
      },
      "source": [
        "latent_dim=300"
      ],
      "execution_count": 41,
      "outputs": []
    },
    {
      "cell_type": "code",
      "metadata": {
        "id": "3_oJW8I9nsxP"
      },
      "source": [
        "encoder_inputs = Input(shape=(None,))\n",
        "enc_emb =  Embedding(num_encoder_tokens, latent_dim, mask_zero = True)(encoder_inputs)\n",
        "encoder_lstm = LSTM(latent_dim, return_state=True)\n",
        "encoder_outputs, state_h, state_c = encoder_lstm(enc_emb)\n",
        "encoder_states = [state_h, state_c]"
      ],
      "execution_count": 42,
      "outputs": []
    },
    {
      "cell_type": "code",
      "metadata": {
        "id": "GHVgfOk8nybY"
      },
      "source": [
        "decoder_inputs = Input(shape=(None,))\n",
        "dec_emb_layer = Embedding(num_decoder_tokens, latent_dim, mask_zero = True)\n",
        "dec_emb = dec_emb_layer(decoder_inputs)\n",
        "decoder_lstm = LSTM(latent_dim, return_sequences=True, return_state=True)\n",
        "decoder_outputs, _, _ = decoder_lstm(dec_emb,\n",
        "                                     initial_state=encoder_states)\n",
        "decoder_dense = Dense(num_decoder_tokens, activation='softmax')\n",
        "decoder_outputs = decoder_dense(decoder_outputs)"
      ],
      "execution_count": 43,
      "outputs": []
    },
    {
      "cell_type": "code",
      "metadata": {
        "id": "Mj9w3_Mxn0a0"
      },
      "source": [
        "model = Model([encoder_inputs, decoder_inputs], decoder_outputs)"
      ],
      "execution_count": 44,
      "outputs": []
    },
    {
      "cell_type": "code",
      "metadata": {
        "id": "AiOthbl4n34M"
      },
      "source": [
        "model.compile(optimizer='rmsprop', loss='categorical_crossentropy')"
      ],
      "execution_count": 45,
      "outputs": []
    },
    {
      "cell_type": "code",
      "metadata": {
        "colab": {
          "base_uri": "https://localhost:8080/"
        },
        "id": "l9NfI6jWn6B9",
        "outputId": "d7d9ca99-bb76-4c98-cf71-a152107d8e26"
      },
      "source": [
        "model.summary()"
      ],
      "execution_count": 46,
      "outputs": [
        {
          "output_type": "stream",
          "text": [
            "Model: \"model\"\n",
            "__________________________________________________________________________________________________\n",
            "Layer (type)                    Output Shape         Param #     Connected to                     \n",
            "==================================================================================================\n",
            "input_1 (InputLayer)            [(None, None)]       0                                            \n",
            "__________________________________________________________________________________________________\n",
            "input_2 (InputLayer)            [(None, None)]       0                                            \n",
            "__________________________________________________________________________________________________\n",
            "embedding (Embedding)           (None, None, 300)    8422800     input_1[0][0]                    \n",
            "__________________________________________________________________________________________________\n",
            "embedding_1 (Embedding)         (None, None, 300)    10268100    input_2[0][0]                    \n",
            "__________________________________________________________________________________________________\n",
            "lstm (LSTM)                     [(None, 300), (None, 721200      embedding[0][0]                  \n",
            "__________________________________________________________________________________________________\n",
            "lstm_1 (LSTM)                   [(None, None, 300),  721200      embedding_1[0][0]                \n",
            "                                                                 lstm[0][1]                       \n",
            "                                                                 lstm[0][2]                       \n",
            "__________________________________________________________________________________________________\n",
            "dense (Dense)                   (None, None, 34227)  10302327    lstm_1[0][0]                     \n",
            "==================================================================================================\n",
            "Total params: 30,435,627\n",
            "Trainable params: 30,435,627\n",
            "Non-trainable params: 0\n",
            "__________________________________________________________________________________________________\n"
          ],
          "name": "stdout"
        }
      ]
    },
    {
      "cell_type": "code",
      "metadata": {
        "id": "bGZv_kpKn-TN"
      },
      "source": [
        "train_samples = len(X_train)\n",
        "val_samples = len(X_test)\n",
        "batch_size = 128\n",
        "epochs = 100"
      ],
      "execution_count": 47,
      "outputs": []
    },
    {
      "cell_type": "code",
      "metadata": {
        "id": "wIbr7EyO3Qgv"
      },
      "source": [
        "!mkdir \"saved_model\""
      ],
      "execution_count": null,
      "outputs": []
    },
    {
      "cell_type": "code",
      "metadata": {
        "colab": {
          "base_uri": "https://localhost:8080/",
          "height": 1000
        },
        "id": "NYqb6okaoFpC",
        "outputId": "ece0aa18-40df-46de-9d93-384129abe8c4"
      },
      "source": [
        "from tensorflow.keras.callbacks import EarlyStopping, ModelCheckpoint\n",
        "import numpy as np\n",
        "\n",
        "es = EarlyStopping(monitor=\"val_loss\", mode=\"min\", patience=5)\n",
        "checkpt = ModelCheckpoint(\"/content/saved_model\", monitor='val_loss', mode='min', save_best_only=True, verbose=1)\n",
        "\n",
        "history = model.fit_generator(generator = generate_batch(X_train, y_train, batch_size = batch_size),\n",
        "                    steps_per_epoch = train_samples//batch_size,\n",
        "                    epochs=epochs,\n",
        "                    validation_data = generate_batch(X_test, y_test, batch_size = batch_size),\n",
        "                    validation_steps = val_samples//batch_size,\n",
        "                    callbacks=[es, checkpt])"
      ],
      "execution_count": 48,
      "outputs": [
        {
          "output_type": "stream",
          "text": [
            "/usr/local/lib/python3.7/dist-packages/tensorflow/python/keras/engine/training.py:1940: UserWarning: `Model.fit_generator` is deprecated and will be removed in a future version. Please use `Model.fit`, which supports generators.\n",
            "  warnings.warn('`Model.fit_generator` is deprecated and '\n"
          ],
          "name": "stderr"
        },
        {
          "output_type": "stream",
          "text": [
            "Epoch 1/100\n",
            "150/150 [==============================] - 131s 791ms/step - loss: 2.3573 - val_loss: 2.2193\n",
            "Epoch 2/100\n",
            "150/150 [==============================] - 117s 783ms/step - loss: 2.1546 - val_loss: 2.1121\n",
            "Epoch 3/100\n",
            "150/150 [==============================] - 138s 920ms/step - loss: 2.0415 - val_loss: 2.0484\n",
            "Epoch 4/100\n",
            "150/150 [==============================] - 138s 922ms/step - loss: 1.9599 - val_loss: 2.0133\n",
            "Epoch 5/100\n",
            "150/150 [==============================] - 118s 785ms/step - loss: 1.8962 - val_loss: 1.9901\n",
            "Epoch 6/100\n",
            "150/150 [==============================] - 118s 790ms/step - loss: 1.8379 - val_loss: 1.9699\n",
            "Epoch 7/100\n",
            "150/150 [==============================] - 118s 790ms/step - loss: 1.7838 - val_loss: 1.9549\n",
            "Epoch 8/100\n",
            "150/150 [==============================] - 117s 784ms/step - loss: 1.7299 - val_loss: 1.9406\n",
            "Epoch 9/100\n",
            "150/150 [==============================] - 117s 783ms/step - loss: 1.6817 - val_loss: 1.9259\n",
            "Epoch 10/100\n",
            "150/150 [==============================] - 116s 775ms/step - loss: 1.6327 - val_loss: 1.9223\n",
            "Epoch 11/100\n",
            "150/150 [==============================] - 118s 787ms/step - loss: 1.5874 - val_loss: 1.9151\n",
            "Epoch 12/100\n",
            "150/150 [==============================] - 118s 787ms/step - loss: 1.5419 - val_loss: 1.9114\n",
            "Epoch 13/100\n",
            "150/150 [==============================] - 118s 786ms/step - loss: 1.4971 - val_loss: 1.9076\n",
            "Epoch 14/100\n",
            "150/150 [==============================] - 118s 787ms/step - loss: 1.4556 - val_loss: 1.9093\n",
            "Epoch 15/100\n",
            "150/150 [==============================] - 115s 766ms/step - loss: 1.4142 - val_loss: 1.9047\n",
            "Epoch 16/100\n",
            "150/150 [==============================] - 117s 778ms/step - loss: 1.3743 - val_loss: 1.9105\n",
            "Epoch 17/100\n",
            "150/150 [==============================] - 117s 782ms/step - loss: 1.3333 - val_loss: 1.9161\n",
            "Epoch 18/100\n",
            "150/150 [==============================] - 115s 767ms/step - loss: 1.2967 - val_loss: 1.9165\n",
            "Epoch 19/100\n",
            " 39/150 [======>.......................] - ETA: 1:11 - loss: 1.2387"
          ],
          "name": "stdout"
        },
        {
          "output_type": "error",
          "ename": "KeyboardInterrupt",
          "evalue": "ignored",
          "traceback": [
            "\u001b[0;31m---------------------------------------------------------------------------\u001b[0m",
            "\u001b[0;31mKeyboardInterrupt\u001b[0m                         Traceback (most recent call last)",
            "\u001b[0;32m<ipython-input-48-61aa3bc4219a>\u001b[0m in \u001b[0;36m<module>\u001b[0;34m()\u001b[0m\n\u001b[1;32m      5\u001b[0m                     \u001b[0mepochs\u001b[0m\u001b[0;34m=\u001b[0m\u001b[0mepochs\u001b[0m\u001b[0;34m,\u001b[0m\u001b[0;34m\u001b[0m\u001b[0;34m\u001b[0m\u001b[0m\n\u001b[1;32m      6\u001b[0m                     \u001b[0mvalidation_data\u001b[0m \u001b[0;34m=\u001b[0m \u001b[0mgenerate_batch\u001b[0m\u001b[0;34m(\u001b[0m\u001b[0mX_test\u001b[0m\u001b[0;34m,\u001b[0m \u001b[0my_test\u001b[0m\u001b[0;34m,\u001b[0m \u001b[0mbatch_size\u001b[0m \u001b[0;34m=\u001b[0m \u001b[0mbatch_size\u001b[0m\u001b[0;34m)\u001b[0m\u001b[0;34m,\u001b[0m\u001b[0;34m\u001b[0m\u001b[0;34m\u001b[0m\u001b[0m\n\u001b[0;32m----> 7\u001b[0;31m                     validation_steps = val_samples//batch_size)\n\u001b[0m",
            "\u001b[0;32m/usr/local/lib/python3.7/dist-packages/tensorflow/python/keras/engine/training.py\u001b[0m in \u001b[0;36mfit_generator\u001b[0;34m(self, generator, steps_per_epoch, epochs, verbose, callbacks, validation_data, validation_steps, validation_freq, class_weight, max_queue_size, workers, use_multiprocessing, shuffle, initial_epoch)\u001b[0m\n\u001b[1;32m   1955\u001b[0m         \u001b[0muse_multiprocessing\u001b[0m\u001b[0;34m=\u001b[0m\u001b[0muse_multiprocessing\u001b[0m\u001b[0;34m,\u001b[0m\u001b[0;34m\u001b[0m\u001b[0;34m\u001b[0m\u001b[0m\n\u001b[1;32m   1956\u001b[0m         \u001b[0mshuffle\u001b[0m\u001b[0;34m=\u001b[0m\u001b[0mshuffle\u001b[0m\u001b[0;34m,\u001b[0m\u001b[0;34m\u001b[0m\u001b[0;34m\u001b[0m\u001b[0m\n\u001b[0;32m-> 1957\u001b[0;31m         initial_epoch=initial_epoch)\n\u001b[0m\u001b[1;32m   1958\u001b[0m \u001b[0;34m\u001b[0m\u001b[0m\n\u001b[1;32m   1959\u001b[0m   def evaluate_generator(self,\n",
            "\u001b[0;32m/usr/local/lib/python3.7/dist-packages/tensorflow/python/keras/engine/training.py\u001b[0m in \u001b[0;36mfit\u001b[0;34m(self, x, y, batch_size, epochs, verbose, callbacks, validation_split, validation_data, shuffle, class_weight, sample_weight, initial_epoch, steps_per_epoch, validation_steps, validation_batch_size, validation_freq, max_queue_size, workers, use_multiprocessing)\u001b[0m\n\u001b[1;32m   1181\u001b[0m                 _r=1):\n\u001b[1;32m   1182\u001b[0m               \u001b[0mcallbacks\u001b[0m\u001b[0;34m.\u001b[0m\u001b[0mon_train_batch_begin\u001b[0m\u001b[0;34m(\u001b[0m\u001b[0mstep\u001b[0m\u001b[0;34m)\u001b[0m\u001b[0;34m\u001b[0m\u001b[0;34m\u001b[0m\u001b[0m\n\u001b[0;32m-> 1183\u001b[0;31m               \u001b[0mtmp_logs\u001b[0m \u001b[0;34m=\u001b[0m \u001b[0mself\u001b[0m\u001b[0;34m.\u001b[0m\u001b[0mtrain_function\u001b[0m\u001b[0;34m(\u001b[0m\u001b[0miterator\u001b[0m\u001b[0;34m)\u001b[0m\u001b[0;34m\u001b[0m\u001b[0;34m\u001b[0m\u001b[0m\n\u001b[0m\u001b[1;32m   1184\u001b[0m               \u001b[0;32mif\u001b[0m \u001b[0mdata_handler\u001b[0m\u001b[0;34m.\u001b[0m\u001b[0mshould_sync\u001b[0m\u001b[0;34m:\u001b[0m\u001b[0;34m\u001b[0m\u001b[0;34m\u001b[0m\u001b[0m\n\u001b[1;32m   1185\u001b[0m                 \u001b[0mcontext\u001b[0m\u001b[0;34m.\u001b[0m\u001b[0masync_wait\u001b[0m\u001b[0;34m(\u001b[0m\u001b[0;34m)\u001b[0m\u001b[0;34m\u001b[0m\u001b[0;34m\u001b[0m\u001b[0m\n",
            "\u001b[0;32m/usr/local/lib/python3.7/dist-packages/tensorflow/python/eager/def_function.py\u001b[0m in \u001b[0;36m__call__\u001b[0;34m(self, *args, **kwds)\u001b[0m\n\u001b[1;32m    887\u001b[0m \u001b[0;34m\u001b[0m\u001b[0m\n\u001b[1;32m    888\u001b[0m       \u001b[0;32mwith\u001b[0m \u001b[0mOptionalXlaContext\u001b[0m\u001b[0;34m(\u001b[0m\u001b[0mself\u001b[0m\u001b[0;34m.\u001b[0m\u001b[0m_jit_compile\u001b[0m\u001b[0;34m)\u001b[0m\u001b[0;34m:\u001b[0m\u001b[0;34m\u001b[0m\u001b[0;34m\u001b[0m\u001b[0m\n\u001b[0;32m--> 889\u001b[0;31m         \u001b[0mresult\u001b[0m \u001b[0;34m=\u001b[0m \u001b[0mself\u001b[0m\u001b[0;34m.\u001b[0m\u001b[0m_call\u001b[0m\u001b[0;34m(\u001b[0m\u001b[0;34m*\u001b[0m\u001b[0margs\u001b[0m\u001b[0;34m,\u001b[0m \u001b[0;34m**\u001b[0m\u001b[0mkwds\u001b[0m\u001b[0;34m)\u001b[0m\u001b[0;34m\u001b[0m\u001b[0;34m\u001b[0m\u001b[0m\n\u001b[0m\u001b[1;32m    890\u001b[0m \u001b[0;34m\u001b[0m\u001b[0m\n\u001b[1;32m    891\u001b[0m       \u001b[0mnew_tracing_count\u001b[0m \u001b[0;34m=\u001b[0m \u001b[0mself\u001b[0m\u001b[0;34m.\u001b[0m\u001b[0mexperimental_get_tracing_count\u001b[0m\u001b[0;34m(\u001b[0m\u001b[0;34m)\u001b[0m\u001b[0;34m\u001b[0m\u001b[0;34m\u001b[0m\u001b[0m\n",
            "\u001b[0;32m/usr/local/lib/python3.7/dist-packages/tensorflow/python/eager/def_function.py\u001b[0m in \u001b[0;36m_call\u001b[0;34m(self, *args, **kwds)\u001b[0m\n\u001b[1;32m    915\u001b[0m       \u001b[0;31m# In this case we have created variables on the first call, so we run the\u001b[0m\u001b[0;34m\u001b[0m\u001b[0;34m\u001b[0m\u001b[0;34m\u001b[0m\u001b[0m\n\u001b[1;32m    916\u001b[0m       \u001b[0;31m# defunned version which is guaranteed to never create variables.\u001b[0m\u001b[0;34m\u001b[0m\u001b[0;34m\u001b[0m\u001b[0;34m\u001b[0m\u001b[0m\n\u001b[0;32m--> 917\u001b[0;31m       \u001b[0;32mreturn\u001b[0m \u001b[0mself\u001b[0m\u001b[0;34m.\u001b[0m\u001b[0m_stateless_fn\u001b[0m\u001b[0;34m(\u001b[0m\u001b[0;34m*\u001b[0m\u001b[0margs\u001b[0m\u001b[0;34m,\u001b[0m \u001b[0;34m**\u001b[0m\u001b[0mkwds\u001b[0m\u001b[0;34m)\u001b[0m  \u001b[0;31m# pylint: disable=not-callable\u001b[0m\u001b[0;34m\u001b[0m\u001b[0;34m\u001b[0m\u001b[0m\n\u001b[0m\u001b[1;32m    918\u001b[0m     \u001b[0;32melif\u001b[0m \u001b[0mself\u001b[0m\u001b[0;34m.\u001b[0m\u001b[0m_stateful_fn\u001b[0m \u001b[0;32mis\u001b[0m \u001b[0;32mnot\u001b[0m \u001b[0;32mNone\u001b[0m\u001b[0;34m:\u001b[0m\u001b[0;34m\u001b[0m\u001b[0;34m\u001b[0m\u001b[0m\n\u001b[1;32m    919\u001b[0m       \u001b[0;31m# Release the lock early so that multiple threads can perform the call\u001b[0m\u001b[0;34m\u001b[0m\u001b[0;34m\u001b[0m\u001b[0;34m\u001b[0m\u001b[0m\n",
            "\u001b[0;32m/usr/local/lib/python3.7/dist-packages/tensorflow/python/eager/function.py\u001b[0m in \u001b[0;36m__call__\u001b[0;34m(self, *args, **kwargs)\u001b[0m\n\u001b[1;32m   3022\u001b[0m        filtered_flat_args) = self._maybe_define_function(args, kwargs)\n\u001b[1;32m   3023\u001b[0m     return graph_function._call_flat(\n\u001b[0;32m-> 3024\u001b[0;31m         filtered_flat_args, captured_inputs=graph_function.captured_inputs)  # pylint: disable=protected-access\n\u001b[0m\u001b[1;32m   3025\u001b[0m \u001b[0;34m\u001b[0m\u001b[0m\n\u001b[1;32m   3026\u001b[0m   \u001b[0;34m@\u001b[0m\u001b[0mproperty\u001b[0m\u001b[0;34m\u001b[0m\u001b[0;34m\u001b[0m\u001b[0m\n",
            "\u001b[0;32m/usr/local/lib/python3.7/dist-packages/tensorflow/python/eager/function.py\u001b[0m in \u001b[0;36m_call_flat\u001b[0;34m(self, args, captured_inputs, cancellation_manager)\u001b[0m\n\u001b[1;32m   1959\u001b[0m       \u001b[0;31m# No tape is watching; skip to running the function.\u001b[0m\u001b[0;34m\u001b[0m\u001b[0;34m\u001b[0m\u001b[0;34m\u001b[0m\u001b[0m\n\u001b[1;32m   1960\u001b[0m       return self._build_call_outputs(self._inference_function.call(\n\u001b[0;32m-> 1961\u001b[0;31m           ctx, args, cancellation_manager=cancellation_manager))\n\u001b[0m\u001b[1;32m   1962\u001b[0m     forward_backward = self._select_forward_and_backward_functions(\n\u001b[1;32m   1963\u001b[0m         \u001b[0margs\u001b[0m\u001b[0;34m,\u001b[0m\u001b[0;34m\u001b[0m\u001b[0;34m\u001b[0m\u001b[0m\n",
            "\u001b[0;32m/usr/local/lib/python3.7/dist-packages/tensorflow/python/eager/function.py\u001b[0m in \u001b[0;36mcall\u001b[0;34m(self, ctx, args, cancellation_manager)\u001b[0m\n\u001b[1;32m    594\u001b[0m               \u001b[0minputs\u001b[0m\u001b[0;34m=\u001b[0m\u001b[0margs\u001b[0m\u001b[0;34m,\u001b[0m\u001b[0;34m\u001b[0m\u001b[0;34m\u001b[0m\u001b[0m\n\u001b[1;32m    595\u001b[0m               \u001b[0mattrs\u001b[0m\u001b[0;34m=\u001b[0m\u001b[0mattrs\u001b[0m\u001b[0;34m,\u001b[0m\u001b[0;34m\u001b[0m\u001b[0;34m\u001b[0m\u001b[0m\n\u001b[0;32m--> 596\u001b[0;31m               ctx=ctx)\n\u001b[0m\u001b[1;32m    597\u001b[0m         \u001b[0;32melse\u001b[0m\u001b[0;34m:\u001b[0m\u001b[0;34m\u001b[0m\u001b[0;34m\u001b[0m\u001b[0m\n\u001b[1;32m    598\u001b[0m           outputs = execute.execute_with_cancellation(\n",
            "\u001b[0;32m/usr/local/lib/python3.7/dist-packages/tensorflow/python/eager/execute.py\u001b[0m in \u001b[0;36mquick_execute\u001b[0;34m(op_name, num_outputs, inputs, attrs, ctx, name)\u001b[0m\n\u001b[1;32m     58\u001b[0m     \u001b[0mctx\u001b[0m\u001b[0;34m.\u001b[0m\u001b[0mensure_initialized\u001b[0m\u001b[0;34m(\u001b[0m\u001b[0;34m)\u001b[0m\u001b[0;34m\u001b[0m\u001b[0;34m\u001b[0m\u001b[0m\n\u001b[1;32m     59\u001b[0m     tensors = pywrap_tfe.TFE_Py_Execute(ctx._handle, device_name, op_name,\n\u001b[0;32m---> 60\u001b[0;31m                                         inputs, attrs, num_outputs)\n\u001b[0m\u001b[1;32m     61\u001b[0m   \u001b[0;32mexcept\u001b[0m \u001b[0mcore\u001b[0m\u001b[0;34m.\u001b[0m\u001b[0m_NotOkStatusException\u001b[0m \u001b[0;32mas\u001b[0m \u001b[0me\u001b[0m\u001b[0;34m:\u001b[0m\u001b[0;34m\u001b[0m\u001b[0;34m\u001b[0m\u001b[0m\n\u001b[1;32m     62\u001b[0m     \u001b[0;32mif\u001b[0m \u001b[0mname\u001b[0m \u001b[0;32mis\u001b[0m \u001b[0;32mnot\u001b[0m \u001b[0;32mNone\u001b[0m\u001b[0;34m:\u001b[0m\u001b[0;34m\u001b[0m\u001b[0;34m\u001b[0m\u001b[0m\n",
            "\u001b[0;31mKeyboardInterrupt\u001b[0m: "
          ]
        }
      ]
    },
    {
      "cell_type": "code",
      "metadata": {
        "colab": {
          "base_uri": "https://localhost:8080/",
          "height": 231
        },
        "id": "0THce54_vJ35",
        "outputId": "460bf8b3-42ef-4fc3-a732-2f4c111b1e38"
      },
      "source": [
        "import matplotlib.pyplot as plt\n",
        "\n",
        "plt.plot(history.history['loss'])\n",
        "plt.plot(history.history['val_loss'])\n",
        "plt.ylabel('loss')\n",
        "plt.xlabel('epoch')\n",
        "plt.legend(['train', 'test'], loc='upper left')\n",
        "plt.show()"
      ],
      "execution_count": 50,
      "outputs": [
        {
          "output_type": "error",
          "ename": "NameError",
          "evalue": "ignored",
          "traceback": [
            "\u001b[0;31m---------------------------------------------------------------------------\u001b[0m",
            "\u001b[0;31mNameError\u001b[0m                                 Traceback (most recent call last)",
            "\u001b[0;32m<ipython-input-50-40fbc93a3a16>\u001b[0m in \u001b[0;36m<module>\u001b[0;34m()\u001b[0m\n\u001b[1;32m      1\u001b[0m \u001b[0;32mimport\u001b[0m \u001b[0mmatplotlib\u001b[0m\u001b[0;34m.\u001b[0m\u001b[0mpyplot\u001b[0m \u001b[0;32mas\u001b[0m \u001b[0mplt\u001b[0m\u001b[0;34m\u001b[0m\u001b[0;34m\u001b[0m\u001b[0m\n\u001b[1;32m      2\u001b[0m \u001b[0;34m\u001b[0m\u001b[0m\n\u001b[0;32m----> 3\u001b[0;31m \u001b[0mplt\u001b[0m\u001b[0;34m.\u001b[0m\u001b[0mplot\u001b[0m\u001b[0;34m(\u001b[0m\u001b[0mhistory\u001b[0m\u001b[0;34m.\u001b[0m\u001b[0mhistory\u001b[0m\u001b[0;34m[\u001b[0m\u001b[0;34m'loss'\u001b[0m\u001b[0;34m]\u001b[0m\u001b[0;34m)\u001b[0m\u001b[0;34m\u001b[0m\u001b[0;34m\u001b[0m\u001b[0m\n\u001b[0m\u001b[1;32m      4\u001b[0m \u001b[0mplt\u001b[0m\u001b[0;34m.\u001b[0m\u001b[0mplot\u001b[0m\u001b[0;34m(\u001b[0m\u001b[0mhistory\u001b[0m\u001b[0;34m.\u001b[0m\u001b[0mhistory\u001b[0m\u001b[0;34m[\u001b[0m\u001b[0;34m'val_loss'\u001b[0m\u001b[0;34m]\u001b[0m\u001b[0;34m)\u001b[0m\u001b[0;34m\u001b[0m\u001b[0;34m\u001b[0m\u001b[0m\n\u001b[1;32m      5\u001b[0m \u001b[0mplt\u001b[0m\u001b[0;34m.\u001b[0m\u001b[0mylabel\u001b[0m\u001b[0;34m(\u001b[0m\u001b[0;34m'loss'\u001b[0m\u001b[0;34m)\u001b[0m\u001b[0;34m\u001b[0m\u001b[0;34m\u001b[0m\u001b[0m\n",
            "\u001b[0;31mNameError\u001b[0m: name 'history' is not defined"
          ]
        }
      ]
    }
  ]
}