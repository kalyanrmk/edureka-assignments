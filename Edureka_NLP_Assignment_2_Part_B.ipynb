{
  "nbformat": 4,
  "nbformat_minor": 0,
  "metadata": {
    "colab": {
      "name": "Edureka NLP Assignment 2 - Part B.ipynb",
      "provenance": [],
      "collapsed_sections": [],
      "authorship_tag": "ABX9TyN0dW6j1rrv23Kv//3PCNRc",
      "include_colab_link": true
    },
    "kernelspec": {
      "name": "python3",
      "display_name": "Python 3"
    },
    "language_info": {
      "name": "python"
    }
  },
  "cells": [
    {
      "cell_type": "markdown",
      "metadata": {
        "id": "view-in-github",
        "colab_type": "text"
      },
      "source": [
        "<a href=\"https://colab.research.google.com/github/nandinib1999/edureka-assignments/blob/main/Edureka_NLP_Assignment_2_Part_B.ipynb\" target=\"_parent\"><img src=\"https://colab.research.google.com/assets/colab-badge.svg\" alt=\"Open In Colab\"/></a>"
      ]
    },
    {
      "cell_type": "markdown",
      "metadata": {
        "id": "JGMUHxEsG_V_"
      },
      "source": [
        "#### Question 1"
      ]
    },
    {
      "cell_type": "code",
      "metadata": {
        "colab": {
          "base_uri": "https://localhost:8080/"
        },
        "id": "SCcm3g7GdreD",
        "outputId": "ad0d7ee0-127d-4d29-9408-1d513dd3a4eb"
      },
      "source": [
        "import os\n",
        "\n",
        "print(os.getcwd())"
      ],
      "execution_count": 1,
      "outputs": [
        {
          "output_type": "stream",
          "text": [
            "/content\n"
          ],
          "name": "stdout"
        }
      ]
    },
    {
      "cell_type": "code",
      "metadata": {
        "colab": {
          "base_uri": "https://localhost:8080/"
        },
        "id": "LqiBBHAid3b3",
        "outputId": "355179fd-3dfc-45d0-ef66-a9368e7cd611"
      },
      "source": [
        "!mkdir \"Text Mining and NLP\""
      ],
      "execution_count": 9,
      "outputs": [
        {
          "output_type": "stream",
          "text": [
            "mkdir: cannot create directory ‘Text Mining and NLP’: File exists\n"
          ],
          "name": "stderr"
        }
      ]
    },
    {
      "cell_type": "code",
      "metadata": {
        "colab": {
          "base_uri": "https://localhost:8080/"
        },
        "id": "J9GAPwzReaQG",
        "outputId": "9b6b3ac0-6ff3-4bfb-ca37-7cd0936a535a"
      },
      "source": [
        "cd \"Text Mining and NLP\""
      ],
      "execution_count": 11,
      "outputs": [
        {
          "output_type": "stream",
          "text": [
            "/content/Text Mining and NLP\n"
          ],
          "name": "stdout"
        }
      ]
    },
    {
      "cell_type": "code",
      "metadata": {
        "colab": {
          "base_uri": "https://localhost:8080/"
        },
        "id": "ij9EV0tZd93N",
        "outputId": "d6e69e4d-324f-4578-c377-9bc029b84c5f"
      },
      "source": [
        "print(os.getcwd())"
      ],
      "execution_count": 12,
      "outputs": [
        {
          "output_type": "stream",
          "text": [
            "/content/Text Mining and NLP\n"
          ],
          "name": "stdout"
        }
      ]
    },
    {
      "cell_type": "markdown",
      "metadata": {
        "id": "9AM2vsOeHEB2"
      },
      "source": [
        "#### Question 2"
      ]
    },
    {
      "cell_type": "code",
      "metadata": {
        "id": "WRgd9N6HewVF"
      },
      "source": [
        "with open(\"/content/Greetings.txt\", \"w\") as fhead:\n",
        "  fhead.write(\"Welcome to Text Mining and Natural Language Processing\")"
      ],
      "execution_count": 29,
      "outputs": []
    },
    {
      "cell_type": "code",
      "metadata": {
        "colab": {
          "base_uri": "https://localhost:8080/",
          "height": 35
        },
        "id": "2Xs8I42OfA_v",
        "outputId": "b41faae9-9942-4367-9f1e-b4e9e427a99a"
      },
      "source": [
        "import shutil\n",
        "source = \"/content/Greetings.txt\"\n",
        "dest = shutil.move(source, os.getcwd())\n",
        "dest"
      ],
      "execution_count": 30,
      "outputs": [
        {
          "output_type": "execute_result",
          "data": {
            "application/vnd.google.colaboratory.intrinsic+json": {
              "type": "string"
            },
            "text/plain": [
              "'/content/Text Mining and NLP/Greetings.txt'"
            ]
          },
          "metadata": {
            "tags": []
          },
          "execution_count": 30
        }
      ]
    },
    {
      "cell_type": "code",
      "metadata": {
        "colab": {
          "base_uri": "https://localhost:8080/"
        },
        "id": "NcJcC-kJfpKD",
        "outputId": "0ace768b-8763-4357-839b-f02d8e6ec458"
      },
      "source": [
        "os.listdir(os.getcwd())"
      ],
      "execution_count": 31,
      "outputs": [
        {
          "output_type": "execute_result",
          "data": {
            "text/plain": [
              "['Greetings.txt', 'NLP.docx', '.ipynb_checkpoints', 'EmployeeDetails.csv']"
            ]
          },
          "metadata": {
            "tags": []
          },
          "execution_count": 31
        }
      ]
    },
    {
      "cell_type": "code",
      "metadata": {
        "id": "Wou9BPOjgE6W"
      },
      "source": [
        "os.rename(\"/content/Text Mining and NLP/Greetings.txt\", \"/content/Text Mining and NLP/Welcome.txt\")"
      ],
      "execution_count": 32,
      "outputs": []
    },
    {
      "cell_type": "code",
      "metadata": {
        "colab": {
          "base_uri": "https://localhost:8080/"
        },
        "id": "Iw9C40TvgNJC",
        "outputId": "db711e77-1106-4213-bfb0-2202a52c07d1"
      },
      "source": [
        "os.listdir(os.getcwd())"
      ],
      "execution_count": 33,
      "outputs": [
        {
          "output_type": "execute_result",
          "data": {
            "text/plain": [
              "['Welcome.txt', 'NLP.docx', '.ipynb_checkpoints', 'EmployeeDetails.csv']"
            ]
          },
          "metadata": {
            "tags": []
          },
          "execution_count": 33
        }
      ]
    },
    {
      "cell_type": "markdown",
      "metadata": {
        "id": "UGAAjfOOHHKZ"
      },
      "source": [
        "#### Question 3"
      ]
    },
    {
      "cell_type": "code",
      "metadata": {
        "colab": {
          "base_uri": "https://localhost:8080/"
        },
        "id": "ScF4NUbviE2Y",
        "outputId": "c1298dc7-ee6a-450d-d5ad-feee10c86f7f"
      },
      "source": [
        "!pip install python-docx"
      ],
      "execution_count": 22,
      "outputs": [
        {
          "output_type": "stream",
          "text": [
            "Collecting python-docx\n",
            "\u001b[?25l  Downloading https://files.pythonhosted.org/packages/8b/a0/52729ce4aa026f31b74cc877be1d11e4ddeaa361dc7aebec148171644b33/python-docx-0.8.11.tar.gz (5.6MB)\n",
            "\u001b[K     |████████████████████████████████| 5.6MB 5.4MB/s \n",
            "\u001b[?25hRequirement already satisfied: lxml>=2.3.2 in /usr/local/lib/python3.7/dist-packages (from python-docx) (4.2.6)\n",
            "Building wheels for collected packages: python-docx\n",
            "  Building wheel for python-docx (setup.py) ... \u001b[?25l\u001b[?25hdone\n",
            "  Created wheel for python-docx: filename=python_docx-0.8.11-cp37-none-any.whl size=184508 sha256=5768ebe5c37bc92673e02a36dfa361a76d26f0cf58714eefba010678d74b48a8\n",
            "  Stored in directory: /root/.cache/pip/wheels/a6/90/f1/a7cb70b38633ae04e7fb963b1c70f63fd6fc01c075b8230adc\n",
            "Successfully built python-docx\n",
            "Installing collected packages: python-docx\n",
            "Successfully installed python-docx-0.8.11\n"
          ],
          "name": "stdout"
        }
      ]
    },
    {
      "cell_type": "code",
      "metadata": {
        "id": "oSjcYK_8iDm5"
      },
      "source": [
        "from docx import Document"
      ],
      "execution_count": 23,
      "outputs": []
    },
    {
      "cell_type": "code",
      "metadata": {
        "colab": {
          "base_uri": "https://localhost:8080/"
        },
        "id": "0ER2ra5uifA6",
        "outputId": "e1aa2066-3bd1-4b71-ca4c-bb1dbc552322"
      },
      "source": [
        "document = Document(\"/content/Text Mining and NLP/NLP.docx\")\n",
        "print(\"Number of paragraphs:\", len(document.paragraphs))"
      ],
      "execution_count": 41,
      "outputs": [
        {
          "output_type": "stream",
          "text": [
            "Number of paragraphs: 26\n"
          ],
          "name": "stdout"
        }
      ]
    },
    {
      "cell_type": "code",
      "metadata": {
        "colab": {
          "base_uri": "https://localhost:8080/"
        },
        "id": "99rUm0X0is9n",
        "outputId": "79bc60c1-ad55-4436-9145-cf51848374ba"
      },
      "source": [
        "for i, paragraph in enumerate(document.paragraphs, start=1):\n",
        "  txt = paragraph.text\n",
        "  txt = txt.lower()\n",
        "  txt_lst = txt.split(\" \")\n",
        "  print(txt)\n",
        "  print(\"Paragraph \", i, \"Word Count \", len(txt_lst))"
      ],
      "execution_count": 42,
      "outputs": [
        {
          "output_type": "stream",
          "text": [
            "to the outside observer, natural language processing (nlp) may seem futuristic.  a third of smartphone owners use their personal assistants regularly (a hallmark of nlp technologies), even though 95 percent have tried them at some point, according to creative strategies, a consultancy. however, natural language processing advances continue in leaps and bounds, as digital neural networks (dnn) and machine learning become more intricate. both technologies enhance nlp technologies up to 30 percent.\n",
            "Paragraph  1 Word Count  71\n",
            "the economist states, that this paradigm has shifted language technology from usable at a pinch to really rather good”. so, when barclays, a british bank, offered an identification using a user’s voice and nlp, 84 percent of the users signed up within five months, indicating that consumers are jumping on the bandwagon and wanting more benefits from nlp.\n",
            "Paragraph  2 Word Count  56\n",
            "natural language processing (nlp) has entered the mainstream and integrates with big data. take the business traveler. today, when he or she stays at a hotel, like , the customer can bypass the front desk when getting extra towels or ordering room service. thanks to amazon’s echo and its use of nlp, a hotel concierge may no longer be necessary. in this new world, big data flows in the form of speech, a loop between hotel guest and computer all the guests have access to this technology.  wynn las vegas has already added amazon echo devices to each of its 4,748 hotel rooms. as consumers become more familiar with nlp and its time savings benefits, they will be more likely to adopt natural language processing in the home and office, for other tasks.\n",
            "Paragraph  3 Word Count  132\n",
            "what does nlp mean for big data? nlp will change everything, from business reporting and data analytics/synthesis to security and data governance. the future has arrived.\n",
            "Paragraph  4 Word Count  26\n",
            "what is natural language processing (nlp)\n",
            "Paragraph  5 Word Count  6\n",
            " combines artificial intelligence (ai) and computational linguistics so that computers and humans can talk seamlessly. think the bridge in star trek, where the crew and space ship’s computer talk with each other to explore and survive. nlp endeavors to bridge the divide between machines and people by enabling a computer to analyze what a user said (input speech recognition) and process what the user meant. this task has proven quite complex.\n",
            "Paragraph  6 Word Count  68\n",
            "to converse with humans, a program must understand syntax (grammar), semantics (word meaning), morphology (tense), pragmatics (conversation). the number of rules to track can seem overwhelming and explains why earlier attempts at nlp initially led to disappointing results.\n",
            "Paragraph  7 Word Count  38\n",
            " wrote that both the funders and eager researchers had often fooled themselves, and that “no simple, clear, sure knowledge is gained.” after that, funding and interest in language technology went into hibernation for two decades. thanks to charles wayne, at america’s defense advanced research projects agency during the 1980s, reframed the human computer linguistic problem through another approach, the “common task”.\n",
            "Paragraph  8 Word Count  61\n",
            "with a different system in place, nlp slowly improved moving from a cumbersome-rules based to a pattern learning based computer programming methodology. siri appeared on the iphone in 2011. in 2012, the new discovery of use of graphical processing units (gpu) improved digital neural networks and nlp.\n",
            "Paragraph  9 Word Count  47\n",
            "now google has released its own neural-net-based engine for eight language pairs, closing much of the quality gap between its old system and a human translator and fueling increasing interest in the technology. computers today can already produce an eerie echo of human language if fed with the appropriate material.\n",
            "Paragraph  10 Word Count  50\n",
            "using nlp to communicate and summarize complex big data\n",
            "Paragraph  11 Word Count  9\n",
            "business managers have a big data problem. they  and spreadsheets drowning in too much data and trying to compile it all together into meaningful information. arria, a company based in london, has come up with a solution.  a form of artificial intelligence, specialized in communicating information which is extracted from complex data sources in natural language (i.e. as if written by a human).\n",
            "Paragraph  12 Word Count  61\n",
            "it literally takes an organization’s data and transforms it into language, not standard computer-generated text that is overly technical and difficult to read, but natural human language that reads like a literate and well-educated person wrote it.\n",
            "Paragraph  13 Word Count  37\n",
            "arria’s software can turn a spreadsheet full of data, that is dragged and dropped automatically into a written description of the contents, complete with trends, essentially providing business reports. the arria nlg platform has achieved this through two main elements: an analytics component that is programmed to embody the expert knowledge of the domain in which it operates; and, a natural language generation component, which embodies the skill required to communicate information articulately using natural language.\n",
            "Paragraph  14 Word Count  74\n",
            "in , aria announced the private beta launch of articulator lite, a cloud-based toolkit that allows users to build their own applications that create content from data. what does this mean? matt gould, arria’s chief strategy officer, likes to think arria will free chief financial officers from having to write up the same old routine analyses for the board, giving them time to develop more creative approaches. now computers allow an enterprise to analyze all that information and present it back to whatever human needs it, for whatever reason, in actual written or natural language.\n",
            "Paragraph  15 Word Count  92\n",
            "using nlp to turn language into useful data\n",
            "Paragraph  16 Word Count  8\n",
            " technology built on 200 million text pages, encyclopedias, dictionaries, thesauri, taxonomies, ontologies, and other databases has gained traction. ai has helped data-rich companies such as america’s west-coast tech giants organize much of the world’s information into interactive databases such as google’s knowledge graph.\n",
            "Paragraph  17 Word Count  43\n",
            ", a silicon valley startup, answers questions phrased in natural language about a company’s business data. if a user wants to know which online ads resulted in the most sales in california last month, the software automatically translates the typed question into a database query. however, behind the scenes, a human working for datalingvo, vets the query to correct mis-interpretations by the computer. now nlp enthusiasts have a drive to develop a smarter software application than google, perhaps one that better understands the context of a user’s question (e.g. knows that a person is a student needing information for a report vs a field expert).\n",
            "Paragraph  18 Word Count  104\n",
            "natural language processing has much promise in data security as well.  cognitive phishing detection capability uses machine learning to help businesses detect a phishing site up to 250 percent faster than traditional methods.\n",
            "Paragraph  19 Word Count  32\n",
            "in addition, watson for cyber security recently launched by ibm, uses natural language processing to gain insights from security documents, aiding cyber security in organizations. , uses around 200 parameters to identifying a speaker, providing access. the software is probably more secure than a fingerprint, says brett beranek, a senior manager at the company.\n",
            "Paragraph  20 Word Count  53\n",
            "with nlp advances in security, consumers will pay by the sound of their voices. alipay, a ubiquitous mobile payments service in china uses a chatbot system, adept at deep learning and created by ant, to carry on conversations and provide answers. with cutting-edge advances in nlp, data security in the financial industry will continue to see substantial changes ahead.\n",
            "Paragraph  21 Word Count  58\n",
            "natural language processing and the future\n",
            "Paragraph  22 Word Count  6\n",
            "advancements in nlp have implications in data governance.  copious amounts of data from users, raising important legal issues about data ownership, privacy, and security. will take over more control of what we see and do, but big brother isn’t the government, it’s the big tech corporations: google, microsoft, facebook, amazon, and others. governments, to be effective, will need to develop new regulations around how data gathered and disseminated through nlp. especially where nlp will be tied to financial gain.\n",
            "Paragraph  23 Word Count  77\n",
            "an  is already piloting nlp  (in combination with rpa) to digitize its sourcing approach for its long-tail spend – the long list of small purchases that together may account for only a few percentage points of the budget. it uses using natural language processing to interpret free-form text and match order requirements to groups of suppliers, cuing the procurement robot to compare bids and make a purchase. this could change business across a multiple of industries. organizations around the world will need to be ready to benefit from nlp’s presence.\n",
            "Paragraph  24 Word Count  89\n",
            "nlp technology will continue to gain momentum. if you get into a car accident  in the near future, you’ll be able to pull out your smartphone, take a photo, and file an insurance claim with an ai system. mit’s  develops data science methods, primarily based on natural language processing, network science, and machine learning – towards mapping and analyzing social systems, enabling new forms of human networks for positive change.\n",
            "Paragraph  25 Word Count  68\n",
            "already the media lab’s cortico provides , advocacy and nonprofit organizations, and community influencers tools and programs to connect with their audiences on greater common ground. those with injuries or disabilities that make it hard to write will benefit and use machine translation based on nlp.  natural language processing has come to transform business and its impact will only increase.\n",
            "Paragraph  26 Word Count  57\n"
          ],
          "name": "stdout"
        }
      ]
    },
    {
      "cell_type": "code",
      "metadata": {
        "colab": {
          "base_uri": "https://localhost:8080/"
        },
        "id": "uxHcTiOqtTCd",
        "outputId": "a8a08300-b730-4cc0-8cbb-33b855bcf273"
      },
      "source": [
        "with open('/content/Text Mining and NLP/Welcome.txt') as fhead:\n",
        "  text = fhead.read()\n",
        "\n",
        "print(text)"
      ],
      "execution_count": 37,
      "outputs": [
        {
          "output_type": "stream",
          "text": [
            "Welcome to Text Mining and Natural Language Processing\n"
          ],
          "name": "stdout"
        }
      ]
    },
    {
      "cell_type": "code",
      "metadata": {
        "id": "ReG5jxdktvKk"
      },
      "source": [
        "doc = Document()\n",
        "doc.add_paragraph(text)\n",
        "for paragraph in document.paragraphs:\n",
        "  doc.add_paragraph(paragraph.text)\n",
        "doc.save('/content/Text Mining and NLP/NLP.docx')"
      ],
      "execution_count": 44,
      "outputs": []
    },
    {
      "cell_type": "code",
      "metadata": {
        "colab": {
          "base_uri": "https://localhost:8080/"
        },
        "id": "_TrwKairuNVO",
        "outputId": "c4107e57-c834-4dc2-c8a0-1f3a05a6ceee"
      },
      "source": [
        "document = Document(\"/content/Text Mining and NLP/NLP.docx\")\n",
        "print(\"Number of paragraphs:\", len(document.paragraphs))\n",
        "for i, paragraph in enumerate(document.paragraphs, start=1):\n",
        "  txt = paragraph.text\n",
        "  txt = txt.lower()\n",
        "  txt_lst = txt.split(\" \")\n",
        "  print(\"Paragraph \", i, \"Word Count \", len(txt_lst))"
      ],
      "execution_count": 46,
      "outputs": [
        {
          "output_type": "stream",
          "text": [
            "Number of paragraphs: 27\n",
            "Paragraph  1 Word Count  8\n",
            "Paragraph  2 Word Count  71\n",
            "Paragraph  3 Word Count  56\n",
            "Paragraph  4 Word Count  132\n",
            "Paragraph  5 Word Count  26\n",
            "Paragraph  6 Word Count  6\n",
            "Paragraph  7 Word Count  68\n",
            "Paragraph  8 Word Count  38\n",
            "Paragraph  9 Word Count  61\n",
            "Paragraph  10 Word Count  47\n",
            "Paragraph  11 Word Count  50\n",
            "Paragraph  12 Word Count  9\n",
            "Paragraph  13 Word Count  61\n",
            "Paragraph  14 Word Count  37\n",
            "Paragraph  15 Word Count  74\n",
            "Paragraph  16 Word Count  92\n",
            "Paragraph  17 Word Count  8\n",
            "Paragraph  18 Word Count  43\n",
            "Paragraph  19 Word Count  104\n",
            "Paragraph  20 Word Count  32\n",
            "Paragraph  21 Word Count  53\n",
            "Paragraph  22 Word Count  58\n",
            "Paragraph  23 Word Count  6\n",
            "Paragraph  24 Word Count  77\n",
            "Paragraph  25 Word Count  89\n",
            "Paragraph  26 Word Count  68\n",
            "Paragraph  27 Word Count  57\n"
          ],
          "name": "stdout"
        }
      ]
    },
    {
      "cell_type": "markdown",
      "metadata": {
        "id": "NUpeGKbEHOlI"
      },
      "source": [
        "#### Question 4"
      ]
    },
    {
      "cell_type": "code",
      "metadata": {
        "colab": {
          "base_uri": "https://localhost:8080/",
          "height": 221
        },
        "id": "OPT-YFi62K-7",
        "outputId": "e64c06ad-9d4c-4ac5-f1af-f57fe96b6f4e"
      },
      "source": [
        "import pandas as pd\n",
        "\n",
        "df = pd.read_csv(\"EmployeeDetails.csv\")\n",
        "print(df.shape)\n",
        "df.head()"
      ],
      "execution_count": 65,
      "outputs": [
        {
          "output_type": "stream",
          "text": [
            "(6, 3)\n"
          ],
          "name": "stdout"
        },
        {
          "output_type": "execute_result",
          "data": {
            "text/html": [
              "<div>\n",
              "<style scoped>\n",
              "    .dataframe tbody tr th:only-of-type {\n",
              "        vertical-align: middle;\n",
              "    }\n",
              "\n",
              "    .dataframe tbody tr th {\n",
              "        vertical-align: top;\n",
              "    }\n",
              "\n",
              "    .dataframe thead th {\n",
              "        text-align: right;\n",
              "    }\n",
              "</style>\n",
              "<table border=\"1\" class=\"dataframe\">\n",
              "  <thead>\n",
              "    <tr style=\"text-align: right;\">\n",
              "      <th></th>\n",
              "      <th>Name</th>\n",
              "      <th>Age</th>\n",
              "      <th>Salary</th>\n",
              "    </tr>\n",
              "  </thead>\n",
              "  <tbody>\n",
              "    <tr>\n",
              "      <th>0</th>\n",
              "      <td>Arjun singh</td>\n",
              "      <td>24</td>\n",
              "      <td>10000</td>\n",
              "    </tr>\n",
              "    <tr>\n",
              "      <th>1</th>\n",
              "      <td>Vibhor Jha</td>\n",
              "      <td>26</td>\n",
              "      <td>25000</td>\n",
              "    </tr>\n",
              "    <tr>\n",
              "      <th>2</th>\n",
              "      <td>Yoshita Debnath</td>\n",
              "      <td>23</td>\n",
              "      <td>15000</td>\n",
              "    </tr>\n",
              "    <tr>\n",
              "      <th>3</th>\n",
              "      <td>Abhitesh Setia</td>\n",
              "      <td>25</td>\n",
              "      <td>18000</td>\n",
              "    </tr>\n",
              "    <tr>\n",
              "      <th>4</th>\n",
              "      <td>Shaurya Nayar</td>\n",
              "      <td>26</td>\n",
              "      <td>30000</td>\n",
              "    </tr>\n",
              "  </tbody>\n",
              "</table>\n",
              "</div>"
            ],
            "text/plain": [
              "             Name   Age  Salary\n",
              "0     Arjun singh    24   10000\n",
              "1       Vibhor Jha   26   25000\n",
              "2  Yoshita Debnath   23   15000\n",
              "3   Abhitesh Setia   25   18000\n",
              "4    Shaurya Nayar   26   30000"
            ]
          },
          "metadata": {
            "tags": []
          },
          "execution_count": 65
        }
      ]
    },
    {
      "cell_type": "code",
      "metadata": {
        "colab": {
          "base_uri": "https://localhost:8080/"
        },
        "id": "N1uHDg5iFIIF",
        "outputId": "4db1b6af-d551-4f74-86e5-30dcc832a35c"
      },
      "source": [
        "df.columns"
      ],
      "execution_count": 66,
      "outputs": [
        {
          "output_type": "execute_result",
          "data": {
            "text/plain": [
              "Index(['Name ', 'Age', 'Salary'], dtype='object')"
            ]
          },
          "metadata": {
            "tags": []
          },
          "execution_count": 66
        }
      ]
    },
    {
      "cell_type": "code",
      "metadata": {
        "id": "12Mpz8ksFMTW"
      },
      "source": [
        "df.rename({\"Name \":\"Name\"}, axis=1, inplace=True)"
      ],
      "execution_count": 67,
      "outputs": []
    },
    {
      "cell_type": "code",
      "metadata": {
        "id": "8OdafMaBEdTa"
      },
      "source": [
        "df['First Name'] = df.Name.apply(lambda x: x.split(\" \")[0])\n",
        "df['Last Name'] = df.Name.apply(lambda x: x.split(\" \")[1])"
      ],
      "execution_count": 68,
      "outputs": []
    },
    {
      "cell_type": "code",
      "metadata": {
        "colab": {
          "base_uri": "https://localhost:8080/",
          "height": 235
        },
        "id": "JMekLlIdFgV_",
        "outputId": "272264b1-d75e-4e63-f8dc-17980f8f9bb2"
      },
      "source": [
        "df"
      ],
      "execution_count": 69,
      "outputs": [
        {
          "output_type": "execute_result",
          "data": {
            "text/html": [
              "<div>\n",
              "<style scoped>\n",
              "    .dataframe tbody tr th:only-of-type {\n",
              "        vertical-align: middle;\n",
              "    }\n",
              "\n",
              "    .dataframe tbody tr th {\n",
              "        vertical-align: top;\n",
              "    }\n",
              "\n",
              "    .dataframe thead th {\n",
              "        text-align: right;\n",
              "    }\n",
              "</style>\n",
              "<table border=\"1\" class=\"dataframe\">\n",
              "  <thead>\n",
              "    <tr style=\"text-align: right;\">\n",
              "      <th></th>\n",
              "      <th>Name</th>\n",
              "      <th>Age</th>\n",
              "      <th>Salary</th>\n",
              "      <th>First Name</th>\n",
              "      <th>Last Name</th>\n",
              "    </tr>\n",
              "  </thead>\n",
              "  <tbody>\n",
              "    <tr>\n",
              "      <th>0</th>\n",
              "      <td>Arjun singh</td>\n",
              "      <td>24</td>\n",
              "      <td>10000</td>\n",
              "      <td>Arjun</td>\n",
              "      <td>singh</td>\n",
              "    </tr>\n",
              "    <tr>\n",
              "      <th>1</th>\n",
              "      <td>Vibhor Jha</td>\n",
              "      <td>26</td>\n",
              "      <td>25000</td>\n",
              "      <td>Vibhor</td>\n",
              "      <td>Jha</td>\n",
              "    </tr>\n",
              "    <tr>\n",
              "      <th>2</th>\n",
              "      <td>Yoshita Debnath</td>\n",
              "      <td>23</td>\n",
              "      <td>15000</td>\n",
              "      <td>Yoshita</td>\n",
              "      <td>Debnath</td>\n",
              "    </tr>\n",
              "    <tr>\n",
              "      <th>3</th>\n",
              "      <td>Abhitesh Setia</td>\n",
              "      <td>25</td>\n",
              "      <td>18000</td>\n",
              "      <td>Abhitesh</td>\n",
              "      <td>Setia</td>\n",
              "    </tr>\n",
              "    <tr>\n",
              "      <th>4</th>\n",
              "      <td>Shaurya Nayar</td>\n",
              "      <td>26</td>\n",
              "      <td>30000</td>\n",
              "      <td>Shaurya</td>\n",
              "      <td>Nayar</td>\n",
              "    </tr>\n",
              "    <tr>\n",
              "      <th>5</th>\n",
              "      <td>Disha Gupta</td>\n",
              "      <td>27</td>\n",
              "      <td>23000</td>\n",
              "      <td>Disha</td>\n",
              "      <td>Gupta</td>\n",
              "    </tr>\n",
              "  </tbody>\n",
              "</table>\n",
              "</div>"
            ],
            "text/plain": [
              "              Name  Age  Salary First Name Last Name\n",
              "0     Arjun singh    24   10000      Arjun     singh\n",
              "1       Vibhor Jha   26   25000     Vibhor       Jha\n",
              "2  Yoshita Debnath   23   15000    Yoshita   Debnath\n",
              "3   Abhitesh Setia   25   18000   Abhitesh     Setia\n",
              "4    Shaurya Nayar   26   30000    Shaurya     Nayar\n",
              "5      Disha Gupta   27   23000      Disha     Gupta"
            ]
          },
          "metadata": {
            "tags": []
          },
          "execution_count": 69
        }
      ]
    },
    {
      "cell_type": "code",
      "metadata": {
        "colab": {
          "base_uri": "https://localhost:8080/",
          "height": 235
        },
        "id": "TPNg9UF2F1tg",
        "outputId": "a28f0ecc-edb8-4294-99b5-63c84cf813ba"
      },
      "source": [
        "df.drop(['Name'], axis=1, inplace=True)\n",
        "df"
      ],
      "execution_count": 70,
      "outputs": [
        {
          "output_type": "execute_result",
          "data": {
            "text/html": [
              "<div>\n",
              "<style scoped>\n",
              "    .dataframe tbody tr th:only-of-type {\n",
              "        vertical-align: middle;\n",
              "    }\n",
              "\n",
              "    .dataframe tbody tr th {\n",
              "        vertical-align: top;\n",
              "    }\n",
              "\n",
              "    .dataframe thead th {\n",
              "        text-align: right;\n",
              "    }\n",
              "</style>\n",
              "<table border=\"1\" class=\"dataframe\">\n",
              "  <thead>\n",
              "    <tr style=\"text-align: right;\">\n",
              "      <th></th>\n",
              "      <th>Age</th>\n",
              "      <th>Salary</th>\n",
              "      <th>First Name</th>\n",
              "      <th>Last Name</th>\n",
              "    </tr>\n",
              "  </thead>\n",
              "  <tbody>\n",
              "    <tr>\n",
              "      <th>0</th>\n",
              "      <td>24</td>\n",
              "      <td>10000</td>\n",
              "      <td>Arjun</td>\n",
              "      <td>singh</td>\n",
              "    </tr>\n",
              "    <tr>\n",
              "      <th>1</th>\n",
              "      <td>26</td>\n",
              "      <td>25000</td>\n",
              "      <td>Vibhor</td>\n",
              "      <td>Jha</td>\n",
              "    </tr>\n",
              "    <tr>\n",
              "      <th>2</th>\n",
              "      <td>23</td>\n",
              "      <td>15000</td>\n",
              "      <td>Yoshita</td>\n",
              "      <td>Debnath</td>\n",
              "    </tr>\n",
              "    <tr>\n",
              "      <th>3</th>\n",
              "      <td>25</td>\n",
              "      <td>18000</td>\n",
              "      <td>Abhitesh</td>\n",
              "      <td>Setia</td>\n",
              "    </tr>\n",
              "    <tr>\n",
              "      <th>4</th>\n",
              "      <td>26</td>\n",
              "      <td>30000</td>\n",
              "      <td>Shaurya</td>\n",
              "      <td>Nayar</td>\n",
              "    </tr>\n",
              "    <tr>\n",
              "      <th>5</th>\n",
              "      <td>27</td>\n",
              "      <td>23000</td>\n",
              "      <td>Disha</td>\n",
              "      <td>Gupta</td>\n",
              "    </tr>\n",
              "  </tbody>\n",
              "</table>\n",
              "</div>"
            ],
            "text/plain": [
              "   Age  Salary First Name Last Name\n",
              "0   24   10000      Arjun     singh\n",
              "1   26   25000     Vibhor       Jha\n",
              "2   23   15000    Yoshita   Debnath\n",
              "3   25   18000   Abhitesh     Setia\n",
              "4   26   30000    Shaurya     Nayar\n",
              "5   27   23000      Disha     Gupta"
            ]
          },
          "metadata": {
            "tags": []
          },
          "execution_count": 70
        }
      ]
    },
    {
      "cell_type": "code",
      "metadata": {
        "colab": {
          "base_uri": "https://localhost:8080/",
          "height": 235
        },
        "id": "JGxZdlYiGMyH",
        "outputId": "a097a1cb-0e8a-4865-cccd-79722666ca0f"
      },
      "source": [
        "df['Salary'] = df['Salary'] + (df['Salary']*0.1)\n",
        "df.Salary = df.Salary.astype('int')\n",
        "df"
      ],
      "execution_count": 71,
      "outputs": [
        {
          "output_type": "execute_result",
          "data": {
            "text/html": [
              "<div>\n",
              "<style scoped>\n",
              "    .dataframe tbody tr th:only-of-type {\n",
              "        vertical-align: middle;\n",
              "    }\n",
              "\n",
              "    .dataframe tbody tr th {\n",
              "        vertical-align: top;\n",
              "    }\n",
              "\n",
              "    .dataframe thead th {\n",
              "        text-align: right;\n",
              "    }\n",
              "</style>\n",
              "<table border=\"1\" class=\"dataframe\">\n",
              "  <thead>\n",
              "    <tr style=\"text-align: right;\">\n",
              "      <th></th>\n",
              "      <th>Age</th>\n",
              "      <th>Salary</th>\n",
              "      <th>First Name</th>\n",
              "      <th>Last Name</th>\n",
              "    </tr>\n",
              "  </thead>\n",
              "  <tbody>\n",
              "    <tr>\n",
              "      <th>0</th>\n",
              "      <td>24</td>\n",
              "      <td>11000</td>\n",
              "      <td>Arjun</td>\n",
              "      <td>singh</td>\n",
              "    </tr>\n",
              "    <tr>\n",
              "      <th>1</th>\n",
              "      <td>26</td>\n",
              "      <td>27500</td>\n",
              "      <td>Vibhor</td>\n",
              "      <td>Jha</td>\n",
              "    </tr>\n",
              "    <tr>\n",
              "      <th>2</th>\n",
              "      <td>23</td>\n",
              "      <td>16500</td>\n",
              "      <td>Yoshita</td>\n",
              "      <td>Debnath</td>\n",
              "    </tr>\n",
              "    <tr>\n",
              "      <th>3</th>\n",
              "      <td>25</td>\n",
              "      <td>19800</td>\n",
              "      <td>Abhitesh</td>\n",
              "      <td>Setia</td>\n",
              "    </tr>\n",
              "    <tr>\n",
              "      <th>4</th>\n",
              "      <td>26</td>\n",
              "      <td>33000</td>\n",
              "      <td>Shaurya</td>\n",
              "      <td>Nayar</td>\n",
              "    </tr>\n",
              "    <tr>\n",
              "      <th>5</th>\n",
              "      <td>27</td>\n",
              "      <td>25300</td>\n",
              "      <td>Disha</td>\n",
              "      <td>Gupta</td>\n",
              "    </tr>\n",
              "  </tbody>\n",
              "</table>\n",
              "</div>"
            ],
            "text/plain": [
              "   Age  Salary First Name Last Name\n",
              "0   24   11000      Arjun     singh\n",
              "1   26   27500     Vibhor       Jha\n",
              "2   23   16500    Yoshita   Debnath\n",
              "3   25   19800   Abhitesh     Setia\n",
              "4   26   33000    Shaurya     Nayar\n",
              "5   27   25300      Disha     Gupta"
            ]
          },
          "metadata": {
            "tags": []
          },
          "execution_count": 71
        }
      ]
    },
    {
      "cell_type": "code",
      "metadata": {
        "id": "oS8TwbZtGt-H"
      },
      "source": [
        "df.to_csv('Employee_Data.csv', index=False)"
      ],
      "execution_count": 72,
      "outputs": []
    }
  ]
}