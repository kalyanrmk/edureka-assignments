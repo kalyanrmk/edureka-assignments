{
  "nbformat": 4,
  "nbformat_minor": 0,
  "metadata": {
    "colab": {
      "name": "Edureka NLP Assignment 1 - Part A.ipynb",
      "provenance": [],
      "collapsed_sections": [],
      "authorship_tag": "ABX9TyO+I/c7+T7+0C5MHBf1XK6P",
      "include_colab_link": true
    },
    "kernelspec": {
      "name": "python3",
      "display_name": "Python 3"
    },
    "language_info": {
      "name": "python"
    }
  },
  "cells": [
    {
      "cell_type": "markdown",
      "metadata": {
        "id": "view-in-github",
        "colab_type": "text"
      },
      "source": [
        "<a href=\"https://colab.research.google.com/github/nandinib1999/edureka-assignments/blob/main/Edureka_NLP_Assignment_1_Part_A.ipynb\" target=\"_parent\"><img src=\"https://colab.research.google.com/assets/colab-badge.svg\" alt=\"Open In Colab\"/></a>"
      ]
    },
    {
      "cell_type": "code",
      "metadata": {
        "colab": {
          "base_uri": "https://localhost:8080/"
        },
        "id": "2VZeHDy-uOob",
        "outputId": "49fd0e75-9f2b-4d0f-cca9-fcb0f9178ee8"
      },
      "source": [
        "import nltk\n",
        "from nltk.tokenize import word_tokenize, sent_tokenize\n",
        "from collections import Counter\n",
        "nltk.download('punkt')\n",
        "\n",
        "def Tokenize(text):\n",
        "  sents = sent_tokenize(text)\n",
        "  all_words = []\n",
        "  for sent in sents:\n",
        "    words = word_tokenize(sent)\n",
        "    words = [x.lower() for x in words]\n",
        "    all_words.extend(words)\n",
        "  \n",
        "  word_freq_count = Counter(all_words)\n",
        "  print(\"word_freq_count:\", word_freq_count)\n",
        "  least_common = word_freq_count.most_common()[-5:]\n",
        "  print(\"5 least occuring tokens:\", least_common)"
      ],
      "execution_count": 16,
      "outputs": [
        {
          "output_type": "stream",
          "text": [
            "[nltk_data] Downloading package punkt to /root/nltk_data...\n",
            "[nltk_data]   Package punkt is already up-to-date!\n"
          ],
          "name": "stdout"
        }
      ]
    },
    {
      "cell_type": "code",
      "metadata": {
        "colab": {
          "base_uri": "https://localhost:8080/"
        },
        "id": "zPoC-96ktjBT",
        "outputId": "2ae32d1c-2150-4c0a-d556-bdd4a2175802"
      },
      "source": [
        "user_input = input()\n",
        "Tokenize(user_input)"
      ],
      "execution_count": 17,
      "outputs": [
        {
          "output_type": "stream",
          "text": [
            "It is a long established fact that a reader will be distracted by the readable content of a page when looking at its layout. The point of using Lorem Ipsum is that it has a more-or-less normal distribution of letters, as opposed to using 'Content here, content here', making it look like readable English. Many desktop publishing packages and web page editors now use Lorem Ipsum as their default model text, and a search for 'lorem ipsum' will uncover many web sites still in their infancy. Various versions have evolved over the years, sometimes by accident, sometimes on purpose\n",
            "word_freq_count: Counter({',': 6, 'a': 5, 'it': 3, 'the': 3, 'of': 3, '.': 3, 'ipsum': 3, 'is': 2, 'that': 2, 'will': 2, 'by': 2, 'readable': 2, 'content': 2, 'page': 2, 'using': 2, 'lorem': 2, 'as': 2, 'here': 2, \"'\": 2, 'many': 2, 'and': 2, 'web': 2, 'their': 2, 'sometimes': 2, 'long': 1, 'established': 1, 'fact': 1, 'reader': 1, 'be': 1, 'distracted': 1, 'when': 1, 'looking': 1, 'at': 1, 'its': 1, 'layout': 1, 'point': 1, 'has': 1, 'more-or-less': 1, 'normal': 1, 'distribution': 1, 'letters': 1, 'opposed': 1, 'to': 1, \"'content\": 1, 'making': 1, 'look': 1, 'like': 1, 'english': 1, 'desktop': 1, 'publishing': 1, 'packages': 1, 'editors': 1, 'now': 1, 'use': 1, 'default': 1, 'model': 1, 'text': 1, 'search': 1, 'for': 1, \"'lorem\": 1, 'uncover': 1, 'sites': 1, 'still': 1, 'in': 1, 'infancy': 1, 'various': 1, 'versions': 1, 'have': 1, 'evolved': 1, 'over': 1, 'years': 1, 'accident': 1, 'on': 1, 'purpose': 1})\n",
            "5 least occuring tokens: [('over', 1), ('years', 1), ('accident', 1), ('on', 1), ('purpose', 1)]\n"
          ],
          "name": "stdout"
        }
      ]
    },
    {
      "cell_type": "code",
      "metadata": {
        "colab": {
          "base_uri": "https://localhost:8080/"
        },
        "id": "-8PPFSlLvAo4",
        "outputId": "61fcf04b-ca42-44a1-eb1d-ba3c82de97bf"
      },
      "source": [
        "from nltk.corpus import stopwords\n",
        "import matplotlib.pyplot as plt\n",
        "nltk.download('stopwords')\n",
        "stop_words = stopwords.words('english')\n",
        "\n",
        "def RemoveStopWords(text):\n",
        "  filtered_sentence = [w.lower() for w in text.split(\" \") if not w.lower() in stop_words]\n",
        "  stop_words_in_sent = [w.lower() for w in text.split(\" \") if w.lower() in stop_words]\n",
        "  word_freq_count = Counter(stop_words_in_sent)\n",
        "  print(\"stopword frequency count\")\n",
        "  for stop, cnt in word_freq_count.items():\n",
        "    print(stop, '->', cnt)\n",
        "  plt.figure(figsize=(15, 5))\n",
        "  plt.bar(word_freq_count.keys(), word_freq_count.values())\n",
        "  plt.xticks(rotation=90)\n",
        "  plt.title(\"Stopword count\")\n",
        "  plt.show()"
      ],
      "execution_count": 30,
      "outputs": [
        {
          "output_type": "stream",
          "text": [
            "[nltk_data] Downloading package stopwords to /root/nltk_data...\n",
            "[nltk_data]   Package stopwords is already up-to-date!\n"
          ],
          "name": "stdout"
        }
      ]
    },
    {
      "cell_type": "code",
      "metadata": {
        "colab": {
          "base_uri": "https://localhost:8080/",
          "height": 868
        },
        "id": "Yblgz5SZxzK8",
        "outputId": "b941b363-0579-4f64-e63c-a9f4a47e2881"
      },
      "source": [
        "user_input = input()\n",
        "RemoveStopWords(user_input)"
      ],
      "execution_count": 31,
      "outputs": [
        {
          "output_type": "stream",
          "text": [
            "There are many variations of passages of Lorem Ipsum available, but the majority have suffered alteration in some form, by injected humour, or randomised words which don't look even slightly believable. If you are going to use a passage of Lorem Ipsum, you need to be sure there isn't anything embarrassing hidden in the middle of text. All the Lorem Ipsum generators on the Internet tend to repeat predefined chunks as necessary, making this the first true generator on the Internet. It uses a dictionary of over 200 Latin words, combined with a handful of model sentence structures, to generate Lorem Ipsum which looks reasonable. The generated Lorem Ipsum is therefore always free from repetition, injected humour, or non-characteristic words etc.\n",
            "stopword frequency count\n",
            "there -> 2\n",
            "are -> 2\n",
            "of -> 6\n",
            "but -> 1\n",
            "the -> 7\n",
            "have -> 1\n",
            "in -> 2\n",
            "some -> 1\n",
            "by -> 1\n",
            "or -> 2\n",
            "which -> 2\n",
            "don't -> 1\n",
            "if -> 1\n",
            "you -> 2\n",
            "to -> 4\n",
            "a -> 3\n",
            "be -> 1\n",
            "isn't -> 1\n",
            "all -> 1\n",
            "on -> 2\n",
            "as -> 1\n",
            "this -> 1\n",
            "it -> 1\n",
            "over -> 1\n",
            "with -> 1\n",
            "is -> 1\n",
            "from -> 1\n"
          ],
          "name": "stdout"
        },
        {
          "output_type": "display_data",
          "data": {
            "image/png": "[encoded data removed]",
            "text/plain": [
              "<Figure size 1080x360 with 1 Axes>"
            ]
          },
          "metadata": {
            "tags": [],
            "needs_background": "light"
          }
        }
      ]
    },
    {
      "cell_type": "code",
      "metadata": {
        "colab": {
          "base_uri": "https://localhost:8080/"
        },
        "id": "bo3bTTafzR-V",
        "outputId": "4ea3714a-c5da-4b2d-bc1f-f4fa10036fd3"
      },
      "source": [
        "from nltk.stem import WordNetLemmatizer\n",
        "from nltk.stem import PorterStemmer\n",
        "import pandas as pd\n",
        "nltk.download('wordnet')\n",
        "\n",
        "lemmatizer = WordNetLemmatizer()\n",
        "ps = PorterStemmer()\n",
        "\n",
        "def Lemmatize(text):\n",
        "  lemma_words = [[x, lemmatizer.lemmatize(x).lower()] for x in text.split(\" \")]\n",
        "  return lemma_words\n",
        "\n",
        "def Stemmed(text):\n",
        "  stemmed_words = [[x, ps.stem(x)] for x in text.split(\" \")]\n",
        "  return stemmed_words"
      ],
      "execution_count": 40,
      "outputs": [
        {
          "output_type": "stream",
          "text": [
            "[nltk_data] Downloading package wordnet to /root/nltk_data...\n",
            "[nltk_data]   Package wordnet is already up-to-date!\n"
          ],
          "name": "stdout"
        }
      ]
    },
    {
      "cell_type": "code",
      "metadata": {
        "colab": {
          "base_uri": "https://localhost:8080/"
        },
        "id": "AZUsJXvh0D7U",
        "outputId": "66d5245d-68fa-4b24-e28d-a3ea3611c7f2"
      },
      "source": [
        "import re\n",
        "\n",
        "user_input = input()\n",
        "# Removing all punctuations and special characters from the string as they might \n",
        "# hinder the process of Stemming and Lemmatization\n",
        "user_input = re.sub('[^a-zA-Z0-9\\s]', \"\", user_input)\n",
        "lemma_words = Lemmatize(user_input)\n",
        "stemmed_words = Stemmed(user_input)\n",
        "df_lst = []\n",
        "print(\"Word\\tLemma\\tStem\")\n",
        "for (word, lemma), (word_x, stemmed) in zip(lemma_words, stemmed_words):\n",
        "  print(word, '->', lemma, '->', stemmed)\n",
        "  df_lst.append([word, lemma, stemmed])\n",
        "\n",
        "df = pd.DataFrame(df_lst, columns=[\"Original Word\", \"Lemmatized Form\", \"Stemmed Form\"])\n",
        "df.to_csv(\"word_lemma_stem.csv\", index=False)"
      ],
      "execution_count": 47,
      "outputs": [
        {
          "output_type": "stream",
          "text": [
            "There are many variations of passages of Lorem Ipsum available, but the majority have suffered alteration in some form, by injected humour, or randomised words which don't look even slightly believable. If you are going to use a passage of Lorem Ipsum, you need to be sure there isn't anything embarrassing hidden in the middle of text. All the Lorem Ipsum generators on the Internet tend to repeat predefined chunks as necessary, making this the first true generator on the Internet. It uses a dictionary of over 200 Latin words, combined with a handful of model sentence structures, to generate Lorem Ipsum which looks reasonable. The generated Lorem Ipsum is therefore always free from repetition, injected humour, or non-characteristic words etc.\n",
            "Word\tLemma\tStem\n",
            "There -> there -> there\n",
            "are -> are -> are\n",
            "many -> many -> mani\n",
            "variations -> variation -> variat\n",
            "of -> of -> of\n",
            "passages -> passage -> passag\n",
            "of -> of -> of\n",
            "Lorem -> lorem -> lorem\n",
            "Ipsum -> ipsum -> ipsum\n",
            "available -> available -> avail\n",
            "but -> but -> but\n",
            "the -> the -> the\n",
            "majority -> majority -> major\n",
            "have -> have -> have\n",
            "suffered -> suffered -> suffer\n",
            "alteration -> alteration -> alter\n",
            "in -> in -> in\n",
            "some -> some -> some\n",
            "form -> form -> form\n",
            "by -> by -> by\n",
            "injected -> injected -> inject\n",
            "humour -> humour -> humour\n",
            "or -> or -> or\n",
            "randomised -> randomised -> randomis\n",
            "words -> word -> word\n",
            "which -> which -> which\n",
            "dont -> dont -> dont\n",
            "look -> look -> look\n",
            "even -> even -> even\n",
            "slightly -> slightly -> slightli\n",
            "believable -> believable -> believ\n",
            "If -> if -> If\n",
            "you -> you -> you\n",
            "are -> are -> are\n",
            "going -> going -> go\n",
            "to -> to -> to\n",
            "use -> use -> use\n",
            "a -> a -> a\n",
            "passage -> passage -> passag\n",
            "of -> of -> of\n",
            "Lorem -> lorem -> lorem\n",
            "Ipsum -> ipsum -> ipsum\n",
            "you -> you -> you\n",
            "need -> need -> need\n",
            "to -> to -> to\n",
            "be -> be -> be\n",
            "sure -> sure -> sure\n",
            "there -> there -> there\n",
            "isnt -> isnt -> isnt\n",
            "anything -> anything -> anyth\n",
            "embarrassing -> embarrassing -> embarrass\n",
            "hidden -> hidden -> hidden\n",
            "in -> in -> in\n",
            "the -> the -> the\n",
            "middle -> middle -> middl\n",
            "of -> of -> of\n",
            "text -> text -> text\n",
            "All -> all -> all\n",
            "the -> the -> the\n",
            "Lorem -> lorem -> lorem\n",
            "Ipsum -> ipsum -> ipsum\n",
            "generators -> generator -> gener\n",
            "on -> on -> on\n",
            "the -> the -> the\n",
            "Internet -> internet -> internet\n",
            "tend -> tend -> tend\n",
            "to -> to -> to\n",
            "repeat -> repeat -> repeat\n",
            "predefined -> predefined -> predefin\n",
            "chunks -> chunk -> chunk\n",
            "as -> a -> as\n",
            "necessary -> necessary -> necessari\n",
            "making -> making -> make\n",
            "this -> this -> thi\n",
            "the -> the -> the\n",
            "first -> first -> first\n",
            "true -> true -> true\n",
            "generator -> generator -> gener\n",
            "on -> on -> on\n",
            "the -> the -> the\n",
            "Internet -> internet -> internet\n",
            "It -> it -> It\n",
            "uses -> us -> use\n",
            "a -> a -> a\n",
            "dictionary -> dictionary -> dictionari\n",
            "of -> of -> of\n",
            "over -> over -> over\n",
            "200 -> 200 -> 200\n",
            "Latin -> latin -> latin\n",
            "words -> word -> word\n",
            "combined -> combined -> combin\n",
            "with -> with -> with\n",
            "a -> a -> a\n",
            "handful -> handful -> hand\n",
            "of -> of -> of\n",
            "model -> model -> model\n",
            "sentence -> sentence -> sentenc\n",
            "structures -> structure -> structur\n",
            "to -> to -> to\n",
            "generate -> generate -> gener\n",
            "Lorem -> lorem -> lorem\n",
            "Ipsum -> ipsum -> ipsum\n",
            "which -> which -> which\n",
            "looks -> look -> look\n",
            "reasonable -> reasonable -> reason\n",
            "The -> the -> the\n",
            "generated -> generated -> gener\n",
            "Lorem -> lorem -> lorem\n",
            "Ipsum -> ipsum -> ipsum\n",
            "is -> is -> is\n",
            "therefore -> therefore -> therefor\n",
            "always -> always -> alway\n",
            "free -> free -> free\n",
            "from -> from -> from\n",
            "repetition -> repetition -> repetit\n",
            "injected -> injected -> inject\n",
            "humour -> humour -> humour\n",
            "or -> or -> or\n",
            "noncharacteristic -> noncharacteristic -> noncharacterist\n",
            "words -> word -> word\n",
            "etc -> etc -> etc\n"
          ],
          "name": "stdout"
        }
      ]
    },
    {
      "cell_type": "code",
      "metadata": {
        "colab": {
          "base_uri": "https://localhost:8080/",
          "height": 359
        },
        "id": "j0a_S33o16S-",
        "outputId": "b683a2d8-1fac-4cb9-dc3d-58b0747dda14"
      },
      "source": [
        "df.head(10)"
      ],
      "execution_count": 48,
      "outputs": [
        {
          "output_type": "execute_result",
          "data": {
            "text/html": [
              "<div>\n",
              "<style scoped>\n",
              "    .dataframe tbody tr th:only-of-type {\n",
              "        vertical-align: middle;\n",
              "    }\n",
              "\n",
              "    .dataframe tbody tr th {\n",
              "        vertical-align: top;\n",
              "    }\n",
              "\n",
              "    .dataframe thead th {\n",
              "        text-align: right;\n",
              "    }\n",
              "</style>\n",
              "<table border=\"1\" class=\"dataframe\">\n",
              "  <thead>\n",
              "    <tr style=\"text-align: right;\">\n",
              "      <th></th>\n",
              "      <th>Original Word</th>\n",
              "      <th>Lemmatized Form</th>\n",
              "      <th>Stemmed Form</th>\n",
              "    </tr>\n",
              "  </thead>\n",
              "  <tbody>\n",
              "    <tr>\n",
              "      <th>0</th>\n",
              "      <td>There</td>\n",
              "      <td>there</td>\n",
              "      <td>there</td>\n",
              "    </tr>\n",
              "    <tr>\n",
              "      <th>1</th>\n",
              "      <td>are</td>\n",
              "      <td>are</td>\n",
              "      <td>are</td>\n",
              "    </tr>\n",
              "    <tr>\n",
              "      <th>2</th>\n",
              "      <td>many</td>\n",
              "      <td>many</td>\n",
              "      <td>mani</td>\n",
              "    </tr>\n",
              "    <tr>\n",
              "      <th>3</th>\n",
              "      <td>variations</td>\n",
              "      <td>variation</td>\n",
              "      <td>variat</td>\n",
              "    </tr>\n",
              "    <tr>\n",
              "      <th>4</th>\n",
              "      <td>of</td>\n",
              "      <td>of</td>\n",
              "      <td>of</td>\n",
              "    </tr>\n",
              "    <tr>\n",
              "      <th>5</th>\n",
              "      <td>passages</td>\n",
              "      <td>passage</td>\n",
              "      <td>passag</td>\n",
              "    </tr>\n",
              "    <tr>\n",
              "      <th>6</th>\n",
              "      <td>of</td>\n",
              "      <td>of</td>\n",
              "      <td>of</td>\n",
              "    </tr>\n",
              "    <tr>\n",
              "      <th>7</th>\n",
              "      <td>Lorem</td>\n",
              "      <td>lorem</td>\n",
              "      <td>lorem</td>\n",
              "    </tr>\n",
              "    <tr>\n",
              "      <th>8</th>\n",
              "      <td>Ipsum</td>\n",
              "      <td>ipsum</td>\n",
              "      <td>ipsum</td>\n",
              "    </tr>\n",
              "    <tr>\n",
              "      <th>9</th>\n",
              "      <td>available</td>\n",
              "      <td>available</td>\n",
              "      <td>avail</td>\n",
              "    </tr>\n",
              "  </tbody>\n",
              "</table>\n",
              "</div>"
            ],
            "text/plain": [
              "  Original Word Lemmatized Form Stemmed Form\n",
              "0         There           there        there\n",
              "1           are             are          are\n",
              "2          many            many         mani\n",
              "3    variations       variation       variat\n",
              "4            of              of           of\n",
              "5      passages         passage       passag\n",
              "6            of              of           of\n",
              "7         Lorem           lorem        lorem\n",
              "8         Ipsum           ipsum        ipsum\n",
              "9     available       available        avail"
            ]
          },
          "metadata": {
            "tags": []
          },
          "execution_count": 48
        }
      ]
    }
  ]
}