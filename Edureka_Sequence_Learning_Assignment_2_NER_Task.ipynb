{
  "nbformat": 4,
  "nbformat_minor": 0,
  "metadata": {
    "colab": {
      "name": "Edureka Sequence Learning - Assignment 2 - NER Task.ipynb",
      "provenance": [],
      "collapsed_sections": [],
      "mount_file_id": "1tmEozH8K0a772Qll8pn62qnHKBPsIpxJ",
      "authorship_tag": "ABX9TyNlcke5uLolwJ/Fau+Dezts",
      "include_colab_link": true
    },
    "kernelspec": {
      "name": "python3",
      "display_name": "Python 3"
    },
    "language_info": {
      "name": "python"
    },
    "accelerator": "GPU"
  },
  "cells": [
    {
      "cell_type": "markdown",
      "metadata": {
        "id": "view-in-github",
        "colab_type": "text"
      },
      "source": [
        "<a href=\"https://colab.research.google.com/github/nandinib1999/edureka-assignments/blob/main/Edureka_Sequence_Learning_Assignment_2_NER_Task.ipynb\" target=\"_parent\"><img src=\"https://colab.research.google.com/assets/colab-badge.svg\" alt=\"Open In Colab\"/></a>"
      ]
    },
    {
      "cell_type": "markdown",
      "metadata": {
        "id": "9idmXq_t0mMz"
      },
      "source": [
        "### Problem Statement\n",
        "\n",
        "In Natural Language Processing (NLP), Entity Recognition is one of \n",
        "the common problems. NER is a method of extracting the relevant \n",
        "information from a large corpus and classifying those entities into \n",
        "predefined categories such as location, organization, name, and so \n",
        "on. \n",
        "In this problem you are given tagged data for entities, you have to \n",
        "predict those entities using LSTM models."
      ]
    },
    {
      "cell_type": "markdown",
      "metadata": {
        "id": "pFYEF6puwha1"
      },
      "source": [
        "### Installing packages and loading data"
      ]
    },
    {
      "cell_type": "code",
      "metadata": {
        "colab": {
          "base_uri": "https://localhost:8080/"
        },
        "id": "11msyHYSPYvm",
        "outputId": "00386fc2-e034-42c3-f55e-3249740f12be"
      },
      "source": [
        "!pip install sklearn_crfsuite"
      ],
      "execution_count": null,
      "outputs": [
        {
          "output_type": "stream",
          "text": [
            "Collecting sklearn_crfsuite\n",
            "  Downloading https://files.pythonhosted.org/packages/25/74/5b7befa513482e6dee1f3dd68171a6c9dfc14c0eaa00f885ffeba54fe9b0/sklearn_crfsuite-0.3.6-py2.py3-none-any.whl\n",
            "Collecting python-crfsuite>=0.8.3\n",
            "\u001b[?25l  Downloading https://files.pythonhosted.org/packages/79/47/58f16c46506139f17de4630dbcfb877ce41a6355a1bbf3c443edb9708429/python_crfsuite-0.9.7-cp37-cp37m-manylinux1_x86_64.whl (743kB)\n",
            "\u001b[K     |████████████████████████████████| 747kB 10.4MB/s \n",
            "\u001b[?25hRequirement already satisfied: six in /usr/local/lib/python3.7/dist-packages (from sklearn_crfsuite) (1.15.0)\n",
            "Requirement already satisfied: tabulate in /usr/local/lib/python3.7/dist-packages (from sklearn_crfsuite) (0.8.9)\n",
            "Requirement already satisfied: tqdm>=2.0 in /usr/local/lib/python3.7/dist-packages (from sklearn_crfsuite) (4.41.1)\n",
            "Installing collected packages: python-crfsuite, sklearn-crfsuite\n",
            "Successfully installed python-crfsuite-0.9.7 sklearn-crfsuite-0.3.6\n"
          ],
          "name": "stdout"
        }
      ]
    },
    {
      "cell_type": "code",
      "metadata": {
        "colab": {
          "base_uri": "https://localhost:8080/"
        },
        "id": "z1sQlY1Tsxjq",
        "outputId": "e862e722-e2fb-41ff-c1d3-7867fc0817aa"
      },
      "source": [
        "import pandas as pd\n",
        "\n",
        "data = pd.read_csv(\"/content/drive/MyDrive/ner.csv\", encoding = \"ISO-8859-1\", error_bad_lines=False)"
      ],
      "execution_count": null,
      "outputs": [
        {
          "output_type": "stream",
          "text": [
            "b'Skipping line 281837: expected 25 fields, saw 34\\n'\n"
          ],
          "name": "stderr"
        }
      ]
    },
    {
      "cell_type": "code",
      "metadata": {
        "colab": {
          "base_uri": "https://localhost:8080/",
          "height": 430
        },
        "id": "2TyYpFkQ9SRo",
        "outputId": "5ac18a67-b688-4fdf-9055-3fc9d3d828a8"
      },
      "source": [
        "data.head(10)"
      ],
      "execution_count": null,
      "outputs": [
        {
          "output_type": "execute_result",
          "data": {
            "text/html": [
              "<div>\n",
              "<style scoped>\n",
              "    .dataframe tbody tr th:only-of-type {\n",
              "        vertical-align: middle;\n",
              "    }\n",
              "\n",
              "    .dataframe tbody tr th {\n",
              "        vertical-align: top;\n",
              "    }\n",
              "\n",
              "    .dataframe thead th {\n",
              "        text-align: right;\n",
              "    }\n",
              "</style>\n",
              "<table border=\"1\" class=\"dataframe\">\n",
              "  <thead>\n",
              "    <tr style=\"text-align: right;\">\n",
              "      <th></th>\n",
              "      <th>Unnamed: 0</th>\n",
              "      <th>lemma</th>\n",
              "      <th>next-lemma</th>\n",
              "      <th>next-next-lemma</th>\n",
              "      <th>next-next-pos</th>\n",
              "      <th>next-next-shape</th>\n",
              "      <th>next-next-word</th>\n",
              "      <th>next-pos</th>\n",
              "      <th>next-shape</th>\n",
              "      <th>next-word</th>\n",
              "      <th>pos</th>\n",
              "      <th>prev-iob</th>\n",
              "      <th>prev-lemma</th>\n",
              "      <th>prev-pos</th>\n",
              "      <th>prev-prev-iob</th>\n",
              "      <th>prev-prev-lemma</th>\n",
              "      <th>prev-prev-pos</th>\n",
              "      <th>prev-prev-shape</th>\n",
              "      <th>prev-prev-word</th>\n",
              "      <th>prev-shape</th>\n",
              "      <th>prev-word</th>\n",
              "      <th>sentence_idx</th>\n",
              "      <th>shape</th>\n",
              "      <th>word</th>\n",
              "      <th>tag</th>\n",
              "    </tr>\n",
              "  </thead>\n",
              "  <tbody>\n",
              "    <tr>\n",
              "      <th>0</th>\n",
              "      <td>0</td>\n",
              "      <td>thousand</td>\n",
              "      <td>of</td>\n",
              "      <td>demonstr</td>\n",
              "      <td>NNS</td>\n",
              "      <td>lowercase</td>\n",
              "      <td>demonstrators</td>\n",
              "      <td>IN</td>\n",
              "      <td>lowercase</td>\n",
              "      <td>of</td>\n",
              "      <td>NNS</td>\n",
              "      <td>__START1__</td>\n",
              "      <td>__start1__</td>\n",
              "      <td>__START1__</td>\n",
              "      <td>__START2__</td>\n",
              "      <td>__start2__</td>\n",
              "      <td>__START2__</td>\n",
              "      <td>wildcard</td>\n",
              "      <td>__START2__</td>\n",
              "      <td>wildcard</td>\n",
              "      <td>__START1__</td>\n",
              "      <td>1.0</td>\n",
              "      <td>capitalized</td>\n",
              "      <td>Thousands</td>\n",
              "      <td>O</td>\n",
              "    </tr>\n",
              "    <tr>\n",
              "      <th>1</th>\n",
              "      <td>1</td>\n",
              "      <td>of</td>\n",
              "      <td>demonstr</td>\n",
              "      <td>have</td>\n",
              "      <td>VBP</td>\n",
              "      <td>lowercase</td>\n",
              "      <td>have</td>\n",
              "      <td>NNS</td>\n",
              "      <td>lowercase</td>\n",
              "      <td>demonstrators</td>\n",
              "      <td>IN</td>\n",
              "      <td>O</td>\n",
              "      <td>thousand</td>\n",
              "      <td>NNS</td>\n",
              "      <td>__START1__</td>\n",
              "      <td>__start1__</td>\n",
              "      <td>__START1__</td>\n",
              "      <td>wildcard</td>\n",
              "      <td>__START1__</td>\n",
              "      <td>capitalized</td>\n",
              "      <td>Thousands</td>\n",
              "      <td>1.0</td>\n",
              "      <td>lowercase</td>\n",
              "      <td>of</td>\n",
              "      <td>O</td>\n",
              "    </tr>\n",
              "    <tr>\n",
              "      <th>2</th>\n",
              "      <td>2</td>\n",
              "      <td>demonstr</td>\n",
              "      <td>have</td>\n",
              "      <td>march</td>\n",
              "      <td>VBN</td>\n",
              "      <td>lowercase</td>\n",
              "      <td>marched</td>\n",
              "      <td>VBP</td>\n",
              "      <td>lowercase</td>\n",
              "      <td>have</td>\n",
              "      <td>NNS</td>\n",
              "      <td>O</td>\n",
              "      <td>of</td>\n",
              "      <td>IN</td>\n",
              "      <td>O</td>\n",
              "      <td>thousand</td>\n",
              "      <td>NNS</td>\n",
              "      <td>capitalized</td>\n",
              "      <td>Thousands</td>\n",
              "      <td>lowercase</td>\n",
              "      <td>of</td>\n",
              "      <td>1.0</td>\n",
              "      <td>lowercase</td>\n",
              "      <td>demonstrators</td>\n",
              "      <td>O</td>\n",
              "    </tr>\n",
              "    <tr>\n",
              "      <th>3</th>\n",
              "      <td>3</td>\n",
              "      <td>have</td>\n",
              "      <td>march</td>\n",
              "      <td>through</td>\n",
              "      <td>IN</td>\n",
              "      <td>lowercase</td>\n",
              "      <td>through</td>\n",
              "      <td>VBN</td>\n",
              "      <td>lowercase</td>\n",
              "      <td>marched</td>\n",
              "      <td>VBP</td>\n",
              "      <td>O</td>\n",
              "      <td>demonstr</td>\n",
              "      <td>NNS</td>\n",
              "      <td>O</td>\n",
              "      <td>of</td>\n",
              "      <td>IN</td>\n",
              "      <td>lowercase</td>\n",
              "      <td>of</td>\n",
              "      <td>lowercase</td>\n",
              "      <td>demonstrators</td>\n",
              "      <td>1.0</td>\n",
              "      <td>lowercase</td>\n",
              "      <td>have</td>\n",
              "      <td>O</td>\n",
              "    </tr>\n",
              "    <tr>\n",
              "      <th>4</th>\n",
              "      <td>4</td>\n",
              "      <td>march</td>\n",
              "      <td>through</td>\n",
              "      <td>london</td>\n",
              "      <td>NNP</td>\n",
              "      <td>capitalized</td>\n",
              "      <td>London</td>\n",
              "      <td>IN</td>\n",
              "      <td>lowercase</td>\n",
              "      <td>through</td>\n",
              "      <td>VBN</td>\n",
              "      <td>O</td>\n",
              "      <td>have</td>\n",
              "      <td>VBP</td>\n",
              "      <td>O</td>\n",
              "      <td>demonstr</td>\n",
              "      <td>NNS</td>\n",
              "      <td>lowercase</td>\n",
              "      <td>demonstrators</td>\n",
              "      <td>lowercase</td>\n",
              "      <td>have</td>\n",
              "      <td>1.0</td>\n",
              "      <td>lowercase</td>\n",
              "      <td>marched</td>\n",
              "      <td>O</td>\n",
              "    </tr>\n",
              "    <tr>\n",
              "      <th>5</th>\n",
              "      <td>5</td>\n",
              "      <td>through</td>\n",
              "      <td>london</td>\n",
              "      <td>to</td>\n",
              "      <td>TO</td>\n",
              "      <td>lowercase</td>\n",
              "      <td>to</td>\n",
              "      <td>NNP</td>\n",
              "      <td>capitalized</td>\n",
              "      <td>London</td>\n",
              "      <td>IN</td>\n",
              "      <td>O</td>\n",
              "      <td>march</td>\n",
              "      <td>VBN</td>\n",
              "      <td>O</td>\n",
              "      <td>have</td>\n",
              "      <td>VBP</td>\n",
              "      <td>lowercase</td>\n",
              "      <td>have</td>\n",
              "      <td>lowercase</td>\n",
              "      <td>marched</td>\n",
              "      <td>1.0</td>\n",
              "      <td>lowercase</td>\n",
              "      <td>through</td>\n",
              "      <td>O</td>\n",
              "    </tr>\n",
              "    <tr>\n",
              "      <th>6</th>\n",
              "      <td>6</td>\n",
              "      <td>london</td>\n",
              "      <td>to</td>\n",
              "      <td>protest</td>\n",
              "      <td>VB</td>\n",
              "      <td>lowercase</td>\n",
              "      <td>protest</td>\n",
              "      <td>TO</td>\n",
              "      <td>lowercase</td>\n",
              "      <td>to</td>\n",
              "      <td>NNP</td>\n",
              "      <td>O</td>\n",
              "      <td>through</td>\n",
              "      <td>IN</td>\n",
              "      <td>O</td>\n",
              "      <td>march</td>\n",
              "      <td>VBN</td>\n",
              "      <td>lowercase</td>\n",
              "      <td>marched</td>\n",
              "      <td>lowercase</td>\n",
              "      <td>through</td>\n",
              "      <td>1.0</td>\n",
              "      <td>capitalized</td>\n",
              "      <td>London</td>\n",
              "      <td>B-geo</td>\n",
              "    </tr>\n",
              "    <tr>\n",
              "      <th>7</th>\n",
              "      <td>7</td>\n",
              "      <td>to</td>\n",
              "      <td>protest</td>\n",
              "      <td>the</td>\n",
              "      <td>DT</td>\n",
              "      <td>lowercase</td>\n",
              "      <td>the</td>\n",
              "      <td>VB</td>\n",
              "      <td>lowercase</td>\n",
              "      <td>protest</td>\n",
              "      <td>TO</td>\n",
              "      <td>B-geo</td>\n",
              "      <td>london</td>\n",
              "      <td>NNP</td>\n",
              "      <td>O</td>\n",
              "      <td>through</td>\n",
              "      <td>IN</td>\n",
              "      <td>lowercase</td>\n",
              "      <td>through</td>\n",
              "      <td>capitalized</td>\n",
              "      <td>London</td>\n",
              "      <td>1.0</td>\n",
              "      <td>lowercase</td>\n",
              "      <td>to</td>\n",
              "      <td>O</td>\n",
              "    </tr>\n",
              "    <tr>\n",
              "      <th>8</th>\n",
              "      <td>8</td>\n",
              "      <td>protest</td>\n",
              "      <td>the</td>\n",
              "      <td>war</td>\n",
              "      <td>NN</td>\n",
              "      <td>lowercase</td>\n",
              "      <td>war</td>\n",
              "      <td>DT</td>\n",
              "      <td>lowercase</td>\n",
              "      <td>the</td>\n",
              "      <td>VB</td>\n",
              "      <td>O</td>\n",
              "      <td>to</td>\n",
              "      <td>TO</td>\n",
              "      <td>B-geo</td>\n",
              "      <td>london</td>\n",
              "      <td>NNP</td>\n",
              "      <td>capitalized</td>\n",
              "      <td>London</td>\n",
              "      <td>lowercase</td>\n",
              "      <td>to</td>\n",
              "      <td>1.0</td>\n",
              "      <td>lowercase</td>\n",
              "      <td>protest</td>\n",
              "      <td>O</td>\n",
              "    </tr>\n",
              "    <tr>\n",
              "      <th>9</th>\n",
              "      <td>9</td>\n",
              "      <td>the</td>\n",
              "      <td>war</td>\n",
              "      <td>in</td>\n",
              "      <td>IN</td>\n",
              "      <td>lowercase</td>\n",
              "      <td>in</td>\n",
              "      <td>NN</td>\n",
              "      <td>lowercase</td>\n",
              "      <td>war</td>\n",
              "      <td>DT</td>\n",
              "      <td>O</td>\n",
              "      <td>protest</td>\n",
              "      <td>VB</td>\n",
              "      <td>O</td>\n",
              "      <td>to</td>\n",
              "      <td>TO</td>\n",
              "      <td>lowercase</td>\n",
              "      <td>to</td>\n",
              "      <td>lowercase</td>\n",
              "      <td>protest</td>\n",
              "      <td>1.0</td>\n",
              "      <td>lowercase</td>\n",
              "      <td>the</td>\n",
              "      <td>O</td>\n",
              "    </tr>\n",
              "  </tbody>\n",
              "</table>\n",
              "</div>"
            ],
            "text/plain": [
              "   Unnamed: 0     lemma next-lemma  ...        shape           word    tag\n",
              "0           0  thousand         of  ...  capitalized      Thousands      O\n",
              "1           1        of   demonstr  ...    lowercase             of      O\n",
              "2           2  demonstr       have  ...    lowercase  demonstrators      O\n",
              "3           3      have      march  ...    lowercase           have      O\n",
              "4           4     march    through  ...    lowercase        marched      O\n",
              "5           5   through     london  ...    lowercase        through      O\n",
              "6           6    london         to  ...  capitalized         London  B-geo\n",
              "7           7        to    protest  ...    lowercase             to      O\n",
              "8           8   protest        the  ...    lowercase        protest      O\n",
              "9           9       the        war  ...    lowercase            the      O\n",
              "\n",
              "[10 rows x 25 columns]"
            ]
          },
          "metadata": {
            "tags": []
          },
          "execution_count": 2
        }
      ]
    },
    {
      "cell_type": "code",
      "metadata": {
        "id": "qoYk4r8wI4EJ"
      },
      "source": [
        "df = data.drop(['Unnamed: 0', 'lemma', 'next-lemma', 'next-next-lemma', 'next-next-pos',\n",
        "                'next-next-shape', 'next-next-word', 'next-pos', 'next-shape',\n",
        "                'next-word', 'prev-iob', 'prev-lemma', 'prev-pos',\n",
        "                'prev-prev-iob', 'prev-prev-lemma', 'prev-prev-pos', 'prev-prev-shape',\n",
        "                'prev-prev-word', 'prev-shape', 'prev-word', \"pos\", \"shape\"], axis=1)"
      ],
      "execution_count": null,
      "outputs": []
    },
    {
      "cell_type": "code",
      "metadata": {
        "colab": {
          "base_uri": "https://localhost:8080/"
        },
        "id": "nQkj-alNJEdM",
        "outputId": "27c8ec2b-add0-4fd9-dd0f-a1e154dae244"
      },
      "source": [
        "df.columns"
      ],
      "execution_count": null,
      "outputs": [
        {
          "output_type": "execute_result",
          "data": {
            "text/plain": [
              "Index(['sentence_idx', 'word', 'tag'], dtype='object')"
            ]
          },
          "metadata": {
            "tags": []
          },
          "execution_count": 4
        }
      ]
    },
    {
      "cell_type": "code",
      "metadata": {
        "colab": {
          "base_uri": "https://localhost:8080/",
          "height": 359
        },
        "id": "0j6qzQQvJG6S",
        "outputId": "5f78bf40-df9b-4f6b-85bc-fa3551c659fe"
      },
      "source": [
        "df.head(10)"
      ],
      "execution_count": null,
      "outputs": [
        {
          "output_type": "execute_result",
          "data": {
            "text/html": [
              "<div>\n",
              "<style scoped>\n",
              "    .dataframe tbody tr th:only-of-type {\n",
              "        vertical-align: middle;\n",
              "    }\n",
              "\n",
              "    .dataframe tbody tr th {\n",
              "        vertical-align: top;\n",
              "    }\n",
              "\n",
              "    .dataframe thead th {\n",
              "        text-align: right;\n",
              "    }\n",
              "</style>\n",
              "<table border=\"1\" class=\"dataframe\">\n",
              "  <thead>\n",
              "    <tr style=\"text-align: right;\">\n",
              "      <th></th>\n",
              "      <th>sentence_idx</th>\n",
              "      <th>word</th>\n",
              "      <th>tag</th>\n",
              "    </tr>\n",
              "  </thead>\n",
              "  <tbody>\n",
              "    <tr>\n",
              "      <th>0</th>\n",
              "      <td>1.0</td>\n",
              "      <td>Thousands</td>\n",
              "      <td>O</td>\n",
              "    </tr>\n",
              "    <tr>\n",
              "      <th>1</th>\n",
              "      <td>1.0</td>\n",
              "      <td>of</td>\n",
              "      <td>O</td>\n",
              "    </tr>\n",
              "    <tr>\n",
              "      <th>2</th>\n",
              "      <td>1.0</td>\n",
              "      <td>demonstrators</td>\n",
              "      <td>O</td>\n",
              "    </tr>\n",
              "    <tr>\n",
              "      <th>3</th>\n",
              "      <td>1.0</td>\n",
              "      <td>have</td>\n",
              "      <td>O</td>\n",
              "    </tr>\n",
              "    <tr>\n",
              "      <th>4</th>\n",
              "      <td>1.0</td>\n",
              "      <td>marched</td>\n",
              "      <td>O</td>\n",
              "    </tr>\n",
              "    <tr>\n",
              "      <th>5</th>\n",
              "      <td>1.0</td>\n",
              "      <td>through</td>\n",
              "      <td>O</td>\n",
              "    </tr>\n",
              "    <tr>\n",
              "      <th>6</th>\n",
              "      <td>1.0</td>\n",
              "      <td>London</td>\n",
              "      <td>B-geo</td>\n",
              "    </tr>\n",
              "    <tr>\n",
              "      <th>7</th>\n",
              "      <td>1.0</td>\n",
              "      <td>to</td>\n",
              "      <td>O</td>\n",
              "    </tr>\n",
              "    <tr>\n",
              "      <th>8</th>\n",
              "      <td>1.0</td>\n",
              "      <td>protest</td>\n",
              "      <td>O</td>\n",
              "    </tr>\n",
              "    <tr>\n",
              "      <th>9</th>\n",
              "      <td>1.0</td>\n",
              "      <td>the</td>\n",
              "      <td>O</td>\n",
              "    </tr>\n",
              "  </tbody>\n",
              "</table>\n",
              "</div>"
            ],
            "text/plain": [
              "   sentence_idx           word    tag\n",
              "0           1.0      Thousands      O\n",
              "1           1.0             of      O\n",
              "2           1.0  demonstrators      O\n",
              "3           1.0           have      O\n",
              "4           1.0        marched      O\n",
              "5           1.0        through      O\n",
              "6           1.0         London  B-geo\n",
              "7           1.0             to      O\n",
              "8           1.0        protest      O\n",
              "9           1.0            the      O"
            ]
          },
          "metadata": {
            "tags": []
          },
          "execution_count": 5
        }
      ]
    },
    {
      "cell_type": "code",
      "metadata": {
        "colab": {
          "base_uri": "https://localhost:8080/"
        },
        "id": "l_Cg1NhGKPHR",
        "outputId": "88ad761c-8e8e-4886-a393-39fe8175971e"
      },
      "source": [
        "df.shape"
      ],
      "execution_count": null,
      "outputs": [
        {
          "output_type": "execute_result",
          "data": {
            "text/plain": [
              "(1050795, 3)"
            ]
          },
          "metadata": {
            "tags": []
          },
          "execution_count": 6
        }
      ]
    },
    {
      "cell_type": "code",
      "metadata": {
        "colab": {
          "base_uri": "https://localhost:8080/"
        },
        "id": "AAB5LLe8KQ2-",
        "outputId": "57501a84-d94f-4194-819c-80b320d1cefe"
      },
      "source": [
        "df.info()"
      ],
      "execution_count": null,
      "outputs": [
        {
          "output_type": "stream",
          "text": [
            "<class 'pandas.core.frame.DataFrame'>\n",
            "RangeIndex: 1050795 entries, 0 to 1050794\n",
            "Data columns (total 3 columns):\n",
            " #   Column        Non-Null Count    Dtype  \n",
            "---  ------        --------------    -----  \n",
            " 0   sentence_idx  1050794 non-null  float64\n",
            " 1   word          1050794 non-null  object \n",
            " 2   tag           1050794 non-null  object \n",
            "dtypes: float64(1), object(2)\n",
            "memory usage: 24.1+ MB\n"
          ],
          "name": "stdout"
        }
      ]
    },
    {
      "cell_type": "code",
      "metadata": {
        "colab": {
          "base_uri": "https://localhost:8080/"
        },
        "id": "o6XkFdbvKWrp",
        "outputId": "98a553ae-79e1-44ed-a90b-5f2b74dec18a"
      },
      "source": [
        "df.isna().sum()"
      ],
      "execution_count": null,
      "outputs": [
        {
          "output_type": "execute_result",
          "data": {
            "text/plain": [
              "sentence_idx    1\n",
              "word            1\n",
              "tag             1\n",
              "dtype: int64"
            ]
          },
          "metadata": {
            "tags": []
          },
          "execution_count": 8
        }
      ]
    },
    {
      "cell_type": "code",
      "metadata": {
        "colab": {
          "base_uri": "https://localhost:8080/"
        },
        "id": "9dSlXaQ4KgLf",
        "outputId": "87e4dddc-a604-449f-f348-d2e65b5ecc95"
      },
      "source": [
        "df = df[~df.isna().any(axis=1)]\n",
        "df.info()"
      ],
      "execution_count": null,
      "outputs": [
        {
          "output_type": "stream",
          "text": [
            "<class 'pandas.core.frame.DataFrame'>\n",
            "Int64Index: 1050794 entries, 0 to 1050794\n",
            "Data columns (total 3 columns):\n",
            " #   Column        Non-Null Count    Dtype  \n",
            "---  ------        --------------    -----  \n",
            " 0   sentence_idx  1050794 non-null  float64\n",
            " 1   word          1050794 non-null  object \n",
            " 2   tag           1050794 non-null  object \n",
            "dtypes: float64(1), object(2)\n",
            "memory usage: 32.1+ MB\n"
          ],
          "name": "stdout"
        }
      ]
    },
    {
      "cell_type": "code",
      "metadata": {
        "colab": {
          "base_uri": "https://localhost:8080/"
        },
        "id": "uYoFoLJoLCYw",
        "outputId": "be551ed3-7e58-4db9-f091-40f2db7ef748"
      },
      "source": [
        "df.isna().sum()"
      ],
      "execution_count": null,
      "outputs": [
        {
          "output_type": "execute_result",
          "data": {
            "text/plain": [
              "sentence_idx    0\n",
              "word            0\n",
              "tag             0\n",
              "dtype: int64"
            ]
          },
          "metadata": {
            "tags": []
          },
          "execution_count": 10
        }
      ]
    },
    {
      "cell_type": "markdown",
      "metadata": {
        "id": "QOnx1301w0Mo"
      },
      "source": [
        "Upon checking the data manually, I saw that the sentences were repeated in the dataset. That's why I am deleting the duplicate rows from the dataframes for every repeated pair of \"sentence index\" and \"word\"."
      ]
    },
    {
      "cell_type": "code",
      "metadata": {
        "colab": {
          "base_uri": "https://localhost:8080/"
        },
        "id": "sR7k3zvC-e0R",
        "outputId": "bc0efdac-5d2a-46aa-f953-bc83a0476206"
      },
      "source": [
        "df.drop_duplicates(subset =['sentence_idx','word'], keep = 'first', inplace = True)\n",
        "df.shape"
      ],
      "execution_count": null,
      "outputs": [
        {
          "output_type": "execute_result",
          "data": {
            "text/plain": [
              "(715447, 3)"
            ]
          },
          "metadata": {
            "tags": []
          },
          "execution_count": 11
        }
      ]
    },
    {
      "cell_type": "code",
      "metadata": {
        "colab": {
          "base_uri": "https://localhost:8080/"
        },
        "id": "O7gIb8NsQFyy",
        "outputId": "4e8322ba-509d-4948-ad5c-1fb623716b84"
      },
      "source": [
        "df[\"tag\"].value_counts()"
      ],
      "execution_count": null,
      "outputs": [
        {
          "output_type": "execute_result",
          "data": {
            "text/plain": [
              "O        600897\n",
              "B-geo     26718\n",
              "B-tim     14735\n",
              "B-org     14504\n",
              "I-per     12467\n",
              "B-per     12140\n",
              "I-org     11949\n",
              "B-gpe     11221\n",
              "I-geo      5176\n",
              "I-tim      4403\n",
              "B-art       287\n",
              "B-eve       228\n",
              "I-eve       196\n",
              "I-art       185\n",
              "B-nat       156\n",
              "I-gpe       142\n",
              "I-nat        43\n",
              "Name: tag, dtype: int64"
            ]
          },
          "metadata": {
            "tags": []
          },
          "execution_count": 124
        }
      ]
    },
    {
      "cell_type": "markdown",
      "metadata": {
        "id": "9QzuSucHxUgx"
      },
      "source": [
        "We can see that there is a class imbalance in the dataset for the tags. The number of words tagged as \"O\" surpasses the number of words tagged as the other classes."
      ]
    },
    {
      "cell_type": "markdown",
      "metadata": {
        "id": "zamT4kIBxGWM"
      },
      "source": [
        "### Loading all the sentences and the tags in a list"
      ]
    },
    {
      "cell_type": "code",
      "metadata": {
        "id": "CYPPTKaaJzN6"
      },
      "source": [
        "grp_df = df.groupby('sentence_idx')"
      ],
      "execution_count": null,
      "outputs": []
    },
    {
      "cell_type": "code",
      "metadata": {
        "colab": {
          "base_uri": "https://localhost:8080/"
        },
        "id": "mupBBFXaMR9r",
        "outputId": "570a59f1-5d02-4943-8060-bcb90ea425cf"
      },
      "source": [
        "import tqdm\n",
        "\n",
        "all_sentences = []\n",
        "max_len = 0\n",
        "for sent_indx, sent_word_tags in tqdm.tqdm(grp_df, total=len(grp_df)):\n",
        "  word_lst = sent_word_tags['word'].tolist()\n",
        "  tag_lst = sent_word_tags['tag'].tolist()\n",
        "  sent = [(word.lower(), tag) for word, tag in zip(word_lst, tag_lst)]\n",
        "  if max_len < len(sent):\n",
        "    max_len = len(sent)\n",
        "  all_sentences.append(sent)"
      ],
      "execution_count": null,
      "outputs": [
        {
          "output_type": "stream",
          "text": [
            "100%|██████████| 35177/35177 [00:04<00:00, 7368.83it/s]\n"
          ],
          "name": "stderr"
        }
      ]
    },
    {
      "cell_type": "code",
      "metadata": {
        "colab": {
          "base_uri": "https://localhost:8080/"
        },
        "id": "p5PIlYARNpqU",
        "outputId": "6797aaf7-1961-4c3c-875c-075765f8ece5"
      },
      "source": [
        "max_len"
      ],
      "execution_count": null,
      "outputs": [
        {
          "output_type": "execute_result",
          "data": {
            "text/plain": [
              "58"
            ]
          },
          "metadata": {
            "tags": []
          },
          "execution_count": 14
        }
      ]
    },
    {
      "cell_type": "code",
      "metadata": {
        "colab": {
          "base_uri": "https://localhost:8080/"
        },
        "id": "dXk0Yhu0NR8S",
        "outputId": "6775aeaf-e212-4b6c-9d88-9372b8876d22"
      },
      "source": [
        "all_sentences[1]"
      ],
      "execution_count": null,
      "outputs": [
        {
          "output_type": "execute_result",
          "data": {
            "text/plain": [
              "[('families', 'O'),\n",
              " ('of', 'O'),\n",
              " ('soldiers', 'O'),\n",
              " ('killed', 'O'),\n",
              " ('in', 'O'),\n",
              " ('the', 'O'),\n",
              " ('conflict', 'O'),\n",
              " ('joined', 'O'),\n",
              " ('protesters', 'O'),\n",
              " ('who', 'O'),\n",
              " ('carried', 'O'),\n",
              " ('banners', 'O'),\n",
              " ('with', 'O'),\n",
              " ('such', 'O'),\n",
              " ('slogans', 'O'),\n",
              " ('as', 'O'),\n",
              " ('\"', 'O'),\n",
              " ('bush', 'B-per'),\n",
              " ('number', 'O'),\n",
              " ('one', 'O'),\n",
              " ('terrorist', 'O'),\n",
              " ('and', 'O'),\n",
              " ('stop', 'O'),\n",
              " ('bombings', 'O'),\n",
              " ('.', 'O')]"
            ]
          },
          "metadata": {
            "tags": []
          },
          "execution_count": 15
        }
      ]
    },
    {
      "cell_type": "markdown",
      "metadata": {
        "id": "TQ0zfP5SxrRE"
      },
      "source": [
        "#### Counting the unique words and tags in the dataset for mapping every word/tag to a unique index value"
      ]
    },
    {
      "cell_type": "code",
      "metadata": {
        "id": "6CBKzqKcaKTQ"
      },
      "source": [
        "words = list(set(df[\"word\"].values))\n",
        "words = [x.lower() for x in words]\n",
        "words.append(\"EOS\")"
      ],
      "execution_count": null,
      "outputs": []
    },
    {
      "cell_type": "code",
      "metadata": {
        "colab": {
          "base_uri": "https://localhost:8080/"
        },
        "id": "ma1T_l8_a-ca",
        "outputId": "2417effc-c1f0-4cf3-ee6e-7687baf8eaab"
      },
      "source": [
        "n_words = len(words) \n",
        "n_words"
      ],
      "execution_count": null,
      "outputs": [
        {
          "output_type": "execute_result",
          "data": {
            "text/plain": [
              "30173"
            ]
          },
          "metadata": {
            "tags": []
          },
          "execution_count": 17
        }
      ]
    },
    {
      "cell_type": "code",
      "metadata": {
        "id": "aJ24pT5vbBWU"
      },
      "source": [
        "tags = list(set(df[\"tag\"].values))"
      ],
      "execution_count": null,
      "outputs": []
    },
    {
      "cell_type": "code",
      "metadata": {
        "colab": {
          "base_uri": "https://localhost:8080/"
        },
        "id": "dPvLMQA4bDt4",
        "outputId": "4d7eeab7-8f13-409b-95a4-4a7ede8af055"
      },
      "source": [
        "n_tags = len(tags) \n",
        "n_tags"
      ],
      "execution_count": null,
      "outputs": [
        {
          "output_type": "execute_result",
          "data": {
            "text/plain": [
              "17"
            ]
          },
          "metadata": {
            "tags": []
          },
          "execution_count": 19
        }
      ]
    },
    {
      "cell_type": "code",
      "metadata": {
        "id": "pAiUldIabIkk"
      },
      "source": [
        "word2idx = {w: i for i, w in enumerate(words)}\n",
        "tag2idx = {t: i for i, t in enumerate(tags)}"
      ],
      "execution_count": null,
      "outputs": []
    },
    {
      "cell_type": "code",
      "metadata": {
        "id": "7fIeoCpVPQCE"
      },
      "source": [
        "idx2word = {i: w for w, i in word2idx.items()}\n",
        "idx2tag = {i: w for w, i in tag2idx.items()}"
      ],
      "execution_count": null,
      "outputs": []
    },
    {
      "cell_type": "markdown",
      "metadata": {
        "id": "I8glAW5sx8Nt"
      },
      "source": [
        "#### Padding all the sentences and sequence of tags to the length of the longest sentence in the dataset"
      ]
    },
    {
      "cell_type": "code",
      "metadata": {
        "id": "6x0v61IhbMch"
      },
      "source": [
        "from tensorflow.keras.preprocessing.sequence import pad_sequences\n",
        "X = [[word2idx[w[0]] for w in s] for s in all_sentences]"
      ],
      "execution_count": null,
      "outputs": []
    },
    {
      "cell_type": "code",
      "metadata": {
        "id": "Sd3NsjVc_Bg6"
      },
      "source": [
        "X = pad_sequences(maxlen=max_len, sequences=X, padding=\"post\", value=n_words - 1)"
      ],
      "execution_count": null,
      "outputs": []
    },
    {
      "cell_type": "code",
      "metadata": {
        "id": "aNOuLzCj_Gw1"
      },
      "source": [
        "y = [[tag2idx[w[1]] for w in s] for s in all_sentences]"
      ],
      "execution_count": null,
      "outputs": []
    },
    {
      "cell_type": "code",
      "metadata": {
        "id": "Ji_FgyER_MsF"
      },
      "source": [
        "y = pad_sequences(maxlen=max_len, sequences=y, padding=\"post\", value=tag2idx[\"O\"])"
      ],
      "execution_count": null,
      "outputs": []
    },
    {
      "cell_type": "markdown",
      "metadata": {
        "id": "WPWbSTi6yWHC"
      },
      "source": [
        "#### Converting the tags to categorical data to feed into the model"
      ]
    },
    {
      "cell_type": "code",
      "metadata": {
        "id": "PiopJsLO_PuO"
      },
      "source": [
        "from tensorflow.keras.utils import to_categorical\n",
        "y = [to_categorical(i, num_classes=n_tags) for i in y]"
      ],
      "execution_count": null,
      "outputs": []
    },
    {
      "cell_type": "markdown",
      "metadata": {
        "id": "7UtSH25gyeYx"
      },
      "source": [
        "#### Splitting the data into train and test set"
      ]
    },
    {
      "cell_type": "code",
      "metadata": {
        "id": "xqGtpmk6_ZiF"
      },
      "source": [
        "from sklearn.model_selection import train_test_split\n",
        "X_train, X_test, y_train, y_test = train_test_split(X, y, test_size=0.2)"
      ],
      "execution_count": null,
      "outputs": []
    },
    {
      "cell_type": "code",
      "metadata": {
        "id": "RMwutdnc_c5r"
      },
      "source": [
        "from keras.models import Model, Input\n",
        "from keras.layers import LSTM, Embedding, Dense, TimeDistributed, Dropout, Bidirectional"
      ],
      "execution_count": null,
      "outputs": []
    },
    {
      "cell_type": "markdown",
      "metadata": {
        "id": "8x5n8MVGyi8a"
      },
      "source": [
        "#### Defining the four-layered model with BiLSTM"
      ]
    },
    {
      "cell_type": "code",
      "metadata": {
        "colab": {
          "base_uri": "https://localhost:8080/"
        },
        "id": "TIgqjspB_gFj",
        "outputId": "5e74efa1-d1d7-435a-93af-d6017d9f02e1"
      },
      "source": [
        "input = Input(shape=(max_len,))\n",
        "model = Embedding(input_dim=n_words, output_dim=max_len, input_length=max_len)(input)\n",
        "model = Dropout(0.2)(model)\n",
        "model = Bidirectional(LSTM(units=100, return_sequences=True, recurrent_dropout=0.1))(model)\n",
        "out = TimeDistributed(Dense(n_tags, activation=\"softmax\"))(model)"
      ],
      "execution_count": null,
      "outputs": [
        {
          "output_type": "stream",
          "text": [
            "WARNING:tensorflow:Layer lstm will not use cuDNN kernels since it doesn't meet the criteria. It will use a generic GPU kernel as fallback when running on GPU.\n",
            "WARNING:tensorflow:Layer lstm will not use cuDNN kernels since it doesn't meet the criteria. It will use a generic GPU kernel as fallback when running on GPU.\n",
            "WARNING:tensorflow:Layer lstm will not use cuDNN kernels since it doesn't meet the criteria. It will use a generic GPU kernel as fallback when running on GPU.\n"
          ],
          "name": "stdout"
        }
      ]
    },
    {
      "cell_type": "code",
      "metadata": {
        "id": "XM-X9XI-_suE"
      },
      "source": [
        "model = Model(input, out)"
      ],
      "execution_count": null,
      "outputs": []
    },
    {
      "cell_type": "code",
      "metadata": {
        "id": "sZHbW3aC_v8E"
      },
      "source": [
        "model.compile(optimizer=\"adam\", loss=\"categorical_crossentropy\", metrics=[\"accuracy\"])"
      ],
      "execution_count": null,
      "outputs": []
    },
    {
      "cell_type": "code",
      "metadata": {
        "colab": {
          "base_uri": "https://localhost:8080/"
        },
        "id": "6pcPTBJO_xHS",
        "outputId": "7c4d3d09-a4f7-4e73-8b52-68a3b303453a"
      },
      "source": [
        "model.summary()"
      ],
      "execution_count": null,
      "outputs": [
        {
          "output_type": "stream",
          "text": [
            "Model: \"model\"\n",
            "_________________________________________________________________\n",
            "Layer (type)                 Output Shape              Param #   \n",
            "=================================================================\n",
            "input_1 (InputLayer)         [(None, 58)]              0         \n",
            "_________________________________________________________________\n",
            "embedding (Embedding)        (None, 58, 58)            1750034   \n",
            "_________________________________________________________________\n",
            "dropout (Dropout)            (None, 58, 58)            0         \n",
            "_________________________________________________________________\n",
            "bidirectional (Bidirectional (None, 58, 200)           127200    \n",
            "_________________________________________________________________\n",
            "time_distributed (TimeDistri (None, 58, 17)            3417      \n",
            "=================================================================\n",
            "Total params: 1,880,651\n",
            "Trainable params: 1,880,651\n",
            "Non-trainable params: 0\n",
            "_________________________________________________________________\n"
          ],
          "name": "stdout"
        }
      ]
    },
    {
      "cell_type": "code",
      "metadata": {
        "id": "0HC3uH8hBOzU"
      },
      "source": [
        "!mkdir \"saved_model\""
      ],
      "execution_count": null,
      "outputs": []
    },
    {
      "cell_type": "markdown",
      "metadata": {
        "id": "j7bATl4myrsa"
      },
      "source": [
        "#### Initializing some callbacks for model training"
      ]
    },
    {
      "cell_type": "code",
      "metadata": {
        "id": "j_rTLEarAmz6"
      },
      "source": [
        "from tensorflow.keras.callbacks import EarlyStopping, ModelCheckpoint\n",
        "import numpy as np\n",
        "\n",
        "es = EarlyStopping(monitor=\"val_loss\", mode=\"min\", patience=3)\n",
        "checkpt = ModelCheckpoint(\"/content/saved_model\", monitor='val_loss', mode='min', save_best_only=True, verbose=1)"
      ],
      "execution_count": null,
      "outputs": []
    },
    {
      "cell_type": "code",
      "metadata": {
        "colab": {
          "base_uri": "https://localhost:8080/"
        },
        "id": "BdGetzR0_2Pc",
        "outputId": "683c7268-3229-4808-c3e0-400d6291de8b"
      },
      "source": [
        "history = model.fit(X_train, np.array(y_train), batch_size=128, epochs=200, validation_split=0.2, verbose=1, callbacks=[es, checkpt])"
      ],
      "execution_count": null,
      "outputs": [
        {
          "output_type": "stream",
          "text": [
            "Epoch 1/200\n",
            "176/176 [==============================] - 93s 375ms/step - loss: 0.8422 - accuracy: 0.9125 - val_loss: 0.2055 - val_accuracy: 0.9446\n",
            "\n",
            "Epoch 00001: val_loss improved from inf to 0.20551, saving model to /content/saved_model\n",
            "INFO:tensorflow:Assets written to: /content/saved_model/assets\n",
            "Epoch 2/200\n",
            "176/176 [==============================] - 65s 367ms/step - loss: 0.1780 - accuracy: 0.9492 - val_loss: 0.1313 - val_accuracy: 0.9605\n",
            "\n",
            "Epoch 00002: val_loss improved from 0.20551 to 0.13130, saving model to /content/saved_model\n",
            "INFO:tensorflow:Assets written to: /content/saved_model/assets\n",
            "Epoch 3/200\n",
            "176/176 [==============================] - 65s 369ms/step - loss: 0.1173 - accuracy: 0.9652 - val_loss: 0.0902 - val_accuracy: 0.9758\n",
            "\n",
            "Epoch 00003: val_loss improved from 0.13130 to 0.09023, saving model to /content/saved_model\n",
            "INFO:tensorflow:Assets written to: /content/saved_model/assets\n",
            "Epoch 4/200\n",
            "176/176 [==============================] - 64s 366ms/step - loss: 0.0782 - accuracy: 0.9782 - val_loss: 0.0717 - val_accuracy: 0.9796\n",
            "\n",
            "Epoch 00004: val_loss improved from 0.09023 to 0.07168, saving model to /content/saved_model\n",
            "INFO:tensorflow:Assets written to: /content/saved_model/assets\n",
            "Epoch 5/200\n",
            "176/176 [==============================] - 64s 363ms/step - loss: 0.0595 - accuracy: 0.9826 - val_loss: 0.0658 - val_accuracy: 0.9813\n",
            "\n",
            "Epoch 00005: val_loss improved from 0.07168 to 0.06584, saving model to /content/saved_model\n",
            "INFO:tensorflow:Assets written to: /content/saved_model/assets\n",
            "Epoch 6/200\n",
            "176/176 [==============================] - 65s 369ms/step - loss: 0.0506 - accuracy: 0.9851 - val_loss: 0.0648 - val_accuracy: 0.9820\n",
            "\n",
            "Epoch 00006: val_loss improved from 0.06584 to 0.06477, saving model to /content/saved_model\n",
            "INFO:tensorflow:Assets written to: /content/saved_model/assets\n",
            "Epoch 7/200\n",
            "176/176 [==============================] - 65s 367ms/step - loss: 0.0443 - accuracy: 0.9867 - val_loss: 0.0637 - val_accuracy: 0.9824\n",
            "\n",
            "Epoch 00007: val_loss improved from 0.06477 to 0.06374, saving model to /content/saved_model\n",
            "INFO:tensorflow:Assets written to: /content/saved_model/assets\n",
            "Epoch 8/200\n",
            "176/176 [==============================] - 65s 372ms/step - loss: 0.0399 - accuracy: 0.9879 - val_loss: 0.0630 - val_accuracy: 0.9827\n",
            "\n",
            "Epoch 00008: val_loss improved from 0.06374 to 0.06304, saving model to /content/saved_model\n",
            "INFO:tensorflow:Assets written to: /content/saved_model/assets\n",
            "Epoch 9/200\n",
            "176/176 [==============================] - 65s 372ms/step - loss: 0.0369 - accuracy: 0.9888 - val_loss: 0.0635 - val_accuracy: 0.9827\n",
            "\n",
            "Epoch 00009: val_loss did not improve from 0.06304\n",
            "Epoch 10/200\n",
            "176/176 [==============================] - 65s 369ms/step - loss: 0.0333 - accuracy: 0.9897 - val_loss: 0.0636 - val_accuracy: 0.9827\n",
            "\n",
            "Epoch 00010: val_loss did not improve from 0.06304\n",
            "Epoch 11/200\n",
            "176/176 [==============================] - 68s 385ms/step - loss: 0.0312 - accuracy: 0.9903 - val_loss: 0.0644 - val_accuracy: 0.9826\n",
            "\n",
            "Epoch 00011: val_loss did not improve from 0.06304\n"
          ],
          "name": "stdout"
        }
      ]
    },
    {
      "cell_type": "markdown",
      "metadata": {
        "id": "nuqhgaJKyzrH"
      },
      "source": [
        "#### Visualizing the accuracy and loss from model training"
      ]
    },
    {
      "cell_type": "code",
      "metadata": {
        "colab": {
          "base_uri": "https://localhost:8080/",
          "height": 279
        },
        "id": "nIlMQH7kFN3A",
        "outputId": "b26aa732-01f6-48bd-dd94-66080f06bae4"
      },
      "source": [
        "import matplotlib.pyplot as plt\n",
        "\n",
        "plt.plot(history.history['accuracy'])\n",
        "plt.plot(history.history['val_accuracy'])\n",
        "plt.ylabel('accuracy')\n",
        "plt.xlabel('epoch')\n",
        "plt.legend(['train', 'test'], loc='upper left')\n",
        "plt.show()"
      ],
      "execution_count": null,
      "outputs": [
        {
          "output_type": "display_data",
          "data": {
            "image/png": "[encoded data removed]",
            "text/plain": [
              "<Figure size 432x288 with 1 Axes>"
            ]
          },
          "metadata": {
            "tags": [],
            "needs_background": "light"
          }
        }
      ]
    },
    {
      "cell_type": "code",
      "metadata": {
        "colab": {
          "base_uri": "https://localhost:8080/",
          "height": 279
        },
        "id": "An9tgvMyFW5F",
        "outputId": "7c14d2e6-321a-4e0d-bedc-d0de0efbd8cc"
      },
      "source": [
        "import matplotlib.pyplot as plt\n",
        "\n",
        "plt.plot(history.history['loss'])\n",
        "plt.plot(history.history['val_loss'])\n",
        "plt.ylabel('loss')\n",
        "plt.xlabel('epoch')\n",
        "plt.legend(['train', 'test'], loc='upper left')\n",
        "plt.show()"
      ],
      "execution_count": null,
      "outputs": [
        {
          "output_type": "display_data",
          "data": {
            "image/png": "[encoded data removed]",
            "text/plain": [
              "<Figure size 432x288 with 1 Axes>"
            ]
          },
          "metadata": {
            "tags": [],
            "needs_background": "light"
          }
        }
      ]
    },
    {
      "cell_type": "markdown",
      "metadata": {
        "id": "zUJrwasOzHDt"
      },
      "source": [
        "#### Evaluating the model performance based on test data"
      ]
    },
    {
      "cell_type": "code",
      "metadata": {
        "id": "icVm50SwFiZk"
      },
      "source": [
        "raw_test_predictions = model.predict(X_test)\n",
        "test_pred = np.argmax(raw_test_predictions, axis=-1)\n",
        "\n",
        "y_test_labels = np.argmax(y_test, axis=-1)"
      ],
      "execution_count": null,
      "outputs": []
    },
    {
      "cell_type": "code",
      "metadata": {
        "colab": {
          "base_uri": "https://localhost:8080/"
        },
        "id": "lr3ZweCUGOur",
        "outputId": "2229242f-0103-4274-9c32-77b4eb35f9af"
      },
      "source": [
        "test_pred[0]"
      ],
      "execution_count": null,
      "outputs": [
        {
          "output_type": "execute_result",
          "data": {
            "text/plain": [
              "array([1, 8, 8, 8, 8, 8, 8, 8, 8, 8, 8, 8, 1, 8, 8, 8, 8, 8, 8, 8, 8, 8,\n",
              "       8, 8, 8, 8, 8, 8, 8, 8, 8, 8, 8, 8, 8, 8, 8, 8, 8, 8, 8, 8, 8, 8,\n",
              "       8, 8, 8, 8, 8, 8, 8, 8, 8, 8, 8, 8, 8, 8])"
            ]
          },
          "metadata": {
            "tags": []
          },
          "execution_count": 43
        }
      ]
    },
    {
      "cell_type": "code",
      "metadata": {
        "colab": {
          "base_uri": "https://localhost:8080/"
        },
        "id": "okRI2n0BGRTZ",
        "outputId": "ebf17e6b-fb38-40a3-9a04-3f567f94b43a"
      },
      "source": [
        "y_test_labels[0]"
      ],
      "execution_count": null,
      "outputs": [
        {
          "output_type": "execute_result",
          "data": {
            "text/plain": [
              "array([ 1,  8,  8,  8,  8,  8,  8,  8,  8,  8,  8,  8,  9, 15,  8,  8,  8,\n",
              "        8,  8,  8,  8,  8,  8,  8,  8,  8,  8,  8,  8,  8,  8,  8,  8,  8,\n",
              "        8,  8,  8,  8,  8,  8,  8,  8,  8,  8,  8,  8,  8,  8,  8,  8,  8,\n",
              "        8,  8,  8,  8,  8,  8,  8])"
            ]
          },
          "metadata": {
            "tags": []
          },
          "execution_count": 44
        }
      ]
    },
    {
      "cell_type": "code",
      "metadata": {
        "colab": {
          "base_uri": "https://localhost:8080/"
        },
        "id": "CDRUZMqTGt9R",
        "outputId": "235a9b7d-46c8-4008-edd3-2c67b745adbc"
      },
      "source": [
        "import tensorflow as tf\n",
        "\n",
        "test_pred_fl = tf.reshape(test_pred, (test_pred.shape[0]*test_pred.shape[1]))\n",
        "test_pred_fl.shape"
      ],
      "execution_count": null,
      "outputs": [
        {
          "output_type": "execute_result",
          "data": {
            "text/plain": [
              "TensorShape([408088])"
            ]
          },
          "metadata": {
            "tags": []
          },
          "execution_count": 50
        }
      ]
    },
    {
      "cell_type": "code",
      "metadata": {
        "colab": {
          "base_uri": "https://localhost:8080/"
        },
        "id": "lmitrUTfHLyw",
        "outputId": "8cf88b9a-aa1b-4c20-bb46-8c773945c518"
      },
      "source": [
        "y_test_labels_fl = tf.reshape(y_test_labels, (y_test_labels.shape[0]*y_test_labels.shape[1]))\n",
        "y_test_labels_fl.shape"
      ],
      "execution_count": null,
      "outputs": [
        {
          "output_type": "execute_result",
          "data": {
            "text/plain": [
              "TensorShape([408088])"
            ]
          },
          "metadata": {
            "tags": []
          },
          "execution_count": 51
        }
      ]
    },
    {
      "cell_type": "code",
      "metadata": {
        "colab": {
          "base_uri": "https://localhost:8080/"
        },
        "id": "jUkZkfpOFqzI",
        "outputId": "a4b033bf-07e0-44f4-82da-96825477cc0f"
      },
      "source": [
        "from sklearn.metrics import f1_score, accuracy_score\n",
        "\n",
        "f1_score(y_test_labels_fl, test_pred_fl, average=\"weighted\")"
      ],
      "execution_count": null,
      "outputs": [
        {
          "output_type": "execute_result",
          "data": {
            "text/plain": [
              "0.9820577018096401"
            ]
          },
          "metadata": {
            "tags": []
          },
          "execution_count": 71
        }
      ]
    },
    {
      "cell_type": "code",
      "metadata": {
        "colab": {
          "base_uri": "https://localhost:8080/"
        },
        "id": "YebCxnZEKJew",
        "outputId": "44970011-fb33-4aa5-d80a-8637e0e565e4"
      },
      "source": [
        "i = np.random.randint(0, X_test.shape[0])\n",
        "p = model.predict(np.array([X_test[i]]))\n",
        "p = np.argmax(p, axis=-1)\n",
        "print(\"{:14} ({:5}): {}\".format(\"Word\", \"True\", \"Pred\"))\n",
        "for w, true_tag, pred in zip(X_test[i], y_test_labels[i], p[0]):\n",
        "    print(\"{:14}: {}\\t {}\".format(words[w], tags[true_tag], tags[pred]))"
      ],
      "execution_count": null,
      "outputs": [
        {
          "output_type": "stream",
          "text": [
            "Word           (True ): Pred\n",
            "pyongyang     : B-org\t B-org\n",
            "is            : O\t O\n",
            "demanding     : O\t O\n",
            "seoul         : B-org\t B-org\n",
            "pay           : O\t O\n",
            "at            : O\t O\n",
            "least         : O\t O\n",
            "$             : O\t O\n",
            "1             : O\t O\n",
            "billion       : O\t O\n",
            "in            : O\t O\n",
            "compensation  : O\t O\n",
            "for           : O\t O\n",
            "allegedly     : O\t O\n",
            "torturing     : O\t O\n",
            "north         : O\t B-geo\n",
            "korean        : B-gpe\t B-gpe\n",
            "spies         : O\t O\n",
            "and           : O\t O\n",
            "prisoners     : O\t O\n",
            "of            : O\t O\n",
            "war           : O\t O\n",
            "formerly      : O\t O\n",
            "held          : O\t O\n",
            "south         : B-geo\t B-geo\n",
            "korea         : I-geo\t I-geo\n",
            ".             : O\t O\n",
            "EOS           : O\t O\n",
            "EOS           : O\t O\n",
            "EOS           : O\t O\n",
            "EOS           : O\t O\n",
            "EOS           : O\t O\n",
            "EOS           : O\t O\n",
            "EOS           : O\t O\n",
            "EOS           : O\t O\n",
            "EOS           : O\t O\n",
            "EOS           : O\t O\n",
            "EOS           : O\t O\n",
            "EOS           : O\t O\n",
            "EOS           : O\t O\n",
            "EOS           : O\t O\n",
            "EOS           : O\t O\n",
            "EOS           : O\t O\n",
            "EOS           : O\t O\n",
            "EOS           : O\t O\n",
            "EOS           : O\t O\n",
            "EOS           : O\t O\n",
            "EOS           : O\t O\n",
            "EOS           : O\t O\n",
            "EOS           : O\t O\n",
            "EOS           : O\t O\n",
            "EOS           : O\t O\n",
            "EOS           : O\t O\n",
            "EOS           : O\t O\n",
            "EOS           : O\t O\n",
            "EOS           : O\t O\n",
            "EOS           : O\t O\n",
            "EOS           : O\t O\n"
          ],
          "name": "stdout"
        }
      ]
    },
    {
      "cell_type": "markdown",
      "metadata": {
        "id": "pNv2qIMMzNtd"
      },
      "source": [
        "#### Model 2"
      ]
    },
    {
      "cell_type": "code",
      "metadata": {
        "colab": {
          "base_uri": "https://localhost:8080/"
        },
        "id": "DV1Ol8mQLXyX",
        "outputId": "11c8cbe0-ae95-42bb-ac3d-10cb73660ffb"
      },
      "source": [
        "input = Input(shape=(max_len,))\n",
        "model_2 = Embedding(input_dim=n_words, output_dim=max_len, input_length=max_len)(input)\n",
        "model_2 = Dropout(0.2)(model_2)\n",
        "model_2 = Bidirectional(LSTM(units=100, return_sequences=True, recurrent_dropout=0.1))(model_2)\n",
        "output = TimeDistributed(Dense(n_tags, activation=\"softmax\"))(model_2)"
      ],
      "execution_count": null,
      "outputs": [
        {
          "output_type": "stream",
          "text": [
            "WARNING:tensorflow:Layer lstm_1 will not use cuDNN kernels since it doesn't meet the criteria. It will use a generic GPU kernel as fallback when running on GPU.\n",
            "WARNING:tensorflow:Layer lstm_1 will not use cuDNN kernels since it doesn't meet the criteria. It will use a generic GPU kernel as fallback when running on GPU.\n",
            "WARNING:tensorflow:Layer lstm_1 will not use cuDNN kernels since it doesn't meet the criteria. It will use a generic GPU kernel as fallback when running on GPU.\n"
          ],
          "name": "stdout"
        }
      ]
    },
    {
      "cell_type": "code",
      "metadata": {
        "id": "xE3yWcfDLnBl"
      },
      "source": [
        "model_2 = Model(input, output)"
      ],
      "execution_count": null,
      "outputs": []
    },
    {
      "cell_type": "markdown",
      "metadata": {
        "id": "KqHRTRFYzSm6"
      },
      "source": [
        "\"focal loss\" is most popularly used for training the model with imbalanced dataset"
      ]
    },
    {
      "cell_type": "code",
      "metadata": {
        "id": "MTlCkeVILwfN"
      },
      "source": [
        "def focal_loss(gamma=2., alpha=4.):\n",
        "\n",
        "    gamma = float(gamma)\n",
        "    alpha = float(alpha)\n",
        "\n",
        "    def focal_loss_fixed(y_true, y_pred):\n",
        "        \"\"\"Focal loss for multi-classification\n",
        "        FL(p_t)=-alpha(1-p_t)^{gamma}ln(p_t)\n",
        "        Notice: y_pred is probability after softmax\n",
        "        gradient is d(Fl)/d(p_t) not d(Fl)/d(x) as described in paper\n",
        "        d(Fl)/d(p_t) * [p_t(1-p_t)] = d(Fl)/d(x)\n",
        "        Focal Loss for Dense Object Detection\n",
        "        https://arxiv.org/abs/1708.02002\n",
        "\n",
        "        Arguments:\n",
        "            y_true {tensor} -- ground truth labels, shape of [batch_size, num_cls]\n",
        "            y_pred {tensor} -- model's output, shape of [batch_size, num_cls]\n",
        "\n",
        "        Keyword Arguments:\n",
        "            gamma {float} -- (default: {2.0})\n",
        "            alpha {float} -- (default: {4.0})\n",
        "\n",
        "        Returns:\n",
        "            [tensor] -- loss.\n",
        "        \"\"\"\n",
        "        epsilon = 1.e-9\n",
        "        y_true = tf.convert_to_tensor(y_true, tf.float32)\n",
        "        y_pred = tf.convert_to_tensor(y_pred, tf.float32)\n",
        "\n",
        "        model_out = tf.add(y_pred, epsilon)\n",
        "        ce = tf.multiply(y_true, -tf.math.log(model_out))\n",
        "        weight = tf.multiply(y_true, tf.pow(tf.subtract(1., model_out), gamma))\n",
        "        fl = tf.multiply(alpha, tf.multiply(weight, ce))\n",
        "        reduced_fl = tf.reduce_max(fl, axis=1)\n",
        "        return tf.reduce_mean(reduced_fl)\n",
        "    return focal_loss_fixed"
      ],
      "execution_count": null,
      "outputs": []
    },
    {
      "cell_type": "code",
      "metadata": {
        "id": "Upe3UORaLnBl"
      },
      "source": [
        "model_2.compile(optimizer=\"nadam\", loss=focal_loss(alpha=1), metrics=[\"accuracy\"])"
      ],
      "execution_count": null,
      "outputs": []
    },
    {
      "cell_type": "code",
      "metadata": {
        "colab": {
          "base_uri": "https://localhost:8080/"
        },
        "id": "H0LvSWQyLnBm",
        "outputId": "089ed50d-31da-4c73-8c0f-522236d62d41"
      },
      "source": [
        "model_2.summary()"
      ],
      "execution_count": null,
      "outputs": [
        {
          "output_type": "stream",
          "text": [
            "Model: \"model_1\"\n",
            "_________________________________________________________________\n",
            "Layer (type)                 Output Shape              Param #   \n",
            "=================================================================\n",
            "input_2 (InputLayer)         [(None, 58)]              0         \n",
            "_________________________________________________________________\n",
            "embedding_1 (Embedding)      (None, 58, 58)            1750034   \n",
            "_________________________________________________________________\n",
            "dropout_1 (Dropout)          (None, 58, 58)            0         \n",
            "_________________________________________________________________\n",
            "bidirectional_1 (Bidirection (None, 58, 200)           127200    \n",
            "_________________________________________________________________\n",
            "time_distributed_1 (TimeDist (None, 58, 17)            3417      \n",
            "=================================================================\n",
            "Total params: 1,880,651\n",
            "Trainable params: 1,880,651\n",
            "Non-trainable params: 0\n",
            "_________________________________________________________________\n"
          ],
          "name": "stdout"
        }
      ]
    },
    {
      "cell_type": "code",
      "metadata": {
        "id": "ruP-iUw3LnBm"
      },
      "source": [
        "!mkdir \"saved_model_2\""
      ],
      "execution_count": null,
      "outputs": []
    },
    {
      "cell_type": "code",
      "metadata": {
        "id": "iJ7Vxpa1LnBm"
      },
      "source": [
        "from tensorflow.keras.callbacks import EarlyStopping, ModelCheckpoint\n",
        "import numpy as np\n",
        "\n",
        "es = EarlyStopping(monitor=\"val_loss\", mode=\"min\", patience=3)\n",
        "checkpt = ModelCheckpoint(\"/content/saved_model_2\", monitor='val_loss', mode='min', save_best_only=True, verbose=1)"
      ],
      "execution_count": null,
      "outputs": []
    },
    {
      "cell_type": "code",
      "metadata": {
        "colab": {
          "base_uri": "https://localhost:8080/"
        },
        "id": "BExyrGS2LnBn",
        "outputId": "0accff5c-b97f-4218-fd43-258d5067f4f2"
      },
      "source": [
        "history = model_2.fit(X_train, np.array(y_train), batch_size=128, epochs=200, validation_split=0.2, verbose=1, callbacks=[es, checkpt])"
      ],
      "execution_count": null,
      "outputs": [
        {
          "output_type": "stream",
          "text": [
            "Epoch 1/200\n",
            "176/176 [==============================] - 72s 372ms/step - loss: 0.3417 - accuracy: 0.9069 - val_loss: 0.1502 - val_accuracy: 0.9694\n",
            "\n",
            "Epoch 00001: val_loss improved from inf to 0.15021, saving model to /content/saved_model_2\n",
            "INFO:tensorflow:Assets written to: /content/saved_model_2/assets\n",
            "Epoch 2/200\n",
            "176/176 [==============================] - 64s 362ms/step - loss: 0.1341 - accuracy: 0.9714 - val_loss: 0.0993 - val_accuracy: 0.9794\n",
            "\n",
            "Epoch 00002: val_loss improved from 0.15021 to 0.09925, saving model to /content/saved_model_2\n",
            "INFO:tensorflow:Assets written to: /content/saved_model_2/assets\n",
            "Epoch 3/200\n",
            "176/176 [==============================] - 64s 365ms/step - loss: 0.0848 - accuracy: 0.9811 - val_loss: 0.0854 - val_accuracy: 0.9817\n",
            "\n",
            "Epoch 00003: val_loss improved from 0.09925 to 0.08538, saving model to /content/saved_model_2\n",
            "INFO:tensorflow:Assets written to: /content/saved_model_2/assets\n",
            "Epoch 4/200\n",
            "176/176 [==============================] - 65s 367ms/step - loss: 0.0661 - accuracy: 0.9846 - val_loss: 0.0792 - val_accuracy: 0.9824\n",
            "\n",
            "Epoch 00004: val_loss improved from 0.08538 to 0.07917, saving model to /content/saved_model_2\n",
            "INFO:tensorflow:Assets written to: /content/saved_model_2/assets\n",
            "Epoch 5/200\n",
            "176/176 [==============================] - 65s 369ms/step - loss: 0.0546 - accuracy: 0.9864 - val_loss: 0.0801 - val_accuracy: 0.9831\n",
            "\n",
            "Epoch 00005: val_loss did not improve from 0.07917\n",
            "Epoch 6/200\n",
            "176/176 [==============================] - 65s 367ms/step - loss: 0.0478 - accuracy: 0.9875 - val_loss: 0.0770 - val_accuracy: 0.9835\n",
            "\n",
            "Epoch 00006: val_loss improved from 0.07917 to 0.07698, saving model to /content/saved_model_2\n",
            "INFO:tensorflow:Assets written to: /content/saved_model_2/assets\n",
            "Epoch 7/200\n",
            "176/176 [==============================] - 64s 364ms/step - loss: 0.0427 - accuracy: 0.9884 - val_loss: 0.0777 - val_accuracy: 0.9831\n",
            "\n",
            "Epoch 00007: val_loss did not improve from 0.07698\n",
            "Epoch 8/200\n",
            "176/176 [==============================] - 64s 366ms/step - loss: 0.0370 - accuracy: 0.9897 - val_loss: 0.0788 - val_accuracy: 0.9830\n",
            "\n",
            "Epoch 00008: val_loss did not improve from 0.07698\n",
            "Epoch 9/200\n",
            "176/176 [==============================] - 66s 377ms/step - loss: 0.0339 - accuracy: 0.9903 - val_loss: 0.0804 - val_accuracy: 0.9835\n",
            "\n",
            "Epoch 00009: val_loss did not improve from 0.07698\n"
          ],
          "name": "stdout"
        }
      ]
    },
    {
      "cell_type": "code",
      "metadata": {
        "colab": {
          "base_uri": "https://localhost:8080/",
          "height": 279
        },
        "id": "T7sZY-JwLnBn",
        "outputId": "bcbcaec7-d7ec-47d5-ae1c-bf805e5ca480"
      },
      "source": [
        "import matplotlib.pyplot as plt\n",
        "\n",
        "plt.plot(history.history['accuracy'])\n",
        "plt.plot(history.history['val_accuracy'])\n",
        "plt.ylabel('accuracy')\n",
        "plt.xlabel('epoch')\n",
        "plt.legend(['train', 'test'], loc='upper left')\n",
        "plt.show()"
      ],
      "execution_count": null,
      "outputs": [
        {
          "output_type": "display_data",
          "data": {
            "image/png": "[encoded data removed]",
            "text/plain": [
              "<Figure size 432x288 with 1 Axes>"
            ]
          },
          "metadata": {
            "tags": [],
            "needs_background": "light"
          }
        }
      ]
    },
    {
      "cell_type": "code",
      "metadata": {
        "colab": {
          "base_uri": "https://localhost:8080/",
          "height": 279
        },
        "id": "PcX-5gbGLnBo",
        "outputId": "f467364d-0aa8-45a9-f1ba-9b279cbf22f6"
      },
      "source": [
        "import matplotlib.pyplot as plt\n",
        "\n",
        "plt.plot(history.history['loss'])\n",
        "plt.plot(history.history['val_loss'])\n",
        "plt.ylabel('loss')\n",
        "plt.xlabel('epoch')\n",
        "plt.legend(['train', 'test'], loc='upper left')\n",
        "plt.show()"
      ],
      "execution_count": null,
      "outputs": [
        {
          "output_type": "display_data",
          "data": {
            "image/png": "[encoded data removed]",
            "text/plain": [
              "<Figure size 432x288 with 1 Axes>"
            ]
          },
          "metadata": {
            "tags": [],
            "needs_background": "light"
          }
        }
      ]
    },
    {
      "cell_type": "markdown",
      "metadata": {
        "id": "XfsL1aQGziS3"
      },
      "source": [
        "#### Evaluating the model performance"
      ]
    },
    {
      "cell_type": "code",
      "metadata": {
        "id": "kixoMHHOLnBo"
      },
      "source": [
        "raw_test_predictions = model_2.predict(X_test)\n",
        "test_pred = np.argmax(raw_test_predictions, axis=-1)   #taking index  of maximum probab\n",
        "\n",
        "y_test_labels = np.argmax(y_test, axis=-1)"
      ],
      "execution_count": null,
      "outputs": []
    },
    {
      "cell_type": "code",
      "metadata": {
        "colab": {
          "base_uri": "https://localhost:8080/"
        },
        "id": "lGfv3TfYLnBo",
        "outputId": "89ebb587-bd84-45e7-ce86-c86f3064378f"
      },
      "source": [
        "import tensorflow as tf\n",
        "\n",
        "test_pred_fl = tf.reshape(test_pred, (test_pred.shape[0]*test_pred.shape[1]))\n",
        "test_pred_fl.shape"
      ],
      "execution_count": null,
      "outputs": [
        {
          "output_type": "execute_result",
          "data": {
            "text/plain": [
              "TensorShape([408088])"
            ]
          },
          "metadata": {
            "tags": []
          },
          "execution_count": 107
        }
      ]
    },
    {
      "cell_type": "code",
      "metadata": {
        "colab": {
          "base_uri": "https://localhost:8080/"
        },
        "id": "nkqE5aHjLnBp",
        "outputId": "b0861a53-5d50-4ae7-d5df-7b68b11b4276"
      },
      "source": [
        "y_test_labels_fl = tf.reshape(y_test_labels, (y_test_labels.shape[0]*y_test_labels.shape[1]))\n",
        "y_test_labels_fl.shape"
      ],
      "execution_count": null,
      "outputs": [
        {
          "output_type": "execute_result",
          "data": {
            "text/plain": [
              "TensorShape([408088])"
            ]
          },
          "metadata": {
            "tags": []
          },
          "execution_count": 108
        }
      ]
    },
    {
      "cell_type": "code",
      "metadata": {
        "colab": {
          "base_uri": "https://localhost:8080/"
        },
        "id": "MadBvyBhLnBp",
        "outputId": "0c3c0c2d-2d1d-4943-a909-aaf563e840ec"
      },
      "source": [
        "from sklearn.metrics import f1_score, accuracy_score\n",
        "\n",
        "f1_score(y_test_labels_fl, test_pred_fl, average=\"weighted\")"
      ],
      "execution_count": null,
      "outputs": [
        {
          "output_type": "execute_result",
          "data": {
            "text/plain": [
              "0.9831531934280401"
            ]
          },
          "metadata": {
            "tags": []
          },
          "execution_count": 109
        }
      ]
    },
    {
      "cell_type": "code",
      "metadata": {
        "colab": {
          "base_uri": "https://localhost:8080/"
        },
        "id": "je2Ffn7bLnBq",
        "outputId": "eb0c0aae-76c6-4b6b-d35c-1a4a4b3e2840"
      },
      "source": [
        "i = np.random.randint(0, X_test.shape[0])\n",
        "p = model.predict(np.array([X_test[i]]))\n",
        "p = np.argmax(p, axis=-1)\n",
        "print(\"{:14} ({:5}): {}\".format(\"Word\", \"True\", \"Pred\"))\n",
        "for w, true_tag, pred in zip(X_test[i], y_test_labels[i], p[0]):\n",
        "    print(\"{:14}: {}\\t {}\".format(words[w], tags[true_tag], tags[pred]))"
      ],
      "execution_count": null,
      "outputs": [
        {
          "output_type": "stream",
          "text": [
            "Word           (True ): Pred\n",
            "the           : O\t O\n",
            "miami         : B-geo\t B-geo\n",
            "herald        : I-geo\t O\n",
            "newspaper     : O\t O\n",
            "reports       : O\t O\n",
            "the           : O\t O\n",
            "prison        : O\t O\n",
            "upheaval      : O\t O\n",
            "was           : O\t O\n",
            "quashed       : O\t O\n",
            "by            : O\t O\n",
            "mid-afternoon : B-tim\t B-tim\n",
            "when          : O\t O\n",
            "u.n.          : B-org\t B-org\n",
            "troops        : O\t O\n",
            "blocked       : O\t O\n",
            "off           : O\t O\n",
            "streets       : O\t O\n",
            "surrounding   : O\t O\n",
            ".             : O\t O\n",
            "EOS           : O\t O\n",
            "EOS           : O\t O\n",
            "EOS           : O\t O\n",
            "EOS           : O\t O\n",
            "EOS           : O\t O\n",
            "EOS           : O\t O\n",
            "EOS           : O\t O\n",
            "EOS           : O\t O\n",
            "EOS           : O\t O\n",
            "EOS           : O\t O\n",
            "EOS           : O\t O\n",
            "EOS           : O\t O\n",
            "EOS           : O\t O\n",
            "EOS           : O\t O\n",
            "EOS           : O\t O\n",
            "EOS           : O\t O\n",
            "EOS           : O\t O\n",
            "EOS           : O\t O\n",
            "EOS           : O\t O\n",
            "EOS           : O\t O\n",
            "EOS           : O\t O\n",
            "EOS           : O\t O\n",
            "EOS           : O\t O\n",
            "EOS           : O\t O\n",
            "EOS           : O\t O\n",
            "EOS           : O\t O\n",
            "EOS           : O\t O\n",
            "EOS           : O\t O\n",
            "EOS           : O\t O\n",
            "EOS           : O\t O\n",
            "EOS           : O\t O\n",
            "EOS           : O\t O\n",
            "EOS           : O\t O\n",
            "EOS           : O\t O\n",
            "EOS           : O\t O\n",
            "EOS           : O\t O\n",
            "EOS           : O\t O\n",
            "EOS           : O\t O\n"
          ],
          "name": "stdout"
        }
      ]
    },
    {
      "cell_type": "markdown",
      "metadata": {
        "id": "dNQaktsizpWX"
      },
      "source": [
        "#### Classification report for class-wise performance of the model"
      ]
    },
    {
      "cell_type": "code",
      "metadata": {
        "id": "tidT_qghOkmD"
      },
      "source": [
        "y_pred = [[idx2tag[i] for i in row] for row in test_pred]\n",
        "y_test_true = [[idx2tag[i] for i in row] for row in y_test_labels]"
      ],
      "execution_count": null,
      "outputs": []
    },
    {
      "cell_type": "code",
      "metadata": {
        "colab": {
          "base_uri": "https://localhost:8080/"
        },
        "id": "fEKTcg28OpJX",
        "outputId": "9c136864-b2b4-4708-fdb4-4922014caf67"
      },
      "source": [
        "from sklearn_crfsuite.metrics import flat_classification_report\n",
        "\n",
        "report = flat_classification_report(y_pred=y_pred, y_true=y_test_true)\n",
        "print(report)"
      ],
      "execution_count": null,
      "outputs": [
        {
          "output_type": "stream",
          "text": [
            "/usr/local/lib/python3.7/dist-packages/sklearn/metrics/_classification.py:1272: UndefinedMetricWarning: Precision and F-score are ill-defined and being set to 0.0 in labels with no predicted samples. Use `zero_division` parameter to control this behavior.\n",
            "  _warn_prf(average, modifier, msg_start, len(result))\n"
          ],
          "name": "stderr"
        },
        {
          "output_type": "stream",
          "text": [
            "              precision    recall  f1-score   support\n",
            "\n",
            "       B-art       0.67      0.06      0.11        66\n",
            "       B-eve       0.56      0.25      0.34        40\n",
            "       B-geo       0.83      0.85      0.84      5464\n",
            "       B-gpe       0.95      0.93      0.94      2239\n",
            "       B-nat       0.43      0.23      0.30        26\n",
            "       B-org       0.73      0.63      0.68      2931\n",
            "       B-per       0.76      0.81      0.78      2409\n",
            "       B-tim       0.88      0.87      0.87      2927\n",
            "       I-art       0.00      0.00      0.00        40\n",
            "       I-eve       0.47      0.24      0.32        33\n",
            "       I-geo       0.79      0.68      0.73      1098\n",
            "       I-gpe       0.80      0.48      0.60        25\n",
            "       I-nat       0.17      0.14      0.15         7\n",
            "       I-org       0.69      0.57      0.63      2361\n",
            "       I-per       0.84      0.80      0.82      2487\n",
            "       I-tim       0.80      0.65      0.71       878\n",
            "           O       0.99      1.00      0.99    385057\n",
            "\n",
            "    accuracy                           0.98    408088\n",
            "   macro avg       0.67      0.54      0.58    408088\n",
            "weighted avg       0.98      0.98      0.98    408088\n",
            "\n"
          ],
          "name": "stdout"
        }
      ]
    },
    {
      "cell_type": "markdown",
      "metadata": {
        "id": "QdvVIe-0zz3u"
      },
      "source": [
        "### **Final Remarks**\n",
        "\n",
        "I think the model performance in both the cases is acceptable as we are using the conservative approach of BiLSTM modelling for NER task. To improve the performance furthermore, we can make use of CRF layers along with BiLSTMs in the model. It is the SOTA in the field of NLP-NER tasks."
      ]
    }
  ]
}